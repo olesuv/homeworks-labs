{
 "cells": [
  {
   "cell_type": "code",
   "execution_count": 1,
   "id": "bb7cc266-125a-4960-99a4-02d7ae759702",
   "metadata": {},
   "outputs": [],
   "source": [
    "import numpy as np\n",
    "import time"
   ]
  },
  {
   "cell_type": "code",
   "execution_count": 2,
   "id": "0f50c109-292a-48cb-955e-4f2a2fb47c12",
   "metadata": {},
   "outputs": [],
   "source": [
    "def mn_matrix(M: int, N: int):\n",
    "    a = np.random.randn(M, N)\n",
    "    return a\n",
    "\n",
    "def mn_nk(m_1, m_2):\n",
    "    if len(m_1) == 0 or len(m_2) == 0:\n",
    "        raise ValueError(\"Cannot multiply empty matrices\")\n",
    "    if len(m_1[0]) != len(m_2):\n",
    "        raise ValueError(\"N from m_1 should be equal to N in m_2\")\n",
    "\n",
    "    result = []\n",
    "    for i in range(len(m_1)):\n",
    "        row = []\n",
    "        for j in range(len(m_2[0])):\n",
    "            element = 0\n",
    "            for k in range(len(m_2)):\n",
    "                if not (isinstance(m_1[i][k], (int, np.float64))\\\n",
    "                   and isinstance(m_2[k][j], (int, np.float64))):\n",
    "                    raise ValueError(\"Types of values in matrices should be `int` or `np.float64`\")\n",
    "                element += m_1[i][k] * m_2[k][j]\n",
    "            row.append(element)\n",
    "        result.append(row)\n",
    "\n",
    "    return result"
   ]
  },
  {
   "cell_type": "code",
   "execution_count": 3,
   "id": "acb82bb3-242e-4f40-9dad-54ebbcedeb28",
   "metadata": {},
   "outputs": [
    {
     "data": {
      "text/plain": [
       "(array([[ 0.50179975,  1.62543572, -0.78660911, ...,  1.77057601,\n",
       "          0.74330057, -0.18865139],\n",
       "        [ 0.08967443, -1.59834516, -0.63823012, ...,  0.93791778,\n",
       "          1.01867307, -0.51547272],\n",
       "        [-1.93516547,  1.23624954,  0.76121679, ..., -0.36047254,\n",
       "         -0.39093298,  1.69848287],\n",
       "        ...,\n",
       "        [ 0.10120634, -0.68898733, -0.96136518, ..., -0.20443074,\n",
       "         -1.32723618, -0.94788377],\n",
       "        [-2.06031561, -0.30428657, -1.51495773, ...,  0.86962761,\n",
       "          0.55977122, -0.10351374],\n",
       "        [ 2.04231362, -0.06621278, -1.56671222, ..., -0.62015307,\n",
       "         -0.03433657, -0.19116257]]),\n",
       " array([[ 1.26917217,  0.57531668, -0.04577526, ...,  0.88508959,\n",
       "          1.03429912,  0.85264282],\n",
       "        [ 0.55803161,  1.13992596, -0.75750727, ...,  0.60314345,\n",
       "          1.44022699,  0.00399436],\n",
       "        [-1.78563747,  0.91369057,  1.47589439, ..., -1.6152122 ,\n",
       "         -0.3880355 ,  2.3290929 ],\n",
       "        ...,\n",
       "        [ 0.50984804,  0.42797805, -0.98187128, ...,  0.42368407,\n",
       "          2.30568701, -0.71520291],\n",
       "        [ 0.22684706,  0.07173857, -1.83754396, ...,  0.90419958,\n",
       "         -1.50697503,  1.22169342],\n",
       "        [-0.16775804,  0.39861655,  0.57140719, ..., -0.28942208,\n",
       "         -0.0988664 ,  1.11250897]]))"
      ]
     },
     "execution_count": 3,
     "metadata": {},
     "output_type": "execute_result"
    }
   ],
   "source": [
    "mn = mn_matrix(100, 100)\n",
    "nk = mn_matrix(100, 100)\n",
    "\n",
    "mn, nk"
   ]
  },
  {
   "cell_type": "code",
   "execution_count": 4,
   "id": "71fef745-71ff-4168-89d4-03a98fbe65ea",
   "metadata": {},
   "outputs": [
    {
     "name": "stdout",
     "output_type": "stream",
     "text": [
      "Custom matrix multiplication: 1710386358.4582722\n",
      "Numpy matrix multiplication: 1710386358.4588857\n"
     ]
    },
    {
     "data": {
      "text/plain": [
       "True"
      ]
     },
     "execution_count": 4,
     "metadata": {},
     "output_type": "execute_result"
    }
   ],
   "source": [
    "start = time.time()\n",
    "a = mn_nk(mn, nk)\n",
    "end = time.time()\n",
    "# Перевірка на час множення матриці власним методом випадкових чисел\n",
    "print(f\"Custom matrix multiplication: {end}\")\n",
    "\n",
    "start = time.time()\n",
    "b = np.matmul(mn, nk)\n",
    "end = time.time()\n",
    "# Перевірка на час множення матриці вбудованим методом випадкових чисел\n",
    "print(f\"Numpy matrix multiplication: {end}\")\n",
    "\n",
    "# Перевірка на коректність множення матриць\n",
    "np.allclose(a, b, atol=1e-6)"
   ]
  },
  {
   "cell_type": "code",
   "execution_count": 5,
   "id": "24ad2e51-4fad-4f59-9f0c-2a891cdf5bfc",
   "metadata": {},
   "outputs": [],
   "source": [
    "m_1 = [[1, 2], [3, 4]]\n",
    "m_2 = [[5, 6], [7, 8]]\n",
    "\n",
    "# Перевірка на коректність множення матриці заданих чисел\n",
    "expected_result = [[19, 22], [43, 50]]\n",
    "assert mn_nk(m_1, m_2) == expected_result"
   ]
  },
  {
   "cell_type": "code",
   "execution_count": 6,
   "id": "f7a6eb81-d50b-4c72-bfef-eef833fd9c68",
   "metadata": {},
   "outputs": [],
   "source": [
    "m_1 = [[1, 2, 3], [4, 5, 6]]\n",
    "m_2 = [[7, 8], [9, 10]]\n",
    "\n",
    "# Перевірка на коректність множення матриці з різними розмірами\n",
    "try:\n",
    "    mn_nk(m_1, m_2)\n",
    "    assert False, \"ValueError not raised for matrices with different dimensions\"\n",
    "except ValueError as e:\n",
    "    assert str(e) == \"N from m_1 should be equal to N in m_2\""
   ]
  },
  {
   "cell_type": "code",
   "execution_count": 7,
   "id": "f116d7ff-8ab7-4b16-881c-b91f47137c4b",
   "metadata": {},
   "outputs": [],
   "source": [
    "m_1 = [[\"x\", 2], [3, 4]]\n",
    "m_2 = [[5, \"|\"], [7, \"9\"]]\n",
    "\n",
    "# Перевірка на коректність множення матриці з різними типами даних\n",
    "try:\n",
    "    mn_nk(m_1, m_2)\n",
    "    assert False, \"ValueError not raised for matrices with invalid types\"\n",
    "except ValueError as e:\n",
    "    assert str(e) == \"Types of values in matrices should be `int` or `np.float64`\""
   ]
  },
  {
   "cell_type": "code",
   "execution_count": 8,
   "id": "2fe0b30e-b618-4de2-8f78-03cd2891bd6c",
   "metadata": {},
   "outputs": [],
   "source": [
    "m_1 = []\n",
    "m_2 = []\n",
    "\n",
    "# Перевірка на пусті матриці\n",
    "try:\n",
    "    mn_nk(m_1, m_2)\n",
    "    assert False, \"ValueError not raised for empty matrices\"\n",
    "except ValueError as e:\n",
    "    assert str(e) == \"Cannot multiply empty matrices\""
   ]
  },
  {
   "cell_type": "code",
   "execution_count": 9,
   "id": "3308f9c4-57b9-4402-baaf-8d661cf29603",
   "metadata": {},
   "outputs": [],
   "source": [
    "m_1 = [[1, 2], [3, 4]]\n",
    "m_2 = [[1, 0], [0, 1]]\n",
    "\n",
    "# Перевірка множення на одиничну матрицю\n",
    "expected_result = [[1, 2], [3, 4]]\n",
    "assert mn_nk(m_1, m_2) == expected_result"
   ]
  }
 ],
 "metadata": {
  "kernelspec": {
   "display_name": "Python 3 (ipykernel)",
   "language": "python",
   "name": "python3"
  },
  "language_info": {
   "codemirror_mode": {
    "name": "ipython",
    "version": 3
   },
   "file_extension": ".py",
   "mimetype": "text/x-python",
   "name": "python",
   "nbconvert_exporter": "python",
   "pygments_lexer": "ipython3",
   "version": "3.11.6"
  }
 },
 "nbformat": 4,
 "nbformat_minor": 5
}
