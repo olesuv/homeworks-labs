{
 "cells": [
  {
   "cell_type": "code",
   "execution_count": 1,
   "id": "bb7cc266-125a-4960-99a4-02d7ae759702",
   "metadata": {},
   "outputs": [],
   "source": [
    "import numpy as np\n",
    "import time"
   ]
  },
  {
   "cell_type": "code",
   "execution_count": 2,
   "id": "0f50c109-292a-48cb-955e-4f2a2fb47c12",
   "metadata": {},
   "outputs": [],
   "source": [
    "def mn_matrix(M: int, N: int):\n",
    "    a = np.random.randn(M, N)\n",
    "    return a\n",
    "\n",
    "def mn_nk(m_1: list[int], m_2: list[int]):\n",
    "    if len(m_1[0]) != len(m_2):\n",
    "        raise ValueError(\"N from m_1 should be equal to N in m_2\")\n",
    "\n",
    "    result = []\n",
    "    for i in range(len(m_1)):\n",
    "        row = []\n",
    "        for j in range(len(m_2[0])):\n",
    "            element = 0\n",
    "            for k in range(len(m_2)):\n",
    "                if not (isinstance(m_1[i][k], (int, np.float64)) and isinstance(m_2[k][j], (int, np.float64))):\n",
    "                    raise ValueError(\"Types of values in matrices should be `int` or `np.float64`\")\n",
    "                element += m_1[i][k] * m_2[k][j]\n",
    "            row.append(element)\n",
    "        result.append(row)\n",
    "\n",
    "    return result"
   ]
  },
  {
   "cell_type": "code",
   "execution_count": 3,
   "id": "acb82bb3-242e-4f40-9dad-54ebbcedeb28",
   "metadata": {},
   "outputs": [
    {
     "data": {
      "text/plain": [
       "(array([[ 0.32483557,  0.59868345,  0.47245208, ..., -0.42125696,\n",
       "          0.1447568 ,  0.02798993],\n",
       "        [-0.06584819, -0.18106263, -2.53784773, ...,  0.86934862,\n",
       "          0.94072892, -1.329178  ],\n",
       "        [ 0.65797042, -0.63854722, -0.05896529, ...,  1.99392318,\n",
       "         -0.11287097, -0.48212286],\n",
       "        ...,\n",
       "        [ 1.1416621 ,  0.5573528 , -0.50628326, ..., -1.28478651,\n",
       "          2.27125374, -0.44186638],\n",
       "        [ 0.75448938,  0.83967668,  1.16941892, ..., -0.51530787,\n",
       "          0.27837142,  0.9972071 ],\n",
       "        [-1.30475248, -0.12877214, -2.75857945, ..., -0.77113972,\n",
       "         -2.89476712,  1.06785503]]),\n",
       " array([[-1.12830324, -0.00267873, -1.18712325, ...,  0.61548718,\n",
       "          1.56711847,  1.41355209],\n",
       "        [-0.7402562 ,  0.6333886 ,  0.30288071, ...,  0.60242192,\n",
       "          0.03026888,  1.77997539],\n",
       "        [ 0.90888494,  2.1736628 , -0.12628467, ...,  0.23160442,\n",
       "         -1.80633927, -0.66589215],\n",
       "        ...,\n",
       "        [-0.43833238, -0.11580142,  0.3456668 , ..., -0.38737134,\n",
       "         -0.07537062, -1.96878329],\n",
       "        [-1.50602203,  0.52946557, -0.86085787, ..., -0.61629681,\n",
       "          0.00664491, -0.37094944],\n",
       "        [ 0.01780065, -1.30403912, -0.67186448, ...,  1.07465976,\n",
       "         -0.20987153,  0.53632973]]))"
      ]
     },
     "execution_count": 3,
     "metadata": {},
     "output_type": "execute_result"
    }
   ],
   "source": [
    "mn = mn_matrix(100, 100)\n",
    "nk = mn_matrix(100, 100)\n",
    "\n",
    "mn, nk"
   ]
  },
  {
   "cell_type": "code",
   "execution_count": 4,
   "id": "71fef745-71ff-4168-89d4-03a98fbe65ea",
   "metadata": {},
   "outputs": [
    {
     "name": "stdout",
     "output_type": "stream",
     "text": [
      "Custom matrix multiplication: 1710309330.5631106\n",
      "Numpy matrix multiplication: 1710309330.5635028\n"
     ]
    },
    {
     "data": {
      "text/plain": [
       "True"
      ]
     },
     "execution_count": 4,
     "metadata": {},
     "output_type": "execute_result"
    }
   ],
   "source": [
    "start = time.time()\n",
    "a = mn_nk(mn, nk)\n",
    "end = time.time()\n",
    "print(f\"Custom matrix multiplication: {end}\")\n",
    "\n",
    "start = time.time()\n",
    "b = np.matmul(mn, nk)\n",
    "end = time.time()\n",
    "print(f\"Numpy matrix multiplication: {end}\")\n",
    "\n",
    "np.allclose(a, b, atol=1e-6)"
   ]
  },
  {
   "cell_type": "code",
   "execution_count": 7,
   "id": "24ad2e51-4fad-4f59-9f0c-2a891cdf5bfc",
   "metadata": {},
   "outputs": [],
   "source": [
    "m_1 = [[1, 2], [3, 4]]\n",
    "m_2 = [[5, 6], [7, 8]]\n",
    "\n",
    "expected_result = [[19, 22], [43, 50]]\n",
    "assert mn_nk(m_1, m_2) == expected_result"
   ]
  },
  {
   "cell_type": "code",
   "execution_count": 10,
   "id": "f7a6eb81-d50b-4c72-bfef-eef833fd9c68",
   "metadata": {},
   "outputs": [],
   "source": [
    "m_1 = [[1, 2, 3], [4, 5, 6]]\n",
    "m_2 = [[7, 8], [9, 10]]\n",
    "\n",
    "try:\n",
    "    mn_nk(m_1, m_2)\n",
    "    assert False, \"ValueError not raised for matrices with different dimensions\"\n",
    "except ValueError as e:\n",
    "    assert str(e) == \"N from m_1 should be equal to N in m_2\""
   ]
  },
  {
   "cell_type": "code",
   "execution_count": 19,
   "id": "f116d7ff-8ab7-4b16-881c-b91f47137c4b",
   "metadata": {},
   "outputs": [],
   "source": [
    "m_1 = [[\"x\", 2], [3, 4]]\n",
    "m_2 = [[5, \"|\"], [7, \"9\"]]\n",
    "\n",
    "try:\n",
    "    mn_nk(m_1, m_2)\n",
    "    assert False, \"ValueError not raised for matrices with invalid types\"\n",
    "except ValueError as e:\n",
    "    assert str(e) == \"Types of values in matrices should be `int` or `np.float64`\""
   ]
  }
 ],
 "metadata": {
  "kernelspec": {
   "display_name": "Python 3 (ipykernel)",
   "language": "python",
   "name": "python3"
  },
  "language_info": {
   "codemirror_mode": {
    "name": "ipython",
    "version": 3
   },
   "file_extension": ".py",
   "mimetype": "text/x-python",
   "name": "python",
   "nbconvert_exporter": "python",
   "pygments_lexer": "ipython3",
   "version": "3.11.6"
  }
 },
 "nbformat": 4,
 "nbformat_minor": 5
}
