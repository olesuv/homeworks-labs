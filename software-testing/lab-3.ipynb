{
 "cells": [
  {
   "cell_type": "code",
   "execution_count": 1,
   "id": "bb7cc266-125a-4960-99a4-02d7ae759702",
   "metadata": {},
   "outputs": [],
   "source": [
    "import numpy as np\n",
    "import time"
   ]
  },
  {
   "cell_type": "code",
   "execution_count": 2,
   "id": "0f50c109-292a-48cb-955e-4f2a2fb47c12",
   "metadata": {},
   "outputs": [],
   "source": [
    "def mn_matrix(M: int, N: int):\n",
    "    a = np.random.randn(M, N)\n",
    "    return a\n",
    "\n",
    "def mn_nk(m_1: list[int], m_2: list[int]):\n",
    "    if len(m_1[0]) != len(m_2):\n",
    "        raise ValueError(\"N from m_1 should be equal to N in m_2\")\n",
    "\n",
    "    result = []\n",
    "    for i in range(len(m_1)):\n",
    "        row = []\n",
    "        for j in range(len(m_2[0])):\n",
    "            element = 0\n",
    "            for k in range(len(m_2)):\n",
    "                if not (isinstance(m_1[i][k], np.float64) and isinstance(m_2[k][j], np.float64)):\n",
    "                    raise ValueError(\"Types of values in matrices should be `np.float64`\")\n",
    "                element += m_1[i][k] * m_2[k][j]\n",
    "            row.append(element)\n",
    "        result.append(row)\n",
    "\n",
    "    return result"
   ]
  },
  {
   "cell_type": "code",
   "execution_count": 3,
   "id": "acb82bb3-242e-4f40-9dad-54ebbcedeb28",
   "metadata": {},
   "outputs": [
    {
     "data": {
      "text/plain": [
       "(array([[ 1.91705422,  1.35191083,  0.72756917, ...,  1.151337  ,\n",
       "         -1.93373575,  2.54456833],\n",
       "        [-0.40083027, -0.54334659, -0.27283765, ..., -1.09952584,\n",
       "          0.83998245, -0.84485707],\n",
       "        [-0.95183387,  0.67938143, -0.22442515, ..., -0.48959193,\n",
       "          1.06898498,  1.04631313],\n",
       "        ...,\n",
       "        [ 0.11986438, -0.14037714, -1.19576072, ...,  0.96011116,\n",
       "         -0.81946025,  1.42577411],\n",
       "        [ 1.18058272, -0.8733562 , -0.84399809, ..., -0.73675518,\n",
       "          1.45650749,  2.18545689],\n",
       "        [-0.21810802, -0.34006313, -0.15654586, ..., -1.11454272,\n",
       "          0.12705471,  0.67662016]]),\n",
       " array([[ 0.57496162, -0.47998677,  0.7396553 , ..., -0.25467268,\n",
       "          1.46382161, -0.6262162 ],\n",
       "        [-0.62423092, -0.23646892, -0.2809978 , ...,  1.78375003,\n",
       "          0.36959156, -0.77268039],\n",
       "        [-1.21425128,  0.64228867,  0.68447168, ..., -0.27135439,\n",
       "          0.05088397, -0.07134407],\n",
       "        ...,\n",
       "        [ 0.13749874,  0.63359424,  0.99127721, ...,  1.47641479,\n",
       "         -0.784081  ,  0.47273831],\n",
       "        [-0.35752405,  1.0154613 , -0.1378189 , ...,  1.62968062,\n",
       "          0.85637332, -1.27215118],\n",
       "        [-0.44468205,  1.37990068,  1.55992583, ..., -0.25307223,\n",
       "         -1.38239879, -0.02128084]]))"
      ]
     },
     "execution_count": 3,
     "metadata": {},
     "output_type": "execute_result"
    }
   ],
   "source": [
    "mn = mn_matrix(100, 100)\n",
    "nk = mn_matrix(100, 100)\n",
    "\n",
    "mn, nk"
   ]
  },
  {
   "cell_type": "code",
   "execution_count": 4,
   "id": "71fef745-71ff-4168-89d4-03a98fbe65ea",
   "metadata": {},
   "outputs": [
    {
     "name": "stdout",
     "output_type": "stream",
     "text": [
      "Custom matrix multiplication: 1710305407.4919636\n",
      "Numpy matrix multiplication: 1710305407.5004203\n"
     ]
    },
    {
     "data": {
      "text/plain": [
       "True"
      ]
     },
     "execution_count": 4,
     "metadata": {},
     "output_type": "execute_result"
    }
   ],
   "source": [
    "start = time.time()\n",
    "a = mn_nk(mn, nk)\n",
    "end = time.time()\n",
    "print(f\"Custom matrix multiplication: {end}\")\n",
    "\n",
    "start = time.time()\n",
    "b = np.matmul(mn, nk)\n",
    "end = time.time()\n",
    "print(f\"Numpy matrix multiplication: {end}\")\n",
    "\n",
    "np.allclose(a, b, atol=1e-6)"
   ]
  },
  {
   "cell_type": "code",
   "execution_count": 7,
   "id": "f834a5fe-b46d-4728-9070-0d4b3d8979c0",
   "metadata": {},
   "outputs": [
    {
     "ename": "ValueError",
     "evalue": "Types of values in matrices should be `np.float64`",
     "output_type": "error",
     "traceback": [
      "\u001b[0;31m---------------------------------------------------------------------------\u001b[0m",
      "\u001b[0;31mValueError\u001b[0m                                Traceback (most recent call last)",
      "Cell \u001b[0;32mIn[7], line 29\u001b[0m\n\u001b[1;32m     26\u001b[0m     \u001b[38;5;28mprint\u001b[39m(\u001b[38;5;124m\"\u001b[39m\u001b[38;5;124mAll test cases passed!\u001b[39m\u001b[38;5;124m\"\u001b[39m)\n\u001b[1;32m     28\u001b[0m \u001b[38;5;66;03m# Run the test cases\u001b[39;00m\n\u001b[0;32m---> 29\u001b[0m \u001b[43mtest_mn_nk\u001b[49m\u001b[43m(\u001b[49m\u001b[43m)\u001b[49m\n",
      "Cell \u001b[0;32mIn[7], line 6\u001b[0m, in \u001b[0;36mtest_mn_nk\u001b[0;34m()\u001b[0m\n\u001b[1;32m      4\u001b[0m m_2 \u001b[38;5;241m=\u001b[39m [[\u001b[38;5;241m5\u001b[39m, \u001b[38;5;241m6\u001b[39m], [\u001b[38;5;241m7\u001b[39m, \u001b[38;5;241m8\u001b[39m]]\n\u001b[1;32m      5\u001b[0m expected_result \u001b[38;5;241m=\u001b[39m [[\u001b[38;5;241m19\u001b[39m, \u001b[38;5;241m22\u001b[39m], [\u001b[38;5;241m43\u001b[39m, \u001b[38;5;241m50\u001b[39m]]\n\u001b[0;32m----> 6\u001b[0m \u001b[38;5;28;01massert\u001b[39;00m \u001b[43mmn_nk\u001b[49m\u001b[43m(\u001b[49m\u001b[43mm_1\u001b[49m\u001b[43m,\u001b[49m\u001b[43m \u001b[49m\u001b[43mm_2\u001b[49m\u001b[43m)\u001b[49m \u001b[38;5;241m==\u001b[39m expected_result\n\u001b[1;32m      8\u001b[0m \u001b[38;5;66;03m# Test case 2: Matrices with different dimensions\u001b[39;00m\n\u001b[1;32m      9\u001b[0m m_1 \u001b[38;5;241m=\u001b[39m [[\u001b[38;5;241m1\u001b[39m, \u001b[38;5;241m2\u001b[39m, \u001b[38;5;241m3\u001b[39m], [\u001b[38;5;241m4\u001b[39m, \u001b[38;5;241m5\u001b[39m, \u001b[38;5;241m6\u001b[39m]]\n",
      "Cell \u001b[0;32mIn[2], line 16\u001b[0m, in \u001b[0;36mmn_nk\u001b[0;34m(m_1, m_2)\u001b[0m\n\u001b[1;32m     14\u001b[0m \u001b[38;5;28;01mfor\u001b[39;00m k \u001b[38;5;129;01min\u001b[39;00m \u001b[38;5;28mrange\u001b[39m(\u001b[38;5;28mlen\u001b[39m(m_2)):\n\u001b[1;32m     15\u001b[0m     \u001b[38;5;28;01mif\u001b[39;00m \u001b[38;5;129;01mnot\u001b[39;00m (\u001b[38;5;28misinstance\u001b[39m(m_1[i][k], np\u001b[38;5;241m.\u001b[39mfloat64) \u001b[38;5;129;01mand\u001b[39;00m \u001b[38;5;28misinstance\u001b[39m(m_2[k][j], np\u001b[38;5;241m.\u001b[39mfloat64)):\n\u001b[0;32m---> 16\u001b[0m         \u001b[38;5;28;01mraise\u001b[39;00m \u001b[38;5;167;01mValueError\u001b[39;00m(\u001b[38;5;124m\"\u001b[39m\u001b[38;5;124mTypes of values in matrices should be `np.float64`\u001b[39m\u001b[38;5;124m\"\u001b[39m)\n\u001b[1;32m     17\u001b[0m     element \u001b[38;5;241m+\u001b[39m\u001b[38;5;241m=\u001b[39m m_1[i][k] \u001b[38;5;241m*\u001b[39m m_2[k][j]\n\u001b[1;32m     18\u001b[0m row\u001b[38;5;241m.\u001b[39mappend(element)\n",
      "\u001b[0;31mValueError\u001b[0m: Types of values in matrices should be `np.float64`"
     ]
    }
   ],
   "source": [
    "def test_mn_nk():\n",
    "    # Test case 1: Valid matrices\n",
    "    m_1 = [[1, 2], [3, 4]]\n",
    "    m_2 = [[5, 6], [7, 8]]\n",
    "    expected_result = [[19, 22], [43, 50]]\n",
    "    assert mn_nk(m_1, m_2) == expected_result\n",
    "\n",
    "    # Test case 2: Matrices with different dimensions\n",
    "    m_1 = [[1, 2, 3], [4, 5, 6]]\n",
    "    m_2 = [[7, 8], [9, 10]]\n",
    "    try:\n",
    "        mn_nk(m_1, m_2)\n",
    "        assert False, \"ValueError not raised for matrices with different dimensions\"\n",
    "    except ValueError as e:\n",
    "        assert str(e) == \"N from m_1 should be equal to N in m_2\"\n",
    "\n",
    "    # Test case 3: Matrices with invalid types\n",
    "    m_1 = [[1, 2], [3, 4]]\n",
    "    m_2 = [[5, 6], [7, \"8\"]]\n",
    "    try:\n",
    "        mn_nk(m_1, m_2)\n",
    "        assert False, \"ValueError not raised for matrices with invalid types\"\n",
    "    except ValueError as e:\n",
    "        assert str(e) == \"Types of values in matrices should be `np.float64`\"\n",
    "\n",
    "    print(\"All test cases passed!\")\n",
    "\n",
    "# Run the test cases\n",
    "test_mn_nk()"
   ]
  }
 ],
 "metadata": {
  "kernelspec": {
   "display_name": "Python 3 (ipykernel)",
   "language": "python",
   "name": "python3"
  },
  "language_info": {
   "codemirror_mode": {
    "name": "ipython",
    "version": 3
   },
   "file_extension": ".py",
   "mimetype": "text/x-python",
   "name": "python",
   "nbconvert_exporter": "python",
   "pygments_lexer": "ipython3",
   "version": "3.11.6"
  }
 },
 "nbformat": 4,
 "nbformat_minor": 5
}
