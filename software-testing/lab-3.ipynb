{
 "cells": [
  {
   "cell_type": "code",
   "execution_count": 1,
   "id": "bb7cc266-125a-4960-99a4-02d7ae759702",
   "metadata": {},
   "outputs": [],
   "source": [
    "import numpy as np\n",
    "import time"
   ]
  },
  {
   "cell_type": "code",
   "execution_count": 2,
   "id": "0f50c109-292a-48cb-955e-4f2a2fb47c12",
   "metadata": {},
   "outputs": [],
   "source": [
    "def mn_matrix(M: int, N: int):\n",
    "    a = np.random.randn(M, N)\n",
    "    return a\n",
    "\n",
    "def mn_nk(m_1, m_2):\n",
    "    if len(m_1) == 0 or len(m_2) == 0:\n",
    "        raise ValueError(\"Cannot multiply empty matrices\")\n",
    "    if len(m_1[0]) != len(m_2):\n",
    "        raise ValueError(\"N from m_1 should be equal to N in m_2\")\n",
    "\n",
    "    result = []\n",
    "    for i in range(len(m_1)):\n",
    "        row = []\n",
    "        for j in range(len(m_2[0])):\n",
    "            element = 0\n",
    "            for k in range(len(m_2)):\n",
    "                if not (isinstance(m_1[i][k], (int, np.float64))\\\n",
    "                   and isinstance(m_2[k][j], (int, np.float64))):\n",
    "                    raise ValueError(\"Types of values in matrices should be `int` or `np.float64`\")\n",
    "                element += m_1[i][k] * m_2[k][j]\n",
    "            row.append(element)\n",
    "        result.append(row)\n",
    "\n",
    "    return result"
   ]
  },
  {
   "cell_type": "code",
   "execution_count": 3,
   "id": "acb82bb3-242e-4f40-9dad-54ebbcedeb28",
   "metadata": {},
   "outputs": [
    {
     "data": {
      "text/plain": [
       "(array([[ 0.17270512, -0.98780744,  0.52603964, ...,  1.56802164,\n",
       "         -0.6997469 , -1.72356955],\n",
       "        [-1.40779807,  0.98028728, -0.27509585, ..., -0.44846021,\n",
       "          0.50542132, -0.75293831],\n",
       "        [ 0.69758304, -0.21299188, -1.7862445 , ..., -0.63005696,\n",
       "          0.75002242, -1.40490295],\n",
       "        ...,\n",
       "        [-0.45906873,  0.34823315,  1.28224396, ...,  1.96155484,\n",
       "         -1.45757916, -0.36058155],\n",
       "        [-0.81366707, -1.51035828,  1.03019974, ..., -1.15315853,\n",
       "         -1.7310366 , -0.60546955],\n",
       "        [ 0.6674791 , -1.14561891, -0.30331093, ..., -0.2317724 ,\n",
       "         -0.19004546,  1.50711296]]),\n",
       " array([[ 0.52682403,  0.86006552,  0.61559611, ...,  0.00499135,\n",
       "          1.94666395,  1.51794334],\n",
       "        [-0.20937962,  1.58591293,  1.74676338, ..., -0.61318371,\n",
       "         -2.10538659, -0.63225627],\n",
       "        [ 0.41550949,  0.27742645,  0.67353994, ...,  0.44953357,\n",
       "         -0.24900999, -0.55636205],\n",
       "        ...,\n",
       "        [-1.1833624 ,  1.04134585,  1.38165374, ..., -0.21919526,\n",
       "         -1.55275553, -0.47663638],\n",
       "        [-1.1271416 ,  1.70087094, -0.99565356, ...,  3.61590133,\n",
       "         -0.61668195,  0.30755792],\n",
       "        [ 1.61493796,  0.33679768,  0.46764728, ...,  1.29472107,\n",
       "         -0.40369122,  0.49815481]]))"
      ]
     },
     "execution_count": 3,
     "metadata": {},
     "output_type": "execute_result"
    }
   ],
   "source": [
    "mn = mn_matrix(100, 100)\n",
    "nk = mn_matrix(100, 100)\n",
    "\n",
    "mn, nk"
   ]
  },
  {
   "cell_type": "code",
   "execution_count": 4,
   "id": "71fef745-71ff-4168-89d4-03a98fbe65ea",
   "metadata": {},
   "outputs": [
    {
     "name": "stdout",
     "output_type": "stream",
     "text": [
      "Custom matrix multiplication: 1710311656.9898298\n",
      "Numpy matrix multiplication: 1710311656.990209\n"
     ]
    },
    {
     "data": {
      "text/plain": [
       "True"
      ]
     },
     "execution_count": 4,
     "metadata": {},
     "output_type": "execute_result"
    }
   ],
   "source": [
    "start = time.time()\n",
    "a = mn_nk(mn, nk)\n",
    "end = time.time()\n",
    "# Перевірка на час множення матриці власним методом\n",
    "print(f\"Custom matrix multiplication: {end}\")\n",
    "\n",
    "start = time.time()\n",
    "b = np.matmul(mn, nk)\n",
    "end = time.time()\n",
    "# Перевірка на час множення матриці вбудованим методом\n",
    "print(f\"Numpy matrix multiplication: {end}\")\n",
    "\n",
    "# Перевірка на коректність множення матриці використовуючи вбудований метод\n",
    "np.allclose(a, b, atol=1e-6)"
   ]
  },
  {
   "cell_type": "code",
   "execution_count": 5,
   "id": "24ad2e51-4fad-4f59-9f0c-2a891cdf5bfc",
   "metadata": {},
   "outputs": [],
   "source": [
    "m_1 = [[1, 2], [3, 4]]\n",
    "m_2 = [[5, 6], [7, 8]]\n",
    "\n",
    "# Перевірка на коректність множення матриці\n",
    "expected_result = [[19, 22], [43, 50]]\n",
    "assert mn_nk(m_1, m_2) == expected_result"
   ]
  },
  {
   "cell_type": "code",
   "execution_count": 6,
   "id": "f7a6eb81-d50b-4c72-bfef-eef833fd9c68",
   "metadata": {},
   "outputs": [],
   "source": [
    "m_1 = [[1, 2, 3], [4, 5, 6]]\n",
    "m_2 = [[7, 8], [9, 10]]\n",
    "\n",
    "# Перевірка на коректність множення матриці з різними розмірами\n",
    "try:\n",
    "    mn_nk(m_1, m_2)\n",
    "    assert False, \"ValueError not raised for matrices with different dimensions\"\n",
    "except ValueError as e:\n",
    "    assert str(e) == \"N from m_1 should be equal to N in m_2\""
   ]
  },
  {
   "cell_type": "code",
   "execution_count": 7,
   "id": "f116d7ff-8ab7-4b16-881c-b91f47137c4b",
   "metadata": {},
   "outputs": [],
   "source": [
    "m_1 = [[\"x\", 2], [3, 4]]\n",
    "m_2 = [[5, \"|\"], [7, \"9\"]]\n",
    "\n",
    "# Перевірка на коректність множення матриці з різними типами даних\n",
    "try:\n",
    "    mn_nk(m_1, m_2)\n",
    "    assert False, \"ValueError not raised for matrices with invalid types\"\n",
    "except ValueError as e:\n",
    "    assert str(e) == \"Types of values in matrices should be `int` or `np.float64`\""
   ]
  },
  {
   "cell_type": "code",
   "execution_count": 8,
   "id": "2fe0b30e-b618-4de2-8f78-03cd2891bd6c",
   "metadata": {},
   "outputs": [],
   "source": [
    "m_1 = []\n",
    "m_2 = []\n",
    "\n",
    "# Перевірка на пусті матриці\n",
    "try:\n",
    "    mn_nk(m_1, m_2)\n",
    "    assert False, \"ValueError not raised for empty matrices\"\n",
    "except ValueError as e:\n",
    "    assert str(e) == \"Cannot multiply empty matrices\""
   ]
  },
  {
   "cell_type": "code",
   "execution_count": 10,
   "id": "3308f9c4-57b9-4402-baaf-8d661cf29603",
   "metadata": {},
   "outputs": [],
   "source": [
    "# NOTES:\n",
    "# make test cases\n",
    "\n",
    "# Тест на одновимірні матриці\n",
    "m_5 = [1, 2, 3]\n",
    "m_6 = [[1], [2], [3]]\n",
    "\n",
    "# Тест на матрицю з різними розмірами\n",
    "m_7 = [[1, 2], [3, 4]]\n",
    "m_8 = [[1, 2, 3], [4, 5, 6], [7, 8, 9]]\n",
    "\n",
    "# Тест на множення на одиничну матрицю\n",
    "m_9 = [[1, 2], [3, 4]]\n",
    "m_10 = [[1, 0], [0, 1]]\n",
    "\n",
    "# Тест на матрицю з усіма нулями\n",
    "m_11 = [[0, 0], [0, 0]]\n",
    "m_12 = [[1, 2], [3, 4]]\n",
    "\n",
    "# Тест на випадкові значення\n",
    "m_13 = [[2, 3, 5], [7, 11, 13]]\n",
    "m_14 = [[17, 19], [23, 29], [31, 37]]"
   ]
  }
 ],
 "metadata": {
  "kernelspec": {
   "display_name": "Python 3 (ipykernel)",
   "language": "python",
   "name": "python3"
  },
  "language_info": {
   "codemirror_mode": {
    "name": "ipython",
    "version": 3
   },
   "file_extension": ".py",
   "mimetype": "text/x-python",
   "name": "python",
   "nbconvert_exporter": "python",
   "pygments_lexer": "ipython3",
   "version": "3.11.6"
  }
 },
 "nbformat": 4,
 "nbformat_minor": 5
}
