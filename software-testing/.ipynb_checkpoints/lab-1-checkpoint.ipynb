{
 "cells": [
  {
   "cell_type": "code",
   "execution_count": 36,
   "id": "a8a11f83-ed56-46d8-85a6-73b2c72d8dea",
   "metadata": {},
   "outputs": [],
   "source": [
    "from math import sqrt"
   ]
  },
  {
   "cell_type": "code",
   "execution_count": 68,
   "id": "007185d0-f1dc-4131-8010-6f5d241cd696",
   "metadata": {},
   "outputs": [],
   "source": [
    "def solve_quadratic_eq(a: int, b: int, c: int) -> int or [int, int] or None:\n",
    "    \"\"\"\n",
    "    Розв'язує квадратне рівняння форми ax^2 + bx + c = 0.\n",
    "\n",
    "    Параметри:\n",
    "        a (int): коефіцієнт при x^2.\n",
    "        b (int): коефіцієнт при x.\n",
    "        c (int): вільний член.\n",
    "\n",
    "    Повертає:\n",
    "        int: один корінь рівняння, якщо дискримінант дорівнює 0.\n",
    "        [int, int]: два корені рівняння, якщо дискримінант більший за 0.\n",
    "        None: якщо рівняння не має рішення або вхідні дані не є цілими числами.\n",
    "\n",
    "    Приклади:\n",
    "        >>> solve_quadratic_eq(1, -2, 1)\n",
    "        1\n",
    "        >>> solve_quadratic_eq(1, -3, 2)\n",
    "        [1, 2]\n",
    "        >>> solve_quadratic_eq(1, 2, 1)\n",
    "        -1\n",
    "        >>> solve_quadratic_eq(1, 0, -1)\n",
    "        [-1, 1]\n",
    "        >>> solve_quadratic_eq(0, 2, -8)\n",
    "        4.0\n",
    "        >>> solve_quadratic_eq(0, 0, 1)\n",
    "        None\n",
    "        >>> solve_quadratic_eq('1', '0', '-1') # Помилкові типи даних\n",
    "        None\n",
    "    \"\"\"\n",
    "    if type(a or b or c) != int:\n",
    "        return None\n",
    "        \n",
    "    if a == 0:\n",
    "        if b == 0:\n",
    "            return None\n",
    "        else:\n",
    "            x = -c / b\n",
    "            return x        \n",
    "    else:\n",
    "        d = b**2 - 4*a*c\n",
    "\n",
    "        if d == 0:\n",
    "            x = -b / (2*a)\n",
    "            return x\n",
    "        else:\n",
    "            if d > 0:\n",
    "                x1 = (-b + sqrt(d)) / (2*a)\n",
    "                x2 = (-b - sqrt(d)) / (2*a)\n",
    "                return [x1, x2]\n",
    "            else:\n",
    "                return None"
   ]
  },
  {
   "cell_type": "code",
   "execution_count": 23,
   "id": "ae48678a-f968-49e2-9b0a-532cbc44d8b1",
   "metadata": {},
   "outputs": [
    {
     "data": {
      "text/plain": [
       "[2.0, 1.0]"
      ]
     },
     "execution_count": 23,
     "metadata": {},
     "output_type": "execute_result"
    }
   ],
   "source": [
    "ans = solve_quadratic_eq(1, -3, 2)\n",
    "ans"
   ]
  },
  {
   "cell_type": "code",
   "execution_count": 18,
   "id": "32bb743e-9b8a-4d1b-922e-8eb0bcb2adcc",
   "metadata": {},
   "outputs": [],
   "source": [
    "# Тест для рівняння з одним коренем\n",
    "assert solve_quadratic_eq(1, -2, 1) == 1"
   ]
  },
  {
   "cell_type": "code",
   "execution_count": 5,
   "id": "0f170f45-a009-4eaa-b81b-91240130b5a4",
   "metadata": {},
   "outputs": [],
   "source": [
    "# Тест для рівняння з двома коренями\n",
    "assert solve_quadratic_eq(1, -3, 2) == [1, 2] or [2, 1]"
   ]
  },
  {
   "cell_type": "code",
   "execution_count": 6,
   "id": "b2ea0d7d-119b-4b14-9a15-c51f64ca1b78",
   "metadata": {},
   "outputs": [],
   "source": [
    "# Тест для рівняння з від'ємним дискримінантом (без коренів)\n",
    "assert solve_quadratic_eq(1, 2, 5) == None"
   ]
  },
  {
   "cell_type": "code",
   "execution_count": 7,
   "id": "54175e59-16ee-4a38-8228-2f32265f7a90",
   "metadata": {},
   "outputs": [],
   "source": [
    "# Тест для випадку, коли a=0 (лінійне рівняння)\n",
    "assert solve_quadratic_eq(0, 2, -3) == 1.5"
   ]
  },
  {
   "cell_type": "code",
   "execution_count": 8,
   "id": "8d753842-3e20-4201-863b-0bee01a2e898",
   "metadata": {},
   "outputs": [],
   "source": [
    "# Тест для випадку, коли a=0 і b=0 (жодного рішення)\n",
    "assert solve_quadratic_eq(0, 0, 3) == None"
   ]
  },
  {
   "cell_type": "code",
   "execution_count": null,
   "id": "2c3c4a63-9188-41f1-afe9-5be072359215",
   "metadata": {},
   "outputs": [],
   "source": []
  },
  {
   "cell_type": "code",
   "execution_count": 21,
   "id": "d445daad-a43e-4f78-9070-85e06a2bcfe4",
   "metadata": {},
   "outputs": [],
   "source": [
    "# Тест для рівняння з неправильно-заданними типами даних\n",
    "assert solve_quadratic_eq(\"3\", \"o\", \"1000\") == None"
   ]
  },
  {
   "cell_type": "code",
   "execution_count": 46,
   "id": "ce6efc31-09b5-46a0-9f9d-5c0e67656a4a",
   "metadata": {},
   "outputs": [],
   "source": [
    "import timeit\n",
    "\n",
    "# Тест на швидкодію програми\n",
    "def run_performance_test(n: int):\n",
    "    setup_code = \"\"\"\n",
    "from __main__ import solve_quadratic_eq\"\"\"\n",
    "    test_code = \"\"\"\n",
    "result = solve_quadratic_eq(1, -3, 2)\"\"\"\n",
    "\n",
    "    execution_time = timeit.timeit(test_code, setup=setup_code, number=n)\n",
    "    print(f\"Execution time: {execution_time} seconds for {n} calls\")"
   ]
  },
  {
   "cell_type": "code",
   "execution_count": 47,
   "id": "dab18495-c667-4e04-b3cc-47b8402fe134",
   "metadata": {},
   "outputs": [
    {
     "name": "stdout",
     "output_type": "stream",
     "text": [
      "Execution time: 0.0006377399986376986 seconds for 1000 calls\n"
     ]
    }
   ],
   "source": [
    "res = run_performance_test(1000)\n",
    "res"
   ]
  },
  {
   "cell_type": "code",
   "execution_count": 48,
   "id": "51b59a6d-4b59-4485-a160-225c572f4842",
   "metadata": {},
   "outputs": [
    {
     "name": "stdout",
     "output_type": "stream",
     "text": [
      "Execution time: 0.008483378000164521 seconds for 10000 calls\n"
     ]
    }
   ],
   "source": [
    "res = run_performance_test(10000)\n",
    "res"
   ]
  },
  {
   "cell_type": "code",
   "execution_count": 49,
   "id": "c514831e-6ffb-4aa2-93da-e5ff22975be8",
   "metadata": {},
   "outputs": [
    {
     "name": "stdout",
     "output_type": "stream",
     "text": [
      "Execution time: 0.07516143799875863 seconds for 100000 calls\n"
     ]
    }
   ],
   "source": [
    "res = run_performance_test(100000)\n",
    "res"
   ]
  },
  {
   "cell_type": "code",
   "execution_count": 50,
   "id": "2b9abfbc-61e3-4469-8266-6a024cd99e34",
   "metadata": {},
   "outputs": [
    {
     "name": "stdout",
     "output_type": "stream",
     "text": [
      "Execution time: 0.5845906380000088 seconds for 1000000 calls\n"
     ]
    }
   ],
   "source": [
    "res = run_performance_test(1000000)\n",
    "res"
   ]
  },
  {
   "cell_type": "code",
   "execution_count": null,
   "id": "35a95b1f-0dd1-4690-9542-d907ad53f9bb",
   "metadata": {},
   "outputs": [],
   "source": []
  },
  {
   "cell_type": "code",
   "execution_count": 69,
   "id": "fb4d0ad8-8598-4dc8-a211-a8994f10715f",
   "metadata": {},
   "outputs": [
    {
     "name": "stdout",
     "output_type": "stream",
     "text": [
      "True\n"
     ]
    }
   ],
   "source": [
    "print(solve_quadratic_eq(1, -2, 3).__doc__ is None)"
   ]
  }
 ],
 "metadata": {
  "kernelspec": {
   "display_name": "Python 3 (ipykernel)",
   "language": "python",
   "name": "python3"
  },
  "language_info": {
   "codemirror_mode": {
    "name": "ipython",
    "version": 3
   },
   "file_extension": ".py",
   "mimetype": "text/x-python",
   "name": "python",
   "nbconvert_exporter": "python",
   "pygments_lexer": "ipython3",
   "version": "3.10.12"
  }
 },
 "nbformat": 4,
 "nbformat_minor": 5
}
