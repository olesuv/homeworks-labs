{
 "cells": [
  {
   "cell_type": "code",
   "execution_count": 2,
   "id": "5dd3a7ca-cf64-4727-96ee-6cb76940087c",
   "metadata": {},
   "outputs": [],
   "source": [
    "import numpy as np\n",
    "import pandas as pd\n",
    "\n",
    "from sklearn.preprocessing import MultiLabelBinarizer"
   ]
  },
  {
   "cell_type": "code",
   "execution_count": 4,
   "id": "fda79acb-56dd-4e6f-85e7-0c5de207e3f2",
   "metadata": {},
   "outputs": [],
   "source": [
    "df = pd.read_json(\"data.json\")"
   ]
  },
  {
   "cell_type": "code",
   "execution_count": 13,
   "id": "157f2e8c-1195-4b8d-8e5a-f07a3a659f62",
   "metadata": {},
   "outputs": [
    {
     "data": {
      "text/plain": [
       "9"
      ]
     },
     "execution_count": 13,
     "metadata": {},
     "output_type": "execute_result"
    }
   ],
   "source": [
    "len(df)"
   ]
  },
  {
   "cell_type": "code",
   "execution_count": 17,
   "id": "0674c4af-62e7-40e3-9039-0ef1abea49c9",
   "metadata": {},
   "outputs": [
    {
     "data": {
      "text/plain": [
       "['caroline_stuart@bulljuice.enterprises',\n",
       " 'dionne_woodward@medmex.schwarz',\n",
       " 'hines_blevins@tasmania.aw',\n",
       " 'carole_kramer@kindaloo.gdn',\n",
       " 'keith_horn@bolax.money',\n",
       " 'hamilton_noble@cyclonica.holdings',\n",
       " 'luz_hicks@capscreen.bzh',\n",
       " 'wendy_moses@quadeebo.za',\n",
       " 'shepherd_chen@cytrek.graphics']"
      ]
     },
     "execution_count": 17,
     "metadata": {},
     "output_type": "execute_result"
    }
   ],
   "source": [
    "emails = df['email'].tolist()\n",
    "emails"
   ]
  },
  {
   "cell_type": "code",
   "execution_count": null,
   "id": "801871b7-7364-4a48-b9a2-bd58549844cd",
   "metadata": {},
   "outputs": [],
   "source": []
  }
 ],
 "metadata": {
  "kernelspec": {
   "display_name": "Python 3 (ipykernel)",
   "language": "python",
   "name": "python3"
  },
  "language_info": {
   "codemirror_mode": {
    "name": "ipython",
    "version": 3
   },
   "file_extension": ".py",
   "mimetype": "text/x-python",
   "name": "python",
   "nbconvert_exporter": "python",
   "pygments_lexer": "ipython3",
   "version": "3.11.6"
  }
 },
 "nbformat": 4,
 "nbformat_minor": 5
}
