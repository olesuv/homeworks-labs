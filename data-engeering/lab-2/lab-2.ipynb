{
 "cells": [
  {
   "cell_type": "markdown",
   "metadata": {},
   "source": [
    "1. Початок"
   ]
  },
  {
   "cell_type": "code",
   "execution_count": 11,
   "metadata": {},
   "outputs": [],
   "source": [
    "import pandas as pd\n",
    "\n",
    "df = pd.read_csv(\"sampledatafoodsales.csv\")"
   ]
  },
  {
   "cell_type": "markdown",
   "metadata": {},
   "source": [
    "2. Відкинути непотрібні колонки"
   ]
  },
  {
   "cell_type": "code",
   "execution_count": 12,
   "metadata": {},
   "outputs": [
    {
     "data": {
      "text/html": [
       "<div>\n",
       "<style scoped>\n",
       "    .dataframe tbody tr th:only-of-type {\n",
       "        vertical-align: middle;\n",
       "    }\n",
       "\n",
       "    .dataframe tbody tr th {\n",
       "        vertical-align: top;\n",
       "    }\n",
       "\n",
       "    .dataframe thead th {\n",
       "        text-align: right;\n",
       "    }\n",
       "</style>\n",
       "<table border=\"1\" class=\"dataframe\">\n",
       "  <thead>\n",
       "    <tr style=\"text-align: right;\">\n",
       "      <th></th>\n",
       "      <th>OrderDate</th>\n",
       "      <th>Region</th>\n",
       "      <th>City</th>\n",
       "      <th>Category</th>\n",
       "      <th>Product</th>\n",
       "      <th>Quantity</th>\n",
       "      <th>UnitPrice</th>\n",
       "    </tr>\n",
       "  </thead>\n",
       "  <tbody>\n",
       "    <tr>\n",
       "      <th>0</th>\n",
       "      <td>1/4/2020</td>\n",
       "      <td>East</td>\n",
       "      <td>Boston</td>\n",
       "      <td>Crackers</td>\n",
       "      <td>Whole Wheat</td>\n",
       "      <td>87</td>\n",
       "      <td>3.49</td>\n",
       "    </tr>\n",
       "    <tr>\n",
       "      <th>1</th>\n",
       "      <td>1/7/2020</td>\n",
       "      <td>West</td>\n",
       "      <td>Los Angeles</td>\n",
       "      <td>Cookies</td>\n",
       "      <td>Chocolate Chip</td>\n",
       "      <td>58</td>\n",
       "      <td>1.87</td>\n",
       "    </tr>\n",
       "    <tr>\n",
       "      <th>2</th>\n",
       "      <td>1/10/2020</td>\n",
       "      <td>East</td>\n",
       "      <td>New York</td>\n",
       "      <td>Cookies</td>\n",
       "      <td>Chocolate Chip</td>\n",
       "      <td>82</td>\n",
       "      <td>1.87</td>\n",
       "    </tr>\n",
       "    <tr>\n",
       "      <th>3</th>\n",
       "      <td>1/13/2020</td>\n",
       "      <td>East</td>\n",
       "      <td>Boston</td>\n",
       "      <td>Cookies</td>\n",
       "      <td>Arrowroot</td>\n",
       "      <td>38</td>\n",
       "      <td>2.18</td>\n",
       "    </tr>\n",
       "    <tr>\n",
       "      <th>4</th>\n",
       "      <td>1/16/2020</td>\n",
       "      <td>East</td>\n",
       "      <td>Boston</td>\n",
       "      <td>Bars</td>\n",
       "      <td>Carrot</td>\n",
       "      <td>54</td>\n",
       "      <td>1.77</td>\n",
       "    </tr>\n",
       "    <tr>\n",
       "      <th>...</th>\n",
       "      <td>...</td>\n",
       "      <td>...</td>\n",
       "      <td>...</td>\n",
       "      <td>...</td>\n",
       "      <td>...</td>\n",
       "      <td>...</td>\n",
       "      <td>...</td>\n",
       "    </tr>\n",
       "    <tr>\n",
       "      <th>238</th>\n",
       "      <td>12/18/2021</td>\n",
       "      <td>East</td>\n",
       "      <td>Boston</td>\n",
       "      <td>Cookies</td>\n",
       "      <td>Arrowroot</td>\n",
       "      <td>34</td>\n",
       "      <td>2.18</td>\n",
       "    </tr>\n",
       "    <tr>\n",
       "      <th>239</th>\n",
       "      <td>12/21/2021</td>\n",
       "      <td>East</td>\n",
       "      <td>Boston</td>\n",
       "      <td>Cookies</td>\n",
       "      <td>Chocolate Chip</td>\n",
       "      <td>245</td>\n",
       "      <td>1.87</td>\n",
       "    </tr>\n",
       "    <tr>\n",
       "      <th>240</th>\n",
       "      <td>12/24/2021</td>\n",
       "      <td>East</td>\n",
       "      <td>Boston</td>\n",
       "      <td>Crackers</td>\n",
       "      <td>Whole Wheat</td>\n",
       "      <td>30</td>\n",
       "      <td>3.49</td>\n",
       "    </tr>\n",
       "    <tr>\n",
       "      <th>241</th>\n",
       "      <td>12/27/2021</td>\n",
       "      <td>West</td>\n",
       "      <td>Los Angeles</td>\n",
       "      <td>Bars</td>\n",
       "      <td>Bran</td>\n",
       "      <td>30</td>\n",
       "      <td>1.87</td>\n",
       "    </tr>\n",
       "    <tr>\n",
       "      <th>242</th>\n",
       "      <td>12/30/2021</td>\n",
       "      <td>West</td>\n",
       "      <td>Los Angeles</td>\n",
       "      <td>Cookies</td>\n",
       "      <td>Oatmeal Raisin</td>\n",
       "      <td>44</td>\n",
       "      <td>2.84</td>\n",
       "    </tr>\n",
       "  </tbody>\n",
       "</table>\n",
       "<p>243 rows × 7 columns</p>\n",
       "</div>"
      ],
      "text/plain": [
       "      OrderDate Region         City  Category         Product  Quantity  \\\n",
       "0      1/4/2020   East       Boston  Crackers     Whole Wheat        87   \n",
       "1      1/7/2020   West  Los Angeles   Cookies  Chocolate Chip        58   \n",
       "2     1/10/2020   East     New York   Cookies  Chocolate Chip        82   \n",
       "3     1/13/2020   East       Boston   Cookies       Arrowroot        38   \n",
       "4     1/16/2020   East       Boston      Bars          Carrot        54   \n",
       "..          ...    ...          ...       ...             ...       ...   \n",
       "238  12/18/2021   East       Boston   Cookies       Arrowroot        34   \n",
       "239  12/21/2021   East       Boston   Cookies  Chocolate Chip       245   \n",
       "240  12/24/2021   East       Boston  Crackers     Whole Wheat        30   \n",
       "241  12/27/2021   West  Los Angeles      Bars            Bran        30   \n",
       "242  12/30/2021   West  Los Angeles   Cookies  Oatmeal Raisin        44   \n",
       "\n",
       "     UnitPrice  \n",
       "0         3.49  \n",
       "1         1.87  \n",
       "2         1.87  \n",
       "3         2.18  \n",
       "4         1.77  \n",
       "..         ...  \n",
       "238       2.18  \n",
       "239       1.87  \n",
       "240       3.49  \n",
       "241       1.87  \n",
       "242       2.84  \n",
       "\n",
       "[243 rows x 7 columns]"
      ]
     },
     "execution_count": 12,
     "metadata": {},
     "output_type": "execute_result"
    }
   ],
   "source": [
    "df.drop(df.columns[7], axis=1)"
   ]
  },
  {
   "cell_type": "markdown",
   "metadata": {},
   "source": [
    "1. Скільки коштів отримали за всі продані товари"
   ]
  },
  {
   "cell_type": "code",
   "execution_count": 19,
   "metadata": {},
   "outputs": [
    {
     "name": "stdout",
     "output_type": "stream",
     "text": [
      "Sum of all products:  33267.17\n"
     ]
    }
   ],
   "source": [
    "df[\"Total\"] = df[\"Quantity\"] * df[\"UnitPrice\"]\n",
    "print(\"Sum of all products: \", df[\"Total\"].sum())"
   ]
  },
  {
   "cell_type": "markdown",
   "metadata": {},
   "source": [
    "2. Скільки коштів отримали окремо у 2020 та 2021 році"
   ]
  },
  {
   "cell_type": "code",
   "execution_count": 20,
   "metadata": {},
   "outputs": [
    {
     "name": "stdout",
     "output_type": "stream",
     "text": [
      "Income in 2020: 17930.249999999996\n",
      "Income in 2021: 15336.92\n"
     ]
    }
   ],
   "source": [
    "df['OrderDate'] = pd.to_datetime(df['OrderDate'])\n",
    "\n",
    "for year in (2020, 2021):\n",
    "    inc = df[df['OrderDate'].dt.year == year]['Total'].sum()\n",
    "    print(f'Income in {year}: {inc}')"
   ]
  },
  {
   "cell_type": "markdown",
   "metadata": {},
   "source": [
    "3. Який місяць був найбільш прибутковий"
   ]
  },
  {
   "cell_type": "code",
   "execution_count": 21,
   "metadata": {},
   "outputs": [
    {
     "name": "stdout",
     "output_type": "stream",
     "text": [
      "M monthly_income\n",
      "OrderDate\n",
      "2020-01    1647.41\n",
      "2020-02     926.05\n",
      "2020-03    1647.70\n",
      "2020-04    1052.09\n",
      "2020-05    1393.45\n",
      "2020-06    2308.75\n",
      "2020-07    1263.16\n",
      "2020-08    1490.90\n",
      "2020-09    1524.06\n",
      "2020-10    1755.57\n",
      "2020-11    1311.47\n",
      "2020-12    1609.64\n",
      "2021-01    1235.29\n",
      "2021-02    1125.41\n",
      "2021-03    1404.85\n",
      "2021-04    1536.67\n",
      "2021-05    1240.96\n",
      "2021-06    1119.48\n",
      "2021-07     849.36\n",
      "2021-08    1215.04\n",
      "2021-09     825.66\n",
      "2021-10    1290.21\n",
      "2021-11    1979.39\n",
      "2021-12    1514.60\n",
      "Freq: M, Name: Total, dtype: float64\n",
      "OrderDate\n",
      "2020-06    2308.75\n",
      "Freq: M, Name: Total, dtype: float64\n"
     ]
    }
   ],
   "source": [
    "print(\"M monthly_income\")\n",
    "\n",
    "monthly_income = df.groupby(df['OrderDate'].dt.to_period('M'))\n",
    "overall_month_income = monthly_income['Total'].sum()\n",
    "\n",
    "print(overall_month_income)\n",
    "print(overall_month_income.nlargest(1))"
   ]
  },
  {
   "cell_type": "markdown",
   "metadata": {},
   "source": [
    "4. Де найбільше було продано продукту типу `Carrot`"
   ]
  },
  {
   "cell_type": "code",
   "execution_count": 22,
   "metadata": {},
   "outputs": [
    {
     "name": "stdout",
     "output_type": "stream",
     "text": [
      "Місто з найбільшими продажами моркви: Los Angeles\n",
      "Загальний обсяг продажів моркви: 1262\n"
     ]
    }
   ],
   "source": [
    "carrot_df = df[df[\"Product\"] == \"Carrot\"]\n",
    "sales_by_city = carrot_df.groupby(\"City\")[\"Quantity\"].sum()\n",
    "\n",
    "city_with_most_carrot_sales = sales_by_city.idxmax() # повертає індекс (позначку) першого входження максимального значення в об'єкті DataFrame або Series\n",
    "total_carrot_sales = sales_by_city.max()\n",
    "\n",
    "print(f\"Місто з найбільшими продажами моркви: {city_with_most_carrot_sales}\")\n",
    "print(f\"Загальний обсяг продажів моркви: {total_carrot_sales}\")"
   ]
  },
  {
   "cell_type": "markdown",
   "metadata": {},
   "source": [
    "5. Найбільш ходовий товар"
   ]
  },
  {
   "cell_type": "code",
   "execution_count": 23,
   "metadata": {},
   "outputs": [
    {
     "name": "stdout",
     "output_type": "stream",
     "text": [
      "The most salable category: Cookies\n",
      "Amount of units: 7464\n"
     ]
    }
   ],
   "source": [
    "category_sales = df.groupby(\"Category\")[\"Quantity\"].sum()\n",
    "\n",
    "most_salable_category = category_sales.idxmax()\n",
    "\n",
    "total_quantiy = category_sales.max()\n",
    "\n",
    "print(f\"The most salable category: {most_salable_category}\")\n",
    "print(f\"Amount of units: {total_quantiy}\")"
   ]
  },
  {
   "cell_type": "markdown",
   "metadata": {},
   "source": [
    "6. Найбільш ходовий товар в `Los Angeles`"
   ]
  },
  {
   "cell_type": "code",
   "execution_count": 35,
   "metadata": {},
   "outputs": [
    {
     "name": "stdout",
     "output_type": "stream",
     "text": [
      "The most salable product in Los Angeles: Carrot\n",
      "Amount: 1262\n"
     ]
    }
   ],
   "source": [
    "la_data = df[df['City'] == 'Los Angeles']\n",
    "\n",
    "product_sales = la_data.groupby('Product')['Quantity'].sum().reset_index()\n",
    "\n",
    "product_sales_sorted = product_sales.sort_values(by='Quantity', ascending=False)\n",
    "\n",
    "most_salable_product = product_sales_sorted.iloc[0]\n",
    "\n",
    "print(f\"The most salable product in Los Angeles: {most_salable_product['Product']}\")\n",
    "print(f\"Amount: {most_salable_product['Quantity']}\")"
   ]
  },
  {
   "cell_type": "markdown",
   "metadata": {},
   "source": [
    "7. Найменш продажний товар в `West`"
   ]
  },
  {
   "cell_type": "code",
   "execution_count": 38,
   "metadata": {},
   "outputs": [
    {
     "name": "stdout",
     "output_type": "stream",
     "text": [
      "The least salable product in the West region is Whole Wheat\n",
      "Amount: 90\n"
     ]
    }
   ],
   "source": [
    "west_data = df[df['Region'] == 'West']\n",
    "\n",
    "product_sales = west_data.groupby('Product')['Quantity'].sum().reset_index()\n",
    "\n",
    "least_salable_product = product_sales.sort_values(by='Quantity', ascending=True).iloc[0]\n",
    "\n",
    "print(f\"The least salable product in the West region is {least_salable_product['Product']}\")\n",
    "print(f\"Amount: {least_salable_product['Quantity']}\")"
   ]
  },
  {
   "cell_type": "markdown",
   "metadata": {},
   "source": [
    "8. На скільки відрізняються продажі `2020` року від `2021`"
   ]
  },
  {
   "cell_type": "code",
   "execution_count": 42,
   "metadata": {},
   "outputs": [
    {
     "name": "stdout",
     "output_type": "stream",
     "text": [
      "Total sales in 2020: $17930.25\n",
      "Total sales in 2021: $15336.92\n"
     ]
    }
   ],
   "source": [
    "df['OrderDate'] = pd.to_datetime(df['OrderDate'])\n",
    "df['Year'] = df['OrderDate'].dt.year\n",
    "\n",
    "sales_2020 = df[df['Year'] == 2020]\n",
    "sales_2021 = df[df['Year'] == 2021]\n",
    "\n",
    "total_sales_2020 = (sales_2020['Quantity'] * sales_2020['UnitPrice']).sum()\n",
    "total_sales_2021 = (sales_2021['Quantity'] * sales_2021['UnitPrice']).sum()\n",
    "\n",
    "print(f\"Total sales in 2020: ${total_sales_2020:.2f}\")\n",
    "print(f\"Total sales in 2021: ${total_sales_2021:.2f}\")"
   ]
  },
  {
   "cell_type": "markdown",
   "metadata": {},
   "source": [
    "9. Найбільш ходова категорія за перший місяць `2020` та `2021` "
   ]
  },
  {
   "cell_type": "code",
   "execution_count": 43,
   "metadata": {},
   "outputs": [
    {
     "name": "stdout",
     "output_type": "stream",
     "text": [
      "The most salable category in the first month of 2020 is Crackers with a total quantity sold of 236.\n",
      "The most salable category in the first month of 2021 is Bars with a total quantity sold of 349.\n"
     ]
    }
   ],
   "source": [
    "df['OrderDate'] = pd.to_datetime(df['OrderDate'])\n",
    "\n",
    "df['Year'] = df['OrderDate'].dt.year\n",
    "df['Month'] = df['OrderDate'].dt.month\n",
    "\n",
    "sales_2020_first_month = df[(df['Year'] == 2020) & (df['Month'] == 1)]\n",
    "sales_2021_first_month = df[(df['Year'] == 2021) & (df['Month'] == 1)]\n",
    "\n",
    "category_sales_2020 = sales_2020_first_month.groupby('Category')['Quantity'].sum().reset_index()\n",
    "category_sales_2021 = sales_2021_first_month.groupby('Category')['Quantity'].sum().reset_index()\n",
    "\n",
    "most_salable_category_2020 = category_sales_2020.sort_values(by='Quantity', ascending=False).iloc[0]\n",
    "most_salable_category_2021 = category_sales_2021.sort_values(by='Quantity', ascending=False).iloc[0]\n",
    "\n",
    "print(f\"The most salable category in the first month of 2020 is {most_salable_category_2020['Category']} with a total quantity sold of {most_salable_category_2020['Quantity']}.\")\n",
    "print(f\"The most salable category in the first month of 2021 is {most_salable_category_2021['Category']} with a total quantity sold of {most_salable_category_2021['Quantity']}.\")"
   ]
  },
  {
   "cell_type": "markdown",
   "metadata": {},
   "source": [
    "10. Де більше споживають `Cookies` в `New York` чи в `Boston`"
   ]
  },
  {
   "cell_type": "code",
   "execution_count": 47,
   "metadata": {},
   "outputs": [
    {
     "name": "stdout",
     "output_type": "stream",
     "text": [
      "New York: 1856 cookies\n",
      "Boston: 2706 cookies\n"
     ]
    }
   ],
   "source": [
    "cookies_ny = df[(df['City'] == 'New York') & (df['Category'] == 'Cookies')]\n",
    "cookies_boston = df[(df['City'] == 'Boston') & (df['Category'] == 'Cookies')]\n",
    "\n",
    "total_cookies_ny = cookies_ny['Quantity'].sum()\n",
    "total_cookies_boston = cookies_boston['Quantity'].sum()\n",
    "\n",
    "print(f'New York: {total_cookies_ny} cookies')\n",
    "print(f'Boston: {total_cookies_boston} cookies')"
   ]
  }
 ],
 "metadata": {
  "kernelspec": {
   "display_name": "Python 3",
   "language": "python",
   "name": "python3"
  },
  "language_info": {
   "codemirror_mode": {
    "name": "ipython",
    "version": 3
   },
   "file_extension": ".py",
   "mimetype": "text/x-python",
   "name": "python",
   "nbconvert_exporter": "python",
   "pygments_lexer": "ipython3",
   "version": "3.11.5"
  },
  "orig_nbformat": 4
 },
 "nbformat": 4,
 "nbformat_minor": 2
}
