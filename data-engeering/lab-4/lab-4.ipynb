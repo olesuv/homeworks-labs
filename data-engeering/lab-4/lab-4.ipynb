{
 "cells": [
  {
   "cell_type": "code",
   "execution_count": 14,
   "metadata": {},
   "outputs": [],
   "source": [
    "import pandas as pd\n",
    "\n",
    "\n",
    "df = pd.read_csv('./danirfm.csv', delimiter='\\t')"
   ]
  },
  {
   "cell_type": "markdown",
   "metadata": {},
   "source": [
    "1. Визначив місяць коли люди найбільше купляють товари.\n",
    "Найбільш популярні місяці, це:\n",
    "- Листопад\n",
    "- Грудень\n",
    "- Вересень"
   ]
  },
  {
   "cell_type": "code",
   "execution_count": 18,
   "metadata": {},
   "outputs": [
    {
     "name": "stdout",
     "output_type": "stream",
     "text": [
      "    month  purchase_count\n",
      "0       1             182\n",
      "1       2             163\n",
      "2       3             344\n",
      "3       4             338\n",
      "4       5             382\n",
      "5       6             356\n",
      "6       7             339\n",
      "7       8             341\n",
      "8       9             690\n",
      "9      10             417\n",
      "10     11             747\n",
      "11     12             710\n"
     ]
    }
   ],
   "source": [
    "df['order_date'] = pd.to_datetime(df['order_date'])\n",
    "\n",
    "df['month'] = df['order_date'].dt.month\n",
    "\n",
    "frequency_by_month = df.groupby('month').size().reset_index(name='purchase_count')\n",
    "\n",
    "print(frequency_by_month)"
   ]
  },
  {
   "cell_type": "markdown",
   "metadata": {},
   "source": [
    "2. Визначив середню ціну покупки по місяцях, щоб було легше розуміти в який місяць клієнти витрачають і скільки. Найбільш прибуткові місяці, це:\n",
    "- березень\n",
    "- січень\n",
    "- жовтень"
   ]
  },
  {
   "cell_type": "code",
   "execution_count": 16,
   "metadata": {},
   "outputs": [
    {
     "name": "stdout",
     "output_type": "stream",
     "text": [
      "    month  average_purchase\n",
      "0       1        524.032967\n",
      "1       2        369.171779\n",
      "2       3        579.261628\n",
      "3       4        419.689349\n",
      "4       5        408.722513\n",
      "5       6        413.146067\n",
      "6       7        441.241888\n",
      "7       8        467.994135\n",
      "8       9        448.960870\n",
      "9      10        472.709832\n",
      "10     11        467.362784\n",
      "11     12        467.871831\n"
     ]
    }
   ],
   "source": [
    "df['order_date'] = pd.to_datetime(df['order_date'])\n",
    "\n",
    "df['month'] = df['order_date'].dt.month\n",
    "\n",
    "average_purchase_by_month = df.groupby('month')['grand_total'].mean().reset_index(name='average_purchase')\n",
    "\n",
    "print(average_purchase_by_month)"
   ]
  },
  {
   "cell_type": "markdown",
   "metadata": {},
   "source": [
    "Маючи вже ці дані, можна зрозуміти що найприбутковіше впроваджувати рекламу буде в такі місяці, як:\n",
    "\n",
    "- Сіень\n",
    "- Лютий\n",
    "\n",
    "Адже саме в ці місяці клієнти найменше купляють товарів.\n",
    "\n",
    "А до прикладу, впроваджувати будь які знижки для збільшення клієнтів в:\n",
    "\n",
    "- Березень\n",
    "- Січень\n",
    "- Жовтень\n",
    "\n",
    "Тому що тоді середнє покупка і так набагто більша за будь-який інший період продажів."
   ]
  },
  {
   "cell_type": "markdown",
   "metadata": {},
   "source": [
    "3. Визначимо тенденцію покупок клієнтів по роках, щоб дізнатись чи ефективно працює відділ маркетингу і чи тенденція взагалі не знижуєтья. Як можна побачити тенденція не знижується, а тільки прогресує тому ніяких надпотужних маніпуляцій з маркетингом можна не робити."
   ]
  },
  {
   "cell_type": "code",
   "execution_count": 29,
   "metadata": {},
   "outputs": [
    {
     "name": "stdout",
     "output_type": "stream",
     "text": [
      "   year  average_purchases\n",
      "0  2011           1.628571\n",
      "1  2012           1.811518\n",
      "2  2013           2.056515\n",
      "3  2014           2.441558\n"
     ]
    }
   ],
   "source": [
    "df['order_date'] = pd.to_datetime(df['order_date'])\n",
    "\n",
    "# Витягуємо рік\n",
    "df['year'] = df['order_date'].dt.year\n",
    "\n",
    "# Групуємо дані за роками та клієнтами та обчислюємо середню кількість покупок\n",
    "average_purchases_by_year = df.groupby(['year', 'customer'])['order_id'].count().reset_index()\n",
    "average_purchases_by_year = average_purchases_by_year.groupby('year')['order_id'].mean().reset_index()\n",
    "average_purchases_by_year.columns = ['year', 'average_purchases']\n",
    "\n",
    "# Виводимо результат\n",
    "print(average_purchases_by_year)"
   ]
  },
  {
   "cell_type": "markdown",
   "metadata": {},
   "source": [
    "4. Ще визначимо частоту покупок по роках та кількість зросту в процентах порівняно з першим роком."
   ]
  },
  {
   "cell_type": "code",
   "execution_count": 28,
   "metadata": {},
   "outputs": [
    {
     "name": "stdout",
     "output_type": "stream",
     "text": [
      "   year  purchase_count  increase_percentage\n",
      "0  2011             969                  NaN\n",
      "1  2012            1038             7.120743\n",
      "2  2013            1310            26.204239\n",
      "3  2014            1692            29.160305\n"
     ]
    }
   ],
   "source": [
    "df['order_date'] = pd.to_datetime(df['order_date'])\n",
    "\n",
    "# Витягуємо рік\n",
    "df['year'] = df['order_date'].dt.year\n",
    "\n",
    "# Групуємо дані за роками та підраховуємо кількість покупок\n",
    "frequency_by_year = df.groupby('year').size().reset_index(name='purchase_count')\n",
    "\n",
    "# Розрахунок збільшення частоти покупок (у відсотках)\n",
    "frequency_by_year['increase_percentage'] = frequency_by_year['purchase_count'].pct_change() * 100\n",
    "\n",
    "# Виводимо результат\n",
    "print(frequency_by_year)"
   ]
  }
 ],
 "metadata": {
  "kernelspec": {
   "display_name": ".venv",
   "language": "python",
   "name": "python3"
  },
  "language_info": {
   "codemirror_mode": {
    "name": "ipython",
    "version": 3
   },
   "file_extension": ".py",
   "mimetype": "text/x-python",
   "name": "python",
   "nbconvert_exporter": "python",
   "pygments_lexer": "ipython3",
   "version": "3.11.6"
  }
 },
 "nbformat": 4,
 "nbformat_minor": 2
}
