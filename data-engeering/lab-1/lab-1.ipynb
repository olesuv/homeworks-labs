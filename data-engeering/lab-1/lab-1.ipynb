{
 "cells": [
  {
   "cell_type": "markdown",
   "metadata": {},
   "source": [
    "1. Importing libraries, reading `.csv` file using `read_csv` pandas method"
   ]
  },
  {
   "cell_type": "code",
   "execution_count": 4,
   "metadata": {},
   "outputs": [
    {
     "name": "stdout",
     "output_type": "stream",
     "text": [
      "     RegisterDate  Points  CurrentRanking  HighestRanking    Country  \\\n",
      "0       8/23/2012  199697               1               1     Brazil   \n",
      "1        9/7/2016  188693               2               1        NaN   \n",
      "2       6/24/2013  160026               3               1        NaN   \n",
      "3       8/24/2015  119109               4               4  Lithuania   \n",
      "4       4/20/2014  118149               5               5     Canada   \n",
      "...           ...     ...             ...             ...        ...   \n",
      "4762   11/24/2010      14            4762             265    Belgium   \n",
      "4763     1/1/2012      14            4763            1444        NaN   \n",
      "4764     1/9/2012      14            4764            1444      India   \n",
      "4765    1/15/2012      14            4765            1444        NaN   \n",
      "4766    1/17/2012      14            4766            1444        NaN   \n",
      "\n",
      "          Continent  \n",
      "0     South America  \n",
      "1               NaN  \n",
      "2               NaN  \n",
      "3            Europe  \n",
      "4     North America  \n",
      "...             ...  \n",
      "4762         Europe  \n",
      "4763            NaN  \n",
      "4764           Asia  \n",
      "4765            NaN  \n",
      "4766            NaN  \n",
      "\n",
      "[4767 rows x 6 columns]\n"
     ]
    }
   ],
   "source": [
    "import pandas as pd\n",
    "import numpy as np\n",
    "\n",
    "df = pd.read_csv(\"ranked_users_kaggle.csv\")\n",
    "\n",
    "print(df)"
   ]
  },
  {
   "cell_type": "code",
   "execution_count": null,
   "metadata": {},
   "outputs": [],
   "source": []
  },
  {
   "cell_type": "markdown",
   "metadata": {},
   "source": []
  }
 ],
 "metadata": {
  "kernelspec": {
   "display_name": "Python 3",
   "language": "python",
   "name": "python3"
  },
  "language_info": {
   "codemirror_mode": {
    "name": "ipython",
    "version": 3
   },
   "file_extension": ".py",
   "mimetype": "text/x-python",
   "name": "python",
   "nbconvert_exporter": "python",
   "pygments_lexer": "ipython3",
   "version": "3.10.12"
  },
  "orig_nbformat": 4
 },
 "nbformat": 4,
 "nbformat_minor": 2
}
