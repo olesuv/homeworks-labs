{
 "cells": [
  {
   "cell_type": "code",
   "execution_count": 1,
   "id": "33f64df9-2815-41e3-a712-31823728d64c",
   "metadata": {
    "scrolled": true
   },
   "outputs": [
    {
     "name": "stderr",
     "output_type": "stream",
     "text": [
      "2024-03-05 16:23:38.852524: I tensorflow/core/util/port.cc:113] oneDNN custom operations are on. You may see slightly different numerical results due to floating-point round-off errors from different computation orders. To turn them off, set the environment variable `TF_ENABLE_ONEDNN_OPTS=0`.\n",
      "2024-03-05 16:23:38.854476: I external/local_tsl/tsl/cuda/cudart_stub.cc:31] Could not find cuda drivers on your machine, GPU will not be used.\n",
      "2024-03-05 16:23:38.890544: E external/local_xla/xla/stream_executor/cuda/cuda_dnn.cc:9261] Unable to register cuDNN factory: Attempting to register factory for plugin cuDNN when one has already been registered\n",
      "2024-03-05 16:23:38.890573: E external/local_xla/xla/stream_executor/cuda/cuda_fft.cc:607] Unable to register cuFFT factory: Attempting to register factory for plugin cuFFT when one has already been registered\n",
      "2024-03-05 16:23:38.891417: E external/local_xla/xla/stream_executor/cuda/cuda_blas.cc:1515] Unable to register cuBLAS factory: Attempting to register factory for plugin cuBLAS when one has already been registered\n",
      "2024-03-05 16:23:38.896592: I external/local_tsl/tsl/cuda/cudart_stub.cc:31] Could not find cuda drivers on your machine, GPU will not be used.\n",
      "2024-03-05 16:23:38.897195: I tensorflow/core/platform/cpu_feature_guard.cc:182] This TensorFlow binary is optimized to use available CPU instructions in performance-critical operations.\n",
      "To enable the following instructions: AVX2 AVX512F AVX512_VNNI FMA, in other operations, rebuild TensorFlow with the appropriate compiler flags.\n",
      "2024-03-05 16:23:39.622908: W tensorflow/compiler/tf2tensorrt/utils/py_utils.cc:38] TF-TRT Warning: Could not find TensorRT\n"
     ]
    },
    {
     "name": "stdout",
     "output_type": "stream",
     "text": [
      "Training dataset: (60000, 784), uint8\n",
      "Testing dataset: (10000, 784), uint8\n"
     ]
    }
   ],
   "source": [
    "from tensorflow import keras\n",
    "import numpy as np\n",
    "\n",
    "f_mnist = keras.datasets.fashion_mnist\n",
    "(x_train_full, y_train_full), (x_test, y_test) = f_mnist.load_data()\n",
    "\n",
    "x_train_full = np.reshape(x_train_full, (x_train_full.shape[0], x_train_full.shape[1] * x_train_full.shape[2]))\n",
    "x_test = np.reshape(x_test, (x_test.shape[0], x_test.shape[1] * x_test.shape[2]))\n",
    "\n",
    "print(f\"Training dataset: {x_train_full.shape}, {x_train_full.dtype}\")\n",
    "print(f\"Testing dataset: {x_test.shape}, {x_test.dtype}\")\n",
    "\n",
    "x_train = x_train_full / 255.0\n",
    "y_train = y_train_full"
   ]
  },
  {
   "cell_type": "code",
   "execution_count": 2,
   "id": "bff0b632-ee6b-45a8-9495-f2b1f75232f3",
   "metadata": {},
   "outputs": [],
   "source": [
    "from sklearn.preprocessing import StandardScaler\n",
    "\n",
    "\n",
    "scaler = StandardScaler()\n",
    "x_train_scaled = scaler.fit_transform(x_train)\n",
    "x_test_scaled = scaler.transform(x_test)"
   ]
  },
  {
   "cell_type": "code",
   "execution_count": 3,
   "id": "87d7c9f4-21b7-4037-b04d-600c4313d0f9",
   "metadata": {},
   "outputs": [
    {
     "data": {
      "text/plain": [
       "'Ankle boot'"
      ]
     },
     "execution_count": 3,
     "metadata": {},
     "output_type": "execute_result"
    }
   ],
   "source": [
    "class_names = [\n",
    "    'T-shirt',\n",
    "    'Trouser',\n",
    "    'Pullover',\n",
    "    'Dress',\n",
    "    'Coat',\n",
    "    'Sandal',\n",
    "    'Shirt',\n",
    "    'Sneaker',\n",
    "    'Bag',\n",
    "    'Ankle boot'\n",
    "]\n",
    "\n",
    "class_names[y_train[0]]"
   ]
  },
  {
   "cell_type": "code",
   "execution_count": 4,
   "id": "0865b087-f4b4-4811-85a3-7c2feaa318f2",
   "metadata": {},
   "outputs": [
    {
     "name": "stdout",
     "output_type": "stream",
     "text": [
      "Training dataset: (60000, 392), float64\n",
      "Testing dataset: (10000, 392), float64\n"
     ]
    }
   ],
   "source": [
    "from sklearn.decomposition import PCA\n",
    "\n",
    "\n",
    "pca = PCA(n_components=392)\n",
    "x_train_red = pca.fit_transform(x_train_scaled)\n",
    "x_test_red = pca.transform(x_test_scaled)\n",
    "\n",
    "print(f\"Training dataset: {x_train_red.shape}, {x_train_red.dtype}\")\n",
    "print(f\"Testing dataset: {x_test_red.shape}, {x_test_red.dtype}\")"
   ]
  },
  {
   "cell_type": "code",
   "execution_count": 5,
   "id": "9485c74f-29c0-43c4-b4ca-5e211a3d88e3",
   "metadata": {},
   "outputs": [
    {
     "name": "stdout",
     "output_type": "stream",
     "text": [
      "Training dataset: (60000, 392), float64\n",
      "Testing dataset: (60000, 392), float64\n"
     ]
    }
   ],
   "source": [
    "from sklearn.random_projection import GaussianRandomProjection\n",
    "\n",
    "\n",
    "rp = GaussianRandomProjection(n_components=392)\n",
    "x_train_rp = rp.fit_transform(x_train_scaled)\n",
    "x_test_rp = rp.transform(x_test_scaled)\n",
    "\n",
    "print(f\"Training dataset: {x_train_rp.shape}, {x_train_rp.dtype}\")\n",
    "print(f\"Testing dataset: {x_train_rp.shape}, {x_train_rp.dtype}\")"
   ]
  },
  {
   "cell_type": "code",
   "execution_count": 6,
   "id": "949ecc67-652f-4f80-8614-c4ea11baac8c",
   "metadata": {},
   "outputs": [
    {
     "name": "stdout",
     "output_type": "stream",
     "text": [
      "Training dataset: (60000, 392), float64\n",
      "Testing dataset: (60000, 392), float64\n"
     ]
    }
   ],
   "source": [
    "from sklearn.discriminant_analysis import LinearDiscriminantAnalysis\n",
    "\n",
    "\n",
    "lda = LinearDiscriminantAnalysis(n_components=392)\n",
    "x_train_lda = rp.fit_transform(x_train_scaled)\n",
    "x_test_lda = rp.transform(x_test_scaled)\n",
    "\n",
    "print(f\"Training dataset: {x_train_lda.shape}, {x_train_lda.dtype}\")\n",
    "print(f\"Testing dataset: {x_train_lda.shape}, {x_train_lda.dtype}\")"
   ]
  },
  {
   "cell_type": "code",
   "execution_count": 7,
   "id": "293b4f4b-7c72-4bce-be57-31156435bbd9",
   "metadata": {},
   "outputs": [],
   "source": [
    "from sklearn.tree import DecisionTreeClassifier\n",
    "\n",
    "\n",
    "classifier_tree = DecisionTreeClassifier()"
   ]
  },
  {
   "cell_type": "code",
   "execution_count": 8,
   "id": "9be54e60-378b-4bfb-bfce-ee8be96f2e90",
   "metadata": {},
   "outputs": [],
   "source": [
    "from sklearn.neighbors import KNeighborsClassifier\n",
    "\n",
    "\n",
    "classifier_kmeans = KNeighborsClassifier()"
   ]
  },
  {
   "cell_type": "code",
   "execution_count": 9,
   "id": "dc62163c-159a-489a-9662-19eb37b8e7c0",
   "metadata": {},
   "outputs": [],
   "source": [
    "from sklearn.svm import LinearSVC\n",
    "\n",
    "\n",
    "classifier_svc = LinearSVC(dual=True)"
   ]
  },
  {
   "cell_type": "code",
   "execution_count": 10,
   "id": "e4939a17-4cc5-4be5-b35a-a8a5ffd83cb5",
   "metadata": {},
   "outputs": [],
   "source": [
    "from sklearn.linear_model import LogisticRegression\n",
    "\n",
    "\n",
    "classifier_regression = LogisticRegression(solver='lbfgs')"
   ]
  },
  {
   "cell_type": "code",
   "execution_count": 11,
   "id": "0096b372-4d65-4abd-8743-23804bdf1bb3",
   "metadata": {},
   "outputs": [],
   "source": [
    "classifying_models = {\n",
    "    'Decision Tree': classifier_tree,\n",
    "    'K-Means': classifier_kmeans,\n",
    "    'C-Support Vector': classifier_svc,\n",
    "    'Logistic Regression (aka logit, MaxEnt)': classifier_regression\n",
    "}\n",
    "\n",
    "classifying_analyze = {\n",
    "    'Original dataset': [],\n",
    "    'PCA': [],\n",
    "    'Random Projection': [],\n",
    "    'LDA': []\n",
    "}\n",
    "\n",
    "classifying_analyze_time = {\n",
    "    'Original dataset': [],\n",
    "    'PCA': [],\n",
    "    'Random Projection': [],\n",
    "    'LDA': []\n",
    "}"
   ]
  },
  {
   "cell_type": "code",
   "execution_count": 12,
   "id": "204b4c67-3548-4937-a727-195fb5f168bd",
   "metadata": {},
   "outputs": [
    {
     "name": "stderr",
     "output_type": "stream",
     "text": [
      "/home/suphomie/uni/homeworks-labs/machine-learning-tools/venv/lib/python3.11/site-packages/sklearn/svm/_base.py:1237: ConvergenceWarning: Liblinear failed to converge, increase the number of iterations.\n",
      "  warnings.warn(\n",
      "/home/suphomie/uni/homeworks-labs/machine-learning-tools/venv/lib/python3.11/site-packages/sklearn/svm/_base.py:1237: ConvergenceWarning: Liblinear failed to converge, increase the number of iterations.\n",
      "  warnings.warn(\n",
      "/home/suphomie/uni/homeworks-labs/machine-learning-tools/venv/lib/python3.11/site-packages/sklearn/svm/_base.py:1237: ConvergenceWarning: Liblinear failed to converge, increase the number of iterations.\n",
      "  warnings.warn(\n",
      "/home/suphomie/uni/homeworks-labs/machine-learning-tools/venv/lib/python3.11/site-packages/sklearn/svm/_base.py:1237: ConvergenceWarning: Liblinear failed to converge, increase the number of iterations.\n",
      "  warnings.warn(\n",
      "/home/suphomie/uni/homeworks-labs/machine-learning-tools/venv/lib/python3.11/site-packages/sklearn/linear_model/_logistic.py:469: ConvergenceWarning: lbfgs failed to converge (status=1):\n",
      "STOP: TOTAL NO. of ITERATIONS REACHED LIMIT.\n",
      "\n",
      "Increase the number of iterations (max_iter) or scale the data as shown in:\n",
      "    https://scikit-learn.org/stable/modules/preprocessing.html\n",
      "Please also refer to the documentation for alternative solver options:\n",
      "    https://scikit-learn.org/stable/modules/linear_model.html#logistic-regression\n",
      "  n_iter_i = _check_optimize_result(\n",
      "/home/suphomie/uni/homeworks-labs/machine-learning-tools/venv/lib/python3.11/site-packages/sklearn/linear_model/_logistic.py:469: ConvergenceWarning: lbfgs failed to converge (status=1):\n",
      "STOP: TOTAL NO. of ITERATIONS REACHED LIMIT.\n",
      "\n",
      "Increase the number of iterations (max_iter) or scale the data as shown in:\n",
      "    https://scikit-learn.org/stable/modules/preprocessing.html\n",
      "Please also refer to the documentation for alternative solver options:\n",
      "    https://scikit-learn.org/stable/modules/linear_model.html#logistic-regression\n",
      "  n_iter_i = _check_optimize_result(\n",
      "/home/suphomie/uni/homeworks-labs/machine-learning-tools/venv/lib/python3.11/site-packages/sklearn/linear_model/_logistic.py:469: ConvergenceWarning: lbfgs failed to converge (status=1):\n",
      "STOP: TOTAL NO. of ITERATIONS REACHED LIMIT.\n",
      "\n",
      "Increase the number of iterations (max_iter) or scale the data as shown in:\n",
      "    https://scikit-learn.org/stable/modules/preprocessing.html\n",
      "Please also refer to the documentation for alternative solver options:\n",
      "    https://scikit-learn.org/stable/modules/linear_model.html#logistic-regression\n",
      "  n_iter_i = _check_optimize_result(\n",
      "/home/suphomie/uni/homeworks-labs/machine-learning-tools/venv/lib/python3.11/site-packages/sklearn/linear_model/_logistic.py:469: ConvergenceWarning: lbfgs failed to converge (status=1):\n",
      "STOP: TOTAL NO. of ITERATIONS REACHED LIMIT.\n",
      "\n",
      "Increase the number of iterations (max_iter) or scale the data as shown in:\n",
      "    https://scikit-learn.org/stable/modules/preprocessing.html\n",
      "Please also refer to the documentation for alternative solver options:\n",
      "    https://scikit-learn.org/stable/modules/linear_model.html#logistic-regression\n",
      "  n_iter_i = _check_optimize_result(\n"
     ]
    }
   ],
   "source": [
    "import time\n",
    "\n",
    "\n",
    "for model_name, model in classifying_models.items():\n",
    "    start = time.time()\n",
    "    model.fit(x_train, y_train)\n",
    "    end = time.time()\n",
    "    \n",
    "    classifying_analyze_time['Original dataset'].append(end-start)\n",
    "    classifying_analyze['Original dataset'].append(model.score(x_test, y_test))\n",
    "\n",
    "    start = time.time()\n",
    "    y_pred = model.fit(x_train_red, y_train)\n",
    "    end = time.time()\n",
    "    \n",
    "    classifying_analyze_time['PCA'].append(end-start)\n",
    "    classifying_analyze['PCA'].append(model.score(x_test_red, y_test))\n",
    "\n",
    "    start = time.time()\n",
    "    model.fit(x_train_rp, y_train)\n",
    "    end = time.time()\n",
    "    \n",
    "    classifying_analyze_time['Random Projection'].append(end-start)\n",
    "    classifying_analyze['Random Projection'].append(model.score(x_test_rp, y_test))\n",
    "\n",
    "    start = time.time()\n",
    "    model.fit(x_train_lda, y_train)\n",
    "    end = time.time()\n",
    "    \n",
    "    classifying_analyze_time['LDA'].append(end-start)\n",
    "    classifying_analyze['LDA'].append(model.score(x_test_lda, y_test))"
   ]
  },
  {
   "cell_type": "code",
   "execution_count": 13,
   "id": "5a69cff9-2f86-401f-a3e1-8ede95c3004b",
   "metadata": {},
   "outputs": [
    {
     "data": {
      "text/plain": [
       "({'Original dataset': [0.3864, 0.3211, 0.7642, 0.7505],\n",
       "  'PCA': [0.2185, 0.3318, 0.7441, 0.7414],\n",
       "  'Random Projection': [0.2248, 0.3291, 0.7545, 0.7355],\n",
       "  'LDA': [0.201, 0.2066, 0.7346, 0.7357]},\n",
       " {'Original dataset': [65.54739665985107,\n",
       "   0.04028034210205078,\n",
       "   360.8344283103943,\n",
       "   19.75650382041931],\n",
       "  'PCA': [171.7483582496643,\n",
       "   0.12505626678466797,\n",
       "   465.5819401741028,\n",
       "   12.332250356674194],\n",
       "  'Random Projection': [155.68603801727295,\n",
       "   0.0361180305480957,\n",
       "   477.61306262016296,\n",
       "   12.360661268234253],\n",
       "  'LDA': [138.44100522994995,\n",
       "   0.0406498908996582,\n",
       "   494.57153367996216,\n",
       "   11.708004474639893]})"
      ]
     },
     "execution_count": 13,
     "metadata": {},
     "output_type": "execute_result"
    }
   ],
   "source": [
    "classifying_analyze, classifying_analyze_time"
   ]
  },
  {
   "cell_type": "code",
   "execution_count": 14,
   "id": "f76c8065-0892-4fbe-ad71-8d0436f77092",
   "metadata": {},
   "outputs": [],
   "source": [
    "classifying_analyze['Model'] = ['Decision Tree', 'K-Means', 'C-Support Vector', 'Logistic Regression (aka logit, MaxEnt)']\n",
    "classifying_analyze_time['Model'] = ['Decision Tree', 'K-Means', 'C-Support Vector', 'Logistic Regression (aka logit, MaxEnt)']"
   ]
  },
  {
   "cell_type": "code",
   "execution_count": 15,
   "id": "207dcc90-b9c4-4d9d-88a9-28c92e5a6d8b",
   "metadata": {},
   "outputs": [
    {
     "data": {
      "text/html": [
       "<div>\n",
       "<style scoped>\n",
       "    .dataframe tbody tr th:only-of-type {\n",
       "        vertical-align: middle;\n",
       "    }\n",
       "\n",
       "    .dataframe tbody tr th {\n",
       "        vertical-align: top;\n",
       "    }\n",
       "\n",
       "    .dataframe thead th {\n",
       "        text-align: right;\n",
       "    }\n",
       "</style>\n",
       "<table border=\"1\" class=\"dataframe\">\n",
       "  <thead>\n",
       "    <tr style=\"text-align: right;\">\n",
       "      <th></th>\n",
       "      <th>Original dataset</th>\n",
       "      <th>PCA</th>\n",
       "      <th>Random Projection</th>\n",
       "      <th>LDA</th>\n",
       "    </tr>\n",
       "    <tr>\n",
       "      <th>Model</th>\n",
       "      <th></th>\n",
       "      <th></th>\n",
       "      <th></th>\n",
       "      <th></th>\n",
       "    </tr>\n",
       "  </thead>\n",
       "  <tbody>\n",
       "    <tr>\n",
       "      <th>Decision Tree</th>\n",
       "      <td>0.3864</td>\n",
       "      <td>0.2185</td>\n",
       "      <td>0.2248</td>\n",
       "      <td>0.2010</td>\n",
       "    </tr>\n",
       "    <tr>\n",
       "      <th>K-Means</th>\n",
       "      <td>0.3211</td>\n",
       "      <td>0.3318</td>\n",
       "      <td>0.3291</td>\n",
       "      <td>0.2066</td>\n",
       "    </tr>\n",
       "    <tr>\n",
       "      <th>C-Support Vector</th>\n",
       "      <td>0.7642</td>\n",
       "      <td>0.7441</td>\n",
       "      <td>0.7545</td>\n",
       "      <td>0.7346</td>\n",
       "    </tr>\n",
       "    <tr>\n",
       "      <th>Logistic Regression (aka logit, MaxEnt)</th>\n",
       "      <td>0.7505</td>\n",
       "      <td>0.7414</td>\n",
       "      <td>0.7355</td>\n",
       "      <td>0.7357</td>\n",
       "    </tr>\n",
       "  </tbody>\n",
       "</table>\n",
       "</div>"
      ],
      "text/plain": [
       "                                         Original dataset     PCA  \\\n",
       "Model                                                               \n",
       "Decision Tree                                      0.3864  0.2185   \n",
       "K-Means                                            0.3211  0.3318   \n",
       "C-Support Vector                                   0.7642  0.7441   \n",
       "Logistic Regression (aka logit, MaxEnt)            0.7505  0.7414   \n",
       "\n",
       "                                         Random Projection     LDA  \n",
       "Model                                                               \n",
       "Decision Tree                                       0.2248  0.2010  \n",
       "K-Means                                             0.3291  0.2066  \n",
       "C-Support Vector                                    0.7545  0.7346  \n",
       "Logistic Regression (aka logit, MaxEnt)             0.7355  0.7357  "
      ]
     },
     "execution_count": 15,
     "metadata": {},
     "output_type": "execute_result"
    }
   ],
   "source": [
    "import pandas as pd\n",
    "\n",
    "\n",
    "data = classifying_analyze\n",
    "df = pd.DataFrame.from_dict(data)\n",
    "\n",
    "df.set_index('Model')"
   ]
  },
  {
   "cell_type": "code",
   "execution_count": 16,
   "id": "2f2e7dc1-5d59-44de-8707-632d0c10ff2d",
   "metadata": {},
   "outputs": [
    {
     "data": {
      "text/html": [
       "<div>\n",
       "<style scoped>\n",
       "    .dataframe tbody tr th:only-of-type {\n",
       "        vertical-align: middle;\n",
       "    }\n",
       "\n",
       "    .dataframe tbody tr th {\n",
       "        vertical-align: top;\n",
       "    }\n",
       "\n",
       "    .dataframe thead th {\n",
       "        text-align: right;\n",
       "    }\n",
       "</style>\n",
       "<table border=\"1\" class=\"dataframe\">\n",
       "  <thead>\n",
       "    <tr style=\"text-align: right;\">\n",
       "      <th></th>\n",
       "      <th>Original dataset</th>\n",
       "      <th>PCA</th>\n",
       "      <th>Random Projection</th>\n",
       "      <th>LDA</th>\n",
       "    </tr>\n",
       "    <tr>\n",
       "      <th>Model</th>\n",
       "      <th></th>\n",
       "      <th></th>\n",
       "      <th></th>\n",
       "      <th></th>\n",
       "    </tr>\n",
       "  </thead>\n",
       "  <tbody>\n",
       "    <tr>\n",
       "      <th>Decision Tree</th>\n",
       "      <td>65.547397</td>\n",
       "      <td>171.748358</td>\n",
       "      <td>155.686038</td>\n",
       "      <td>138.441005</td>\n",
       "    </tr>\n",
       "    <tr>\n",
       "      <th>K-Means</th>\n",
       "      <td>0.040280</td>\n",
       "      <td>0.125056</td>\n",
       "      <td>0.036118</td>\n",
       "      <td>0.040650</td>\n",
       "    </tr>\n",
       "    <tr>\n",
       "      <th>C-Support Vector</th>\n",
       "      <td>360.834428</td>\n",
       "      <td>465.581940</td>\n",
       "      <td>477.613063</td>\n",
       "      <td>494.571534</td>\n",
       "    </tr>\n",
       "    <tr>\n",
       "      <th>Logistic Regression (aka logit, MaxEnt)</th>\n",
       "      <td>19.756504</td>\n",
       "      <td>12.332250</td>\n",
       "      <td>12.360661</td>\n",
       "      <td>11.708004</td>\n",
       "    </tr>\n",
       "  </tbody>\n",
       "</table>\n",
       "</div>"
      ],
      "text/plain": [
       "                                         Original dataset         PCA  \\\n",
       "Model                                                                   \n",
       "Decision Tree                                   65.547397  171.748358   \n",
       "K-Means                                          0.040280    0.125056   \n",
       "C-Support Vector                               360.834428  465.581940   \n",
       "Logistic Regression (aka logit, MaxEnt)         19.756504   12.332250   \n",
       "\n",
       "                                         Random Projection         LDA  \n",
       "Model                                                                   \n",
       "Decision Tree                                   155.686038  138.441005  \n",
       "K-Means                                           0.036118    0.040650  \n",
       "C-Support Vector                                477.613063  494.571534  \n",
       "Logistic Regression (aka logit, MaxEnt)          12.360661   11.708004  "
      ]
     },
     "execution_count": 16,
     "metadata": {},
     "output_type": "execute_result"
    }
   ],
   "source": [
    "data = classifying_analyze_time\n",
    "df = pd.DataFrame.from_dict(data)\n",
    "\n",
    "df.set_index('Model')"
   ]
  }
 ],
 "metadata": {
  "kernelspec": {
   "display_name": "Python 3 (ipykernel)",
   "language": "python",
   "name": "python3"
  },
  "language_info": {
   "codemirror_mode": {
    "name": "ipython",
    "version": 3
   },
   "file_extension": ".py",
   "mimetype": "text/x-python",
   "name": "python",
   "nbconvert_exporter": "python",
   "pygments_lexer": "ipython3",
   "version": "3.11.6"
  }
 },
 "nbformat": 4,
 "nbformat_minor": 5
}
