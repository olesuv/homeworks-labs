{
 "cells": [
  {
   "cell_type": "code",
   "execution_count": 1,
   "id": "33f64df9-2815-41e3-a712-31823728d64c",
   "metadata": {
    "scrolled": true
   },
   "outputs": [
    {
     "name": "stderr",
     "output_type": "stream",
     "text": [
      "2024-04-29 18:30:56.098036: I tensorflow/core/util/port.cc:113] oneDNN custom operations are on. You may see slightly different numerical results due to floating-point round-off errors from different computation orders. To turn them off, set the environment variable `TF_ENABLE_ONEDNN_OPTS=0`.\n",
      "2024-04-29 18:30:56.099830: I external/local_tsl/tsl/cuda/cudart_stub.cc:31] Could not find cuda drivers on your machine, GPU will not be used.\n",
      "2024-04-29 18:30:56.131321: E external/local_xla/xla/stream_executor/cuda/cuda_dnn.cc:9261] Unable to register cuDNN factory: Attempting to register factory for plugin cuDNN when one has already been registered\n",
      "2024-04-29 18:30:56.131348: E external/local_xla/xla/stream_executor/cuda/cuda_fft.cc:607] Unable to register cuFFT factory: Attempting to register factory for plugin cuFFT when one has already been registered\n",
      "2024-04-29 18:30:56.132310: E external/local_xla/xla/stream_executor/cuda/cuda_blas.cc:1515] Unable to register cuBLAS factory: Attempting to register factory for plugin cuBLAS when one has already been registered\n",
      "2024-04-29 18:30:56.137618: I external/local_tsl/tsl/cuda/cudart_stub.cc:31] Could not find cuda drivers on your machine, GPU will not be used.\n",
      "2024-04-29 18:30:56.138690: I tensorflow/core/platform/cpu_feature_guard.cc:182] This TensorFlow binary is optimized to use available CPU instructions in performance-critical operations.\n",
      "To enable the following instructions: AVX2 AVX512F AVX512_VNNI FMA, in other operations, rebuild TensorFlow with the appropriate compiler flags.\n",
      "2024-04-29 18:30:56.816131: W tensorflow/compiler/tf2tensorrt/utils/py_utils.cc:38] TF-TRT Warning: Could not find TensorRT\n"
     ]
    },
    {
     "name": "stdout",
     "output_type": "stream",
     "text": [
      "Training dataset: (60000, 784), uint8\n",
      "Testing dataset: (10000, 784), uint8\n"
     ]
    }
   ],
   "source": [
    "from tensorflow import keras\n",
    "import numpy as np\n",
    "\n",
    "f_mnist = keras.datasets.fashion_mnist\n",
    "(x_train_full, y_train_full), (x_test, y_test) = f_mnist.load_data()\n",
    "\n",
    "x_train_full = np.reshape(x_train_full, (x_train_full.shape[0], x_train_full.shape[1] * x_train_full.shape[2]))\n",
    "x_test = np.reshape(x_test, (x_test.shape[0], x_test.shape[1] * x_test.shape[2]))\n",
    "\n",
    "print(f\"Training dataset: {x_train_full.shape}, {x_train_full.dtype}\")\n",
    "print(f\"Testing dataset: {x_test.shape}, {x_test.dtype}\")\n",
    "\n",
    "x_train = x_train_full / 255.0\n",
    "x_test = x_test / 255.0\n",
    "\n",
    "y_train = y_train_full"
   ]
  },
  {
   "cell_type": "code",
   "execution_count": 2,
   "id": "bff0b632-ee6b-45a8-9495-f2b1f75232f3",
   "metadata": {},
   "outputs": [],
   "source": [
    "from sklearn.preprocessing import StandardScaler\n",
    "\n",
    "\n",
    "scaler = StandardScaler()\n",
    "x_train_scaled = scaler.fit_transform(x_train)\n",
    "x_test_scaled = scaler.transform(x_test)"
   ]
  },
  {
   "cell_type": "code",
   "execution_count": 3,
   "id": "87d7c9f4-21b7-4037-b04d-600c4313d0f9",
   "metadata": {},
   "outputs": [
    {
     "data": {
      "text/plain": [
       "'Ankle boot'"
      ]
     },
     "execution_count": 3,
     "metadata": {},
     "output_type": "execute_result"
    }
   ],
   "source": [
    "class_names = [\n",
    "    'T-shirt',\n",
    "    'Trouser',\n",
    "    'Pullover',\n",
    "    'Dress',\n",
    "    'Coat',\n",
    "    'Sandal',\n",
    "    'Shirt',\n",
    "    'Sneaker',\n",
    "    'Bag',\n",
    "    'Ankle boot'\n",
    "]\n",
    "\n",
    "class_names[y_train[0]]"
   ]
  },
  {
   "cell_type": "code",
   "execution_count": 4,
   "id": "0096b372-4d65-4abd-8743-23804bdf1bb3",
   "metadata": {},
   "outputs": [],
   "source": [
    "from sklearn.tree import DecisionTreeClassifier\n",
    "from sklearn.neighbors import KNeighborsClassifier\n",
    "from sklearn.svm import LinearSVC\n",
    "from sklearn.linear_model import LogisticRegression\n",
    "\n",
    "from sklearn.decomposition import PCA\n",
    "from sklearn.random_projection import GaussianRandomProjection\n",
    "from sklearn.discriminant_analysis import LinearDiscriminantAnalysis\n",
    "\n",
    "\n",
    "classifying_models = {\n",
    "    'Decision Tree': DecisionTreeClassifier(),\n",
    "    'K-Neighbors': KNeighborsClassifier(),\n",
    "    'Linear SVC': LinearSVC(dual=True),\n",
    "    'Logistic Regression': LogisticRegression(solver='lbfgs')\n",
    "}\n",
    "\n",
    "dimensionality_methods = {\n",
    "    'Original Dataset': lambda X, y: (x_train_scaled, y_train),\n",
    "    'PCA': PCA(),\n",
    "    'Random Projection': GaussianRandomProjection(n_components=100),\n",
    "    'LDA': LinearDiscriminantAnalysis()\n",
    "}\n",
    "\n",
    "classifying_analyze = {method: [] for method in dimensionality_methods}\n",
    "classifying_analyze_time = {method: [] for method in dimensionality_methods}"
   ]
  },
  {
   "cell_type": "code",
   "execution_count": 5,
   "id": "204b4c67-3548-4937-a727-195fb5f168bd",
   "metadata": {},
   "outputs": [
    {
     "name": "stdout",
     "output_type": "stream",
     "text": [
      "Running DecisionTreeClassifier with Original Dataset\n",
      "\n",
      "Running DecisionTreeClassifier with PCA\n",
      "\n",
      "Running DecisionTreeClassifier with Random Projection\n",
      "\n",
      "Running DecisionTreeClassifier with LDA\n",
      "\n",
      "Running KNeighborsClassifier with Original Dataset\n",
      "\n",
      "Running KNeighborsClassifier with PCA\n",
      "\n",
      "Running KNeighborsClassifier with Random Projection\n",
      "\n",
      "Running KNeighborsClassifier with LDA\n",
      "\n",
      "Running LinearSVC with Original Dataset\n",
      "\n"
     ]
    },
    {
     "name": "stderr",
     "output_type": "stream",
     "text": [
      "/home/suphomie/uni/homeworks-labs/machine-learning-tools/venv/lib/python3.11/site-packages/sklearn/svm/_base.py:1237: ConvergenceWarning: Liblinear failed to converge, increase the number of iterations.\n",
      "  warnings.warn(\n"
     ]
    },
    {
     "name": "stdout",
     "output_type": "stream",
     "text": [
      "Running LinearSVC with PCA\n",
      "\n"
     ]
    },
    {
     "name": "stderr",
     "output_type": "stream",
     "text": [
      "/home/suphomie/uni/homeworks-labs/machine-learning-tools/venv/lib/python3.11/site-packages/sklearn/svm/_base.py:1237: ConvergenceWarning: Liblinear failed to converge, increase the number of iterations.\n",
      "  warnings.warn(\n"
     ]
    },
    {
     "name": "stdout",
     "output_type": "stream",
     "text": [
      "Running LinearSVC with Random Projection\n",
      "\n"
     ]
    },
    {
     "name": "stderr",
     "output_type": "stream",
     "text": [
      "/home/suphomie/uni/homeworks-labs/machine-learning-tools/venv/lib/python3.11/site-packages/sklearn/svm/_base.py:1237: ConvergenceWarning: Liblinear failed to converge, increase the number of iterations.\n",
      "  warnings.warn(\n"
     ]
    },
    {
     "name": "stdout",
     "output_type": "stream",
     "text": [
      "Running LinearSVC with LDA\n",
      "\n"
     ]
    },
    {
     "name": "stderr",
     "output_type": "stream",
     "text": [
      "/home/suphomie/uni/homeworks-labs/machine-learning-tools/venv/lib/python3.11/site-packages/sklearn/svm/_base.py:1237: ConvergenceWarning: Liblinear failed to converge, increase the number of iterations.\n",
      "  warnings.warn(\n"
     ]
    },
    {
     "name": "stdout",
     "output_type": "stream",
     "text": [
      "Running LogisticRegression with Original Dataset\n",
      "\n"
     ]
    },
    {
     "name": "stderr",
     "output_type": "stream",
     "text": [
      "/home/suphomie/uni/homeworks-labs/machine-learning-tools/venv/lib/python3.11/site-packages/sklearn/linear_model/_logistic.py:469: ConvergenceWarning: lbfgs failed to converge (status=1):\n",
      "STOP: TOTAL NO. of ITERATIONS REACHED LIMIT.\n",
      "\n",
      "Increase the number of iterations (max_iter) or scale the data as shown in:\n",
      "    https://scikit-learn.org/stable/modules/preprocessing.html\n",
      "Please also refer to the documentation for alternative solver options:\n",
      "    https://scikit-learn.org/stable/modules/linear_model.html#logistic-regression\n",
      "  n_iter_i = _check_optimize_result(\n"
     ]
    },
    {
     "name": "stdout",
     "output_type": "stream",
     "text": [
      "Running LogisticRegression with PCA\n",
      "\n"
     ]
    },
    {
     "name": "stderr",
     "output_type": "stream",
     "text": [
      "/home/suphomie/uni/homeworks-labs/machine-learning-tools/venv/lib/python3.11/site-packages/sklearn/linear_model/_logistic.py:469: ConvergenceWarning: lbfgs failed to converge (status=1):\n",
      "STOP: TOTAL NO. of ITERATIONS REACHED LIMIT.\n",
      "\n",
      "Increase the number of iterations (max_iter) or scale the data as shown in:\n",
      "    https://scikit-learn.org/stable/modules/preprocessing.html\n",
      "Please also refer to the documentation for alternative solver options:\n",
      "    https://scikit-learn.org/stable/modules/linear_model.html#logistic-regression\n",
      "  n_iter_i = _check_optimize_result(\n"
     ]
    },
    {
     "name": "stdout",
     "output_type": "stream",
     "text": [
      "Running LogisticRegression with Random Projection\n",
      "\n"
     ]
    },
    {
     "name": "stderr",
     "output_type": "stream",
     "text": [
      "/home/suphomie/uni/homeworks-labs/machine-learning-tools/venv/lib/python3.11/site-packages/sklearn/linear_model/_logistic.py:469: ConvergenceWarning: lbfgs failed to converge (status=1):\n",
      "STOP: TOTAL NO. of ITERATIONS REACHED LIMIT.\n",
      "\n",
      "Increase the number of iterations (max_iter) or scale the data as shown in:\n",
      "    https://scikit-learn.org/stable/modules/preprocessing.html\n",
      "Please also refer to the documentation for alternative solver options:\n",
      "    https://scikit-learn.org/stable/modules/linear_model.html#logistic-regression\n",
      "  n_iter_i = _check_optimize_result(\n"
     ]
    },
    {
     "name": "stdout",
     "output_type": "stream",
     "text": [
      "Running LogisticRegression with LDA\n",
      "\n"
     ]
    },
    {
     "name": "stderr",
     "output_type": "stream",
     "text": [
      "/home/suphomie/uni/homeworks-labs/machine-learning-tools/venv/lib/python3.11/site-packages/sklearn/linear_model/_logistic.py:469: ConvergenceWarning: lbfgs failed to converge (status=1):\n",
      "STOP: TOTAL NO. of ITERATIONS REACHED LIMIT.\n",
      "\n",
      "Increase the number of iterations (max_iter) or scale the data as shown in:\n",
      "    https://scikit-learn.org/stable/modules/preprocessing.html\n",
      "Please also refer to the documentation for alternative solver options:\n",
      "    https://scikit-learn.org/stable/modules/linear_model.html#logistic-regression\n",
      "  n_iter_i = _check_optimize_result(\n"
     ]
    }
   ],
   "source": [
    "import time\n",
    "\n",
    "\n",
    "for model_name, model in classifying_models.items():\n",
    "    for method_name, dimensionality_reducer in dimensionality_methods.items():\n",
    "        model_instance = type(model).__name__\n",
    "        if model_instance == 'LogisticRegression':\n",
    "            model = LogisticRegression(solver='lbfgs', fit_intercept=True)\n",
    "\n",
    "        print(f\"Running {model_instance} with {method_name}\\n\")\n",
    "\n",
    "        if method_name == \"Original Dataset\":\n",
    "            start = time.time()\n",
    "            model.fit(x_train_scaled, y_train)\n",
    "            end = time.time()\n",
    "\n",
    "            accuracy = model.score(x_test_scaled, y_test)\n",
    "\n",
    "            classifying_analyze_time[method_name].append(end - start)\n",
    "            classifying_analyze[method_name].append(accuracy)\n",
    "            \n",
    "            continue\n",
    "            \n",
    "        # Навчання моделі з використанням методу розмірності даних\n",
    "        start = time.time()\n",
    "        x_train_reduced = dimensionality_reducer.fit_transform(x_train_scaled, y_train)\n",
    "        model.fit(x_train_reduced, y_train)\n",
    "        end = time.time()\n",
    "\n",
    "        # Оцінка результату\n",
    "        x_test_reduced = dimensionality_reducer.transform(x_test_scaled)\n",
    "        accuracy = model.score(x_test_reduced, y_test)\n",
    "\n",
    "        # Збереження результатів\n",
    "        classifying_analyze_time[method_name].append(end - start)\n",
    "        classifying_analyze[method_name].append(accuracy)"
   ]
  },
  {
   "cell_type": "code",
   "execution_count": 6,
   "id": "5a69cff9-2f86-401f-a3e1-8ede95c3004b",
   "metadata": {},
   "outputs": [
    {
     "data": {
      "text/plain": [
       "({'Original Dataset': [0.7889, 0.8533, 0.8284, 0.8439],\n",
       "  'PCA': [0.7486, 0.8533, 0.8283, 0.8439],\n",
       "  'Random Projection': [0.7026, 0.838, 0.7704, 0.8103],\n",
       "  'LDA': [0.77, 0.8221, 0.8169, 0.8241]},\n",
       " {'Original Dataset': [50.70191478729248,\n",
       "   0.08204102516174316,\n",
       "   1059.1568534374237,\n",
       "   18.521929502487183],\n",
       "  'PCA': [278.8157603740692,\n",
       "   14.723002672195435,\n",
       "   754.4843339920044,\n",
       "   30.00542664527893],\n",
       "  'Random Projection': [56.044333696365356,\n",
       "   0.35141491889953613,\n",
       "   248.42104721069336,\n",
       "   6.380276441574097],\n",
       "  'LDA': [30.990924835205078,\n",
       "   16.129300832748413,\n",
       "   44.38417983055115,\n",
       "   18.47638750076294]})"
      ]
     },
     "execution_count": 6,
     "metadata": {},
     "output_type": "execute_result"
    }
   ],
   "source": [
    "classifying_analyze, classifying_analyze_time"
   ]
  },
  {
   "cell_type": "code",
   "execution_count": 7,
   "id": "f76c8065-0892-4fbe-ad71-8d0436f77092",
   "metadata": {},
   "outputs": [],
   "source": [
    "classifying_analyze['Model'] = ['Decision Tree', 'K-Neighbors', 'Linear SVC', 'Logistic Regression']\n",
    "classifying_analyze_time['Model'] = ['Decision Tree', 'K-Neighbors', 'Linear SVC', 'Logistic Regression']"
   ]
  },
  {
   "cell_type": "code",
   "execution_count": 8,
   "id": "207dcc90-b9c4-4d9d-88a9-28c92e5a6d8b",
   "metadata": {},
   "outputs": [
    {
     "data": {
      "text/html": [
       "<div>\n",
       "<style scoped>\n",
       "    .dataframe tbody tr th:only-of-type {\n",
       "        vertical-align: middle;\n",
       "    }\n",
       "\n",
       "    .dataframe tbody tr th {\n",
       "        vertical-align: top;\n",
       "    }\n",
       "\n",
       "    .dataframe thead th {\n",
       "        text-align: right;\n",
       "    }\n",
       "</style>\n",
       "<table border=\"1\" class=\"dataframe\">\n",
       "  <thead>\n",
       "    <tr style=\"text-align: right;\">\n",
       "      <th></th>\n",
       "      <th>Original Dataset</th>\n",
       "      <th>PCA</th>\n",
       "      <th>Random Projection</th>\n",
       "      <th>LDA</th>\n",
       "    </tr>\n",
       "    <tr>\n",
       "      <th>Model</th>\n",
       "      <th></th>\n",
       "      <th></th>\n",
       "      <th></th>\n",
       "      <th></th>\n",
       "    </tr>\n",
       "  </thead>\n",
       "  <tbody>\n",
       "    <tr>\n",
       "      <th>Decision Tree</th>\n",
       "      <td>0.7889</td>\n",
       "      <td>0.7486</td>\n",
       "      <td>0.7026</td>\n",
       "      <td>0.7700</td>\n",
       "    </tr>\n",
       "    <tr>\n",
       "      <th>K-Neighbors</th>\n",
       "      <td>0.8533</td>\n",
       "      <td>0.8533</td>\n",
       "      <td>0.8380</td>\n",
       "      <td>0.8221</td>\n",
       "    </tr>\n",
       "    <tr>\n",
       "      <th>Linear SVC</th>\n",
       "      <td>0.8284</td>\n",
       "      <td>0.8283</td>\n",
       "      <td>0.7704</td>\n",
       "      <td>0.8169</td>\n",
       "    </tr>\n",
       "    <tr>\n",
       "      <th>Logistic Regression</th>\n",
       "      <td>0.8439</td>\n",
       "      <td>0.8439</td>\n",
       "      <td>0.8103</td>\n",
       "      <td>0.8241</td>\n",
       "    </tr>\n",
       "  </tbody>\n",
       "</table>\n",
       "</div>"
      ],
      "text/plain": [
       "                     Original Dataset     PCA  Random Projection     LDA\n",
       "Model                                                                   \n",
       "Decision Tree                  0.7889  0.7486             0.7026  0.7700\n",
       "K-Neighbors                    0.8533  0.8533             0.8380  0.8221\n",
       "Linear SVC                     0.8284  0.8283             0.7704  0.8169\n",
       "Logistic Regression            0.8439  0.8439             0.8103  0.8241"
      ]
     },
     "execution_count": 8,
     "metadata": {},
     "output_type": "execute_result"
    }
   ],
   "source": [
    "import pandas as pd\n",
    "\n",
    "\n",
    "data = classifying_analyze\n",
    "df = pd.DataFrame.from_dict(data)\n",
    "\n",
    "df.set_index('Model')"
   ]
  },
  {
   "cell_type": "code",
   "execution_count": 9,
   "id": "2f2e7dc1-5d59-44de-8707-632d0c10ff2d",
   "metadata": {},
   "outputs": [
    {
     "data": {
      "text/html": [
       "<div>\n",
       "<style scoped>\n",
       "    .dataframe tbody tr th:only-of-type {\n",
       "        vertical-align: middle;\n",
       "    }\n",
       "\n",
       "    .dataframe tbody tr th {\n",
       "        vertical-align: top;\n",
       "    }\n",
       "\n",
       "    .dataframe thead th {\n",
       "        text-align: right;\n",
       "    }\n",
       "</style>\n",
       "<table border=\"1\" class=\"dataframe\">\n",
       "  <thead>\n",
       "    <tr style=\"text-align: right;\">\n",
       "      <th></th>\n",
       "      <th>Original Dataset</th>\n",
       "      <th>PCA</th>\n",
       "      <th>Random Projection</th>\n",
       "      <th>LDA</th>\n",
       "    </tr>\n",
       "    <tr>\n",
       "      <th>Model</th>\n",
       "      <th></th>\n",
       "      <th></th>\n",
       "      <th></th>\n",
       "      <th></th>\n",
       "    </tr>\n",
       "  </thead>\n",
       "  <tbody>\n",
       "    <tr>\n",
       "      <th>Decision Tree</th>\n",
       "      <td>50.701915</td>\n",
       "      <td>278.815760</td>\n",
       "      <td>56.044334</td>\n",
       "      <td>30.990925</td>\n",
       "    </tr>\n",
       "    <tr>\n",
       "      <th>K-Neighbors</th>\n",
       "      <td>0.082041</td>\n",
       "      <td>14.723003</td>\n",
       "      <td>0.351415</td>\n",
       "      <td>16.129301</td>\n",
       "    </tr>\n",
       "    <tr>\n",
       "      <th>Linear SVC</th>\n",
       "      <td>1059.156853</td>\n",
       "      <td>754.484334</td>\n",
       "      <td>248.421047</td>\n",
       "      <td>44.384180</td>\n",
       "    </tr>\n",
       "    <tr>\n",
       "      <th>Logistic Regression</th>\n",
       "      <td>18.521930</td>\n",
       "      <td>30.005427</td>\n",
       "      <td>6.380276</td>\n",
       "      <td>18.476388</td>\n",
       "    </tr>\n",
       "  </tbody>\n",
       "</table>\n",
       "</div>"
      ],
      "text/plain": [
       "                     Original Dataset         PCA  Random Projection  \\\n",
       "Model                                                                  \n",
       "Decision Tree               50.701915  278.815760          56.044334   \n",
       "K-Neighbors                  0.082041   14.723003           0.351415   \n",
       "Linear SVC                1059.156853  754.484334         248.421047   \n",
       "Logistic Regression         18.521930   30.005427           6.380276   \n",
       "\n",
       "                           LDA  \n",
       "Model                           \n",
       "Decision Tree        30.990925  \n",
       "K-Neighbors          16.129301  \n",
       "Linear SVC           44.384180  \n",
       "Logistic Regression  18.476388  "
      ]
     },
     "execution_count": 9,
     "metadata": {},
     "output_type": "execute_result"
    }
   ],
   "source": [
    "data = classifying_analyze_time\n",
    "df = pd.DataFrame.from_dict(data)\n",
    "\n",
    "df.set_index('Model')"
   ]
  }
 ],
 "metadata": {
  "kernelspec": {
   "display_name": "Python 3 (ipykernel)",
   "language": "python",
   "name": "python3"
  },
  "language_info": {
   "codemirror_mode": {
    "name": "ipython",
    "version": 3
   },
   "file_extension": ".py",
   "mimetype": "text/x-python",
   "name": "python",
   "nbconvert_exporter": "python",
   "pygments_lexer": "ipython3",
   "version": "3.11.6"
  }
 },
 "nbformat": 4,
 "nbformat_minor": 5
}
