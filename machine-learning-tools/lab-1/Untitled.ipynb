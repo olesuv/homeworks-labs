{
 "cells": [
  {
   "cell_type": "code",
   "execution_count": 63,
   "id": "f755005d-0dda-408f-a480-9267817ff9e5",
   "metadata": {},
   "outputs": [],
   "source": [
    "import numpy as np\n",
    "import random"
   ]
  },
  {
   "cell_type": "code",
   "execution_count": 74,
   "id": "967ccdf4-a80f-448e-a5b9-af1d548c0692",
   "metadata": {},
   "outputs": [],
   "source": [
    "def mn_matrix(M: int, N: int):\n",
    "    a = np.full((M, N), random.uniform(0, 1))\n",
    "    return a"
   ]
  },
  {
   "cell_type": "code",
   "execution_count": 75,
   "id": "3a4f35e5-70a9-49ca-a32c-ce05420acf1d",
   "metadata": {},
   "outputs": [
    {
     "data": {
      "text/plain": [
       "array([[0.94224645, 0.94224645, 0.94224645, 0.94224645],\n",
       "       [0.94224645, 0.94224645, 0.94224645, 0.94224645]])"
      ]
     },
     "execution_count": 75,
     "metadata": {},
     "output_type": "execute_result"
    }
   ],
   "source": [
    "a = mn_matrix(2, 4)\n",
    "a"
   ]
  },
  {
   "cell_type": "code",
   "execution_count": 76,
   "id": "24bc7238-1e15-400b-9f48-dd6782756cb2",
   "metadata": {},
   "outputs": [],
   "source": [
    "def k_vector(M: int):\n",
    "    a = np.full(M, random.uniform(0, 1))\n",
    "    return a"
   ]
  },
  {
   "cell_type": "code",
   "execution_count": 77,
   "id": "1688eab0-9e90-4f5c-be1a-e55b3cf5e5f4",
   "metadata": {},
   "outputs": [
    {
     "data": {
      "text/plain": [
       "array([0.53686404, 0.53686404, 0.53686404, 0.53686404, 0.53686404])"
      ]
     },
     "execution_count": 77,
     "metadata": {},
     "output_type": "execute_result"
    }
   ],
   "source": [
    "a = k_vector(5)\n",
    "a"
   ]
  },
  {
   "cell_type": "code",
   "execution_count": 79,
   "id": "9e6f2b4e-19a1-436e-a60b-aafaaed0e57e",
   "metadata": {},
   "outputs": [],
   "source": [
    "def mn_nk(m_1: list[int], m_2: list[int]):\n",
    "    if len(m_1[0]) != len(m_2):\n",
    "        raise ValueError(\"N from m_1 should be equal to N in m_2\")\n",
    "\n",
    "    result = []\n",
    "    for i in range(len(m_1)):\n",
    "        row = []\n",
    "        for j in range(len(m_2[0])):\n",
    "            element = 0\n",
    "            for k in range(len(m_2)):\n",
    "                element += m_1[i][k] * m_2[k][j]\n",
    "            row.append(element)\n",
    "        result.append(row)\n",
    "\n",
    "    return result"
   ]
  },
  {
   "cell_type": "code",
   "execution_count": null,
   "id": "fcccddde-55f9-4c98-aaf9-72327debe803",
   "metadata": {},
   "outputs": [],
   "source": [
    "a = [[1, 7, 3], [5, 2, 8]]\n",
    "b = []"
   ]
  }
 ],
 "metadata": {
  "kernelspec": {
   "display_name": "Python 3 (ipykernel)",
   "language": "python",
   "name": "python3"
  },
  "language_info": {
   "codemirror_mode": {
    "name": "ipython",
    "version": 3
   },
   "file_extension": ".py",
   "mimetype": "text/x-python",
   "name": "python",
   "nbconvert_exporter": "python",
   "pygments_lexer": "ipython3",
   "version": "3.10.12"
  }
 },
 "nbformat": 4,
 "nbformat_minor": 5
}
