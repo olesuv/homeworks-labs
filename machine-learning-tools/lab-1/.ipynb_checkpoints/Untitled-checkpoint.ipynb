{
 "cells": [
  {
   "cell_type": "code",
   "execution_count": 63,
   "id": "f755005d-0dda-408f-a480-9267817ff9e5",
   "metadata": {},
   "outputs": [],
   "source": [
    "import numpy as np\n",
    "import random"
   ]
  },
  {
   "cell_type": "code",
   "execution_count": 68,
   "id": "967ccdf4-a80f-448e-a5b9-af1d548c0692",
   "metadata": {},
   "outputs": [],
   "source": [
    "def mn_matrix(M: int, N: int):\n",
    "    a = np.full((M, N), random.uniform(0, 1))\n",
    "    return a"
   ]
  },
  {
   "cell_type": "code",
   "execution_count": 73,
   "id": "3a4f35e5-70a9-49ca-a32c-ce05420acf1d",
   "metadata": {},
   "outputs": [
    {
     "data": {
      "text/plain": [
       "array([[0.29333263, 0.29333263, 0.29333263, 0.29333263],\n",
       "       [0.29333263, 0.29333263, 0.29333263, 0.29333263]])"
      ]
     },
     "execution_count": 73,
     "metadata": {},
     "output_type": "execute_result"
    }
   ],
   "source": [
    "a = mn_matrix(2, 4)\n",
    "a"
   ]
  },
  {
   "cell_type": "code",
   "execution_count": 20,
   "id": "24bc7238-1e15-400b-9f48-dd6782756cb2",
   "metadata": {},
   "outputs": [],
   "source": [
    "def k_vector(M: int):\n",
    "    a = np.full(M, random.uniform(0, 1))\n",
    "    return a"
   ]
  },
  {
   "cell_type": "code",
   "execution_count": 28,
   "id": "1688eab0-9e90-4f5c-be1a-e55b3cf5e5f4",
   "metadata": {},
   "outputs": [
    {
     "data": {
      "text/plain": [
       "array([0.61135953, 0.61135953, 0.61135953, 0.61135953, 0.61135953])"
      ]
     },
     "execution_count": 28,
     "metadata": {},
     "output_type": "execute_result"
    }
   ],
   "source": [
    "a = k_vector(5)\n",
    "a"
   ]
  },
  {
   "cell_type": "code",
   "execution_count": null,
   "id": "9e6f2b4e-19a1-436e-a60b-aafaaed0e57e",
   "metadata": {},
   "outputs": [],
   "source": [
    "def mn_nk(M: int, N: int, K: int):\n",
    "    "
   ]
  }
 ],
 "metadata": {
  "kernelspec": {
   "display_name": "Python 3 (ipykernel)",
   "language": "python",
   "name": "python3"
  },
  "language_info": {
   "codemirror_mode": {
    "name": "ipython",
    "version": 3
   },
   "file_extension": ".py",
   "mimetype": "text/x-python",
   "name": "python",
   "nbconvert_exporter": "python",
   "pygments_lexer": "ipython3",
   "version": "3.10.12"
  }
 },
 "nbformat": 4,
 "nbformat_minor": 5
}
