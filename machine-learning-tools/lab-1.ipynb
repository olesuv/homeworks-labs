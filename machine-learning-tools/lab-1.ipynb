{
 "cells": [
  {
   "cell_type": "code",
   "execution_count": 1,
   "id": "f755005d-0dda-408f-a480-9267817ff9e5",
   "metadata": {},
   "outputs": [],
   "source": [
    "import numpy as np\n",
    "import random"
   ]
  },
  {
   "cell_type": "code",
   "execution_count": 2,
   "id": "967ccdf4-a80f-448e-a5b9-af1d548c0692",
   "metadata": {},
   "outputs": [],
   "source": [
    "def mn_matrix(M: int, N: int):\n",
    "    a = np.random.randn(M, N)\n",
    "    return a"
   ]
  },
  {
   "cell_type": "code",
   "execution_count": 3,
   "id": "3a4f35e5-70a9-49ca-a32c-ce05420acf1d",
   "metadata": {},
   "outputs": [
    {
     "data": {
      "text/plain": [
       "array([[ 1.18887268, -1.55999501, -0.58662178, -1.90979924],\n",
       "       [ 0.16906184,  0.22613497, -1.05216704,  1.32928716]])"
      ]
     },
     "execution_count": 3,
     "metadata": {},
     "output_type": "execute_result"
    }
   ],
   "source": [
    "a = mn_matrix(2, 4)\n",
    "a"
   ]
  },
  {
   "cell_type": "code",
   "execution_count": 4,
   "id": "24bc7238-1e15-400b-9f48-dd6782756cb2",
   "metadata": {},
   "outputs": [],
   "source": [
    "def k_vector(M: int):\n",
    "    a = np.random.randn(M)\n",
    "    return a"
   ]
  },
  {
   "cell_type": "code",
   "execution_count": 5,
   "id": "1688eab0-9e90-4f5c-be1a-e55b3cf5e5f4",
   "metadata": {},
   "outputs": [
    {
     "data": {
      "text/plain": [
       "array([ 1.28759469,  0.63877067,  0.33669195, -0.81296204, -0.91624772])"
      ]
     },
     "execution_count": 5,
     "metadata": {},
     "output_type": "execute_result"
    }
   ],
   "source": [
    "a = k_vector(5)\n",
    "a"
   ]
  },
  {
   "cell_type": "code",
   "execution_count": 6,
   "id": "9e6f2b4e-19a1-436e-a60b-aafaaed0e57e",
   "metadata": {},
   "outputs": [],
   "source": [
    "def mn_nk(m_1: list[int], m_2: list[int]):\n",
    "    if len(m_1[0]) != len(m_2):\n",
    "        raise ValueError(\"N from m_1 should be equal to N in m_2\")\n",
    "\n",
    "    result = []\n",
    "    for i in range(len(m_1)):\n",
    "        row = []\n",
    "        for j in range(len(m_2[0])):\n",
    "            element = 0\n",
    "            for k in range(len(m_2)):\n",
    "                element += m_1[i][k] * m_2[k][j]\n",
    "            row.append(element)\n",
    "        result.append(row)\n",
    "\n",
    "    return result"
   ]
  },
  {
   "cell_type": "code",
   "execution_count": 7,
   "id": "fcccddde-55f9-4c98-aaf9-72327debe803",
   "metadata": {},
   "outputs": [],
   "source": [
    "def mn_n(m_1: list[int], v_1: list[int]):\n",
    "    if len(m_1[0]) != len(v_1):\n",
    "        raise ValueError(\"N from matrix should be equal to N in vector\")\n",
    "\n",
    "    result = []\n",
    "    for i in range(len(m_1)):\n",
    "        element = 0\n",
    "        for k in range(len(v_1)):\n",
    "            element += m_1[i][k] * v_1[k]\n",
    "        result.append(element)\n",
    "\n",
    "    return result"
   ]
  },
  {
   "cell_type": "code",
   "execution_count": 8,
   "id": "4bd7154b-a8ac-4a5f-8846-430055ec67f2",
   "metadata": {},
   "outputs": [],
   "source": [
    "def m_mn(v, G):\n",
    "    result = []\n",
    "    for i in range(len(G[0])):\n",
    "        total = 0\n",
    "        for j in range(len(v)):\n",
    "            total += v[j] * G[j][i]\n",
    "        result.append(total)\n",
    "    return result"
   ]
  },
  {
   "cell_type": "code",
   "execution_count": 9,
   "id": "5aca4bf1-819e-4827-9524-0e6701d618d9",
   "metadata": {},
   "outputs": [],
   "source": [
    "def v_v(v_1: list[int], v_2: list[int]):\n",
    "    if len(v_1) != len(v_2):\n",
    "        raise ValueError(\"N should be equal to both vectors\")\n",
    "\n",
    "    result = 0\n",
    "    for i in range(len(v_1)):\n",
    "        result += v_1[i] * v_2[i]\n",
    "        \n",
    "    return result"
   ]
  },
  {
   "cell_type": "code",
   "execution_count": 10,
   "id": "05ff9633-1708-43a5-bc29-3fba0c2b73f6",
   "metadata": {
    "scrolled": true
   },
   "outputs": [
    {
     "data": {
      "text/plain": [
       "(array([[-0.22611919,  0.26822149,  1.8198475 , ...,  0.51331015,\n",
       "         -0.42889905,  0.12919502],\n",
       "        [ 0.5052512 ,  0.25772846,  0.69242373, ..., -0.68235511,\n",
       "         -0.33117512, -0.23990864],\n",
       "        [ 0.53871935,  1.95824251,  1.48670587, ...,  0.5565508 ,\n",
       "         -0.85442032,  0.04907351],\n",
       "        ...,\n",
       "        [-1.35588916, -0.43672413, -1.12493554, ..., -1.24518413,\n",
       "         -1.36210956,  1.30901199],\n",
       "        [ 0.54971028,  0.80822848, -0.59189512, ...,  0.04056385,\n",
       "          1.05601146,  0.24462701],\n",
       "        [-0.3893757 , -0.98181004, -1.52541695, ...,  1.62812708,\n",
       "          0.66988426, -0.34487916]]),\n",
       " array([[ 0.20931875, -1.13763062,  1.00729   , ...,  0.11640356,\n",
       "         -0.0491704 ,  1.22142022],\n",
       "        [-0.92985115,  1.71400945, -0.49683004, ...,  0.93631258,\n",
       "          0.82560233,  0.10873258],\n",
       "        [ 1.66818162, -1.03567394,  0.2729793 , ..., -1.21702707,\n",
       "          0.15587798, -0.47689045],\n",
       "        ...,\n",
       "        [ 0.98225683, -1.49359726,  0.5811692 , ...,  1.78174451,\n",
       "          2.07687415, -0.29816399],\n",
       "        [ 0.47026472, -0.10621686, -1.51817739, ..., -0.29777854,\n",
       "          0.33439465, -2.40651548],\n",
       "        [-0.35118884,  0.24158849, -0.08574622, ...,  0.61871191,\n",
       "         -1.19211926,  0.87367029]]),\n",
       " array([ 0.03038165, -1.90540916, -0.27262506, ..., -1.68810699,\n",
       "        -1.16750801, -2.42454057]),\n",
       " array([-0.66787796,  0.73876829,  1.21254252, ..., -0.46987383,\n",
       "         0.39102249,  0.19518408]))"
      ]
     },
     "execution_count": 10,
     "metadata": {},
     "output_type": "execute_result"
    }
   ],
   "source": [
    "M = np.random.randint(1000, 1100)\n",
    "N = np.random.randint(1000, 1100)\n",
    "K = np.random.randint(1000, 1100)\n",
    "\n",
    "mn = mn_matrix(M, N)\n",
    "nk = mn_matrix(N, K)\n",
    "\n",
    "m = k_vector(M)\n",
    "n = k_vector(N)\n",
    "\n",
    "mn, nk, m, n"
   ]
  },
  {
   "cell_type": "code",
   "execution_count": 11,
   "id": "07ca8d8e-4dc4-49c0-b8aa-8da51789be72",
   "metadata": {},
   "outputs": [
    {
     "name": "stdout",
     "output_type": "stream",
     "text": [
      "Custom matrix multiplication: 526.0591292381287\n",
      "Numpy matrix multiplication: 0.025685548782348633\n"
     ]
    },
    {
     "data": {
      "text/plain": [
       "True"
      ]
     },
     "execution_count": 11,
     "metadata": {},
     "output_type": "execute_result"
    }
   ],
   "source": [
    "import time\n",
    "\n",
    "mn_custom = mn_matrix(1000, 1000)\n",
    "nk_custom = mn_matrix(1000, 1000)\n",
    "\n",
    "start = time.time()\n",
    "a = mn_nk(mn_custom, nk_custom)\n",
    "end = time.time()\n",
    "print(f\"Custom matrix multiplication: {end - start}\")\n",
    "\n",
    "start = time.time()\n",
    "b = np.matmul(mn_custom, nk_custom)\n",
    "end = time.time()\n",
    "print(f\"Numpy matrix multiplication: {end - start}\")\n",
    "\n",
    "np.allclose(a, b, atol=1e-6)"
   ]
  },
  {
   "cell_type": "code",
   "execution_count": 12,
   "id": "11edbc7a-e8f1-4bc6-8419-6335c17fb79c",
   "metadata": {},
   "outputs": [
    {
     "name": "stdout",
     "output_type": "stream",
     "text": [
      "Custom matrix, vector multiplication: 0.4949076175689697\n",
      "Numpy matrix, vector multiplication: 0.008437156677246094\n"
     ]
    },
    {
     "data": {
      "text/plain": [
       "True"
      ]
     },
     "execution_count": 12,
     "metadata": {},
     "output_type": "execute_result"
    }
   ],
   "source": [
    "start = time.time()\n",
    "a = mn_n(mn, n)\n",
    "end = time.time()\n",
    "print(f\"Custom matrix, vector multiplication: {end - start}\")\n",
    "\n",
    "start = time.time()\n",
    "b = np.dot(mn, n)\n",
    "end = time.time()\n",
    "print(f\"Numpy matrix, vector multiplication: {end - start}\")\n",
    "\n",
    "np.allclose(a, b, atol=1e-6)"
   ]
  },
  {
   "cell_type": "code",
   "execution_count": 13,
   "id": "d873941f-2493-461a-addb-0117c0519b65",
   "metadata": {},
   "outputs": [
    {
     "name": "stdout",
     "output_type": "stream",
     "text": [
      "Custom vector, matrix multiplication: 0.5820856094360352\n",
      "Numpy vector, matrix multiplication: 0.0006687641143798828\n"
     ]
    },
    {
     "data": {
      "text/plain": [
       "True"
      ]
     },
     "execution_count": 13,
     "metadata": {},
     "output_type": "execute_result"
    }
   ],
   "source": [
    "start = time.time()\n",
    "a = m_mn(m, mn)\n",
    "end = time.time()\n",
    "print(f\"Custom vector, matrix multiplication: {end - start}\")\n",
    "\n",
    "start = time.time()\n",
    "b = np.dot(m, mn)\n",
    "end = time.time()\n",
    "print(f\"Numpy vector, matrix multiplication: {end - start}\")\n",
    "\n",
    "np.allclose(a, b, atol=1e-6)"
   ]
  },
  {
   "cell_type": "code",
   "execution_count": 14,
   "id": "d7f8482a-cd20-4226-9de9-4c1b1013392f",
   "metadata": {},
   "outputs": [
    {
     "data": {
      "text/plain": [
       "(array([ 0.13715039,  1.52143926,  1.00870821, ..., -1.67839003,\n",
       "         0.31503219,  0.87787976]),\n",
       " array([ 0.26393558, -0.50838975, -1.34818735, ..., -0.57569411,\n",
       "        -0.8293902 , -0.35555633]))"
      ]
     },
     "execution_count": 14,
     "metadata": {},
     "output_type": "execute_result"
    }
   ],
   "source": [
    "v_1 = k_vector(M)\n",
    "v_2 = k_vector(M)\n",
    "\n",
    "v_1, v_2"
   ]
  },
  {
   "cell_type": "code",
   "execution_count": 15,
   "id": "aa1db0ac-7b45-41e7-8e80-45e528dbb073",
   "metadata": {},
   "outputs": [
    {
     "name": "stdout",
     "output_type": "stream",
     "text": [
      "Custom vector, vector multiplication: 0.0008361339569091797\n",
      "Numpy vector, vector multiplication: 0.00010704994201660156\n"
     ]
    },
    {
     "data": {
      "text/plain": [
       "True"
      ]
     },
     "execution_count": 15,
     "metadata": {},
     "output_type": "execute_result"
    }
   ],
   "source": [
    "start = time.time()\n",
    "a = v_v(v_1, v_2)\n",
    "end = time.time()\n",
    "print(f\"Custom vector, vector multiplication: {end - start}\")\n",
    "\n",
    "start = time.time()\n",
    "b = np.matmul(v_1, v_2)\n",
    "end = time.time()\n",
    "print(f\"Numpy vector, vector multiplication: {end - start}\")\n",
    "\n",
    "np.allclose(a, b, atol=1e-6)"
   ]
  }
 ],
 "metadata": {
  "kernelspec": {
   "display_name": "Python 3 (ipykernel)",
   "language": "python",
   "name": "python3"
  },
  "language_info": {
   "codemirror_mode": {
    "name": "ipython",
    "version": 3
   },
   "file_extension": ".py",
   "mimetype": "text/x-python",
   "name": "python",
   "nbconvert_exporter": "python",
   "pygments_lexer": "ipython3",
   "version": "3.11.6"
  }
 },
 "nbformat": 4,
 "nbformat_minor": 5
}
