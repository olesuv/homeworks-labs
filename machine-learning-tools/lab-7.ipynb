{
 "cells": [
  {
   "cell_type": "code",
   "execution_count": 13,
   "id": "dc6d3f78-6db1-4a76-a019-574393f8dec1",
   "metadata": {},
   "outputs": [
    {
     "data": {
      "text/plain": [
       "((56000, 784), dtype('float64'), (14000, 784), dtype('float64'))"
      ]
     },
     "execution_count": 13,
     "metadata": {},
     "output_type": "execute_result"
    }
   ],
   "source": [
    "import numpy as np\n",
    "from sklearn.datasets import fetch_openml\n",
    "from sklearn.model_selection import train_test_split\n",
    "\n",
    "\n",
    "X, y = fetch_openml('Fashion-MNIST', version=1, return_X_y=True)\n",
    "\n",
    "# Normalization\n",
    "X /= 255.0\n",
    "\n",
    "X_train, X_test, y_train, y_test = train_test_split(X, y, test_size=0.2, random_state=42)\n",
    "\n",
    "# Linearization\n",
    "x_train = np.array(X_train).reshape(X_train.shape[0], -1)\n",
    "x_test = np.array(X_test).reshape(X_test.shape[0], -1)\n",
    "\n",
    "x_train.shape, x_train.dtype, x_test.shape, x_test.dtype"
   ]
  },
  {
   "cell_type": "code",
   "execution_count": 19,
   "id": "07582691-57ac-4938-89a4-73ab382f02de",
   "metadata": {},
   "outputs": [],
   "source": [
    "from sklearn.preprocessing import StandardScaler\n",
    "\n",
    "\n",
    "scaler = StandardScaler()\n",
    "x_train = scaler.fit_transform(X_train)\n",
    "x_test = scaler.transform(X_test)"
   ]
  },
  {
   "cell_type": "code",
   "execution_count": 21,
   "id": "01827c35-b8bc-4473-b162-c35d0a5ab0ea",
   "metadata": {},
   "outputs": [],
   "source": [
    "def replace_labels(predictions, shift):\n",
    "    new_labels = []\n",
    "    for pred in predictions:\n",
    "        new_labels.append(shift[pred])\n",
    "    return new_labels"
   ]
  },
  {
   "cell_type": "code",
   "execution_count": 20,
   "id": "5bd2b956-4b31-4b8f-ac90-b3c727a5c569",
   "metadata": {},
   "outputs": [],
   "source": [
    "from sklearn.metrics import f1_score, jaccard_score\n",
    "\n",
    "\n",
    "def method_rate(predictions, shifted):\n",
    "    f_scores = []\n",
    "    Jaccard_scores = []\n",
    "    \n",
    "    for s in shifted:\n",
    "      pred = replace_labels(predictions, s)\n",
    "    \n",
    "      f_scores.append(f1_score(y_test, pred, average='macro'))\n",
    "      Jaccard_scores.append(Jaccard_score(y_test, pred, average='macro'))\n",
    "    \n",
    "    print(\"F1 score:\", max(f_scores))\n",
    "    print(\"Jaccard score:\", max(Jaccard_scores))"
   ]
  },
  {
   "cell_type": "code",
   "execution_count": 22,
   "id": "1b0c7085-d8f6-4d5a-b9a1-aeadb701ff54",
   "metadata": {},
   "outputs": [],
   "source": [
    "from sklearn.cluster import KMeans\n",
    "\n",
    "k_means_preds = KMeans(n_clusters=10, random_state=0).fit(x_train).predict(x_test)"
   ]
  },
  {
   "cell_type": "code",
   "execution_count": null,
   "id": "20bae8a8-245a-4756-bf33-2a98b57c597c",
   "metadata": {},
   "outputs": [],
   "source": [
    "import itertools\n",
    "\n",
    "\n",
    "shifted = [X for x in itertools.permutations(k_means_preds)]\n",
    "method_rate(k_means_preds, shifted)"
   ]
  },
  {
   "cell_type": "code",
   "execution_count": 5,
   "id": "ccb7ef55-a97d-44a6-9f50-1398f5ae5db0",
   "metadata": {},
   "outputs": [],
   "source": [
    "from sklearn.cluster import BisectingKMeans\n",
    "\n",
    "\n",
    "bk_means_preds = BisectingKMeans(n_clusters=10, init='k-means++', random_state=0, \n",
    "                              bisecting_strategy='largest_cluster').fit(x_train).predict(x_test)"
   ]
  },
  {
   "cell_type": "code",
   "execution_count": null,
   "id": "706d42e0-28bc-4deb-9b70-470802d9bc70",
   "metadata": {},
   "outputs": [],
   "source": [
    "import itertools\n",
    "\n",
    "\n",
    "shifted = [X for x in itertools.permutations(k_means_preds)]\n",
    "method_rate(bk_means_preds, shifted)"
   ]
  },
  {
   "cell_type": "code",
   "execution_count": 7,
   "id": "996f0a03-2430-4ad3-b2e9-225641bdc8e1",
   "metadata": {},
   "outputs": [],
   "source": [
    "from sklearn.cluster import DBSCAN\n",
    "\n",
    "\n",
    "dbscan_preds = DBSCAN(eps=5, min_samples=10, n_jobs=-1).fit_predict(x_train)"
   ]
  },
  {
   "cell_type": "code",
   "execution_count": null,
   "id": "a476180f-e25e-4852-a4a1-5a90fb641e4a",
   "metadata": {},
   "outputs": [],
   "source": [
    "import itertools\n",
    "\n",
    "\n",
    "shifted = [X for x in itertools.permutations(k_means_preds)]\n",
    "method_rate(dbscan_preds, shifted)"
   ]
  },
  {
   "cell_type": "code",
   "execution_count": null,
   "id": "5a22eb20-8da6-4b0f-8354-6a8c7eecaa1d",
   "metadata": {},
   "outputs": [],
   "source": [
    "class_names = [\n",
    "    'T-shirt',\n",
    "    'Trouser',\n",
    "    'Pullover',\n",
    "    'Dress',\n",
    "    'Coat',\n",
    "    'Sandal',\n",
    "    'Shirt',\n",
    "    'Sneaker',\n",
    "    'Bag',\n",
    "    'Ankle boot'\n",
    "]\n",
    "\n",
    "class_names[int(y_train[0])]"
   ]
  },
  {
   "cell_type": "code",
   "execution_count": null,
   "id": "94e6966f-a5cc-47e7-ae9e-ccffabce6fab",
   "metadata": {},
   "outputs": [],
   "source": [
    "import numpy as np\n",
    "import matplotlib.pyplot as plt\n",
    "from sklearn.manifold import TSNE\n",
    "\n",
    "\n",
    "tsne = TSNE(n_components=2, random_state=0)\n",
    "x_test_tsne = tsne.fit_transform(x_test)\n",
    "\n",
    "# Plotting the t-SNE result\n",
    "plt.figure(figsize=(8, 6))\n",
    "\n",
    "# Scatter plot each point with its predicted cluster as color\n",
    "plt.scatter(x_test_tsne[:, 0], x_test_tsne[:, 1], c=k_means_preds, cmap='viridis', s=10)\n",
    "plt.colorbar(label='Cluster')\n",
    "\n",
    "plt.title('t-SNE Visualization of Predicted Clusters')\n",
    "plt.xlabel('Component 1')\n",
    "plt.ylabel('Component 2')\n",
    "plt.show()"
   ]
  }
 ],
 "metadata": {
  "kernelspec": {
   "display_name": "Python 3 (ipykernel)",
   "language": "python",
   "name": "python3"
  },
  "language_info": {
   "codemirror_mode": {
    "name": "ipython",
    "version": 3
   },
   "file_extension": ".py",
   "mimetype": "text/x-python",
   "name": "python",
   "nbconvert_exporter": "python",
   "pygments_lexer": "ipython3",
   "version": "3.11.6"
  }
 },
 "nbformat": 4,
 "nbformat_minor": 5
}
