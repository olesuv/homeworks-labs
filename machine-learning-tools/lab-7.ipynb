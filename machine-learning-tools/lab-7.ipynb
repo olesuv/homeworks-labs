{
 "cells": [
  {
   "cell_type": "code",
   "execution_count": 1,
   "id": "dc6d3f78-6db1-4a76-a019-574393f8dec1",
   "metadata": {},
   "outputs": [
    {
     "data": {
      "text/plain": [
       "((56000, 784), dtype('float64'), (14000, 784), dtype('float64'))"
      ]
     },
     "execution_count": 1,
     "metadata": {},
     "output_type": "execute_result"
    }
   ],
   "source": [
    "import numpy as np\n",
    "from sklearn.datasets import fetch_openml\n",
    "from sklearn.model_selection import train_test_split\n",
    "\n",
    "\n",
    "X, y = fetch_openml('Fashion-MNIST', version=1, return_X_y=True)\n",
    "X /= 255.0\n",
    "\n",
    "X_train, X_test, y_train, y_test = train_test_split(X, y, test_size=0.2, random_state=42)\n",
    "\n",
    "# Linearization\n",
    "x_train = np.array(X_train).reshape(X_train.shape[0], -1)\n",
    "x_test = np.array(X_test).reshape(X_test.shape[0], -1)\n",
    "\n",
    "x_train.shape, x_train.dtype, x_test.shape, x_test.dtype"
   ]
  },
  {
   "cell_type": "code",
   "execution_count": 2,
   "id": "07582691-57ac-4938-89a4-73ab382f02de",
   "metadata": {},
   "outputs": [],
   "source": [
    "from sklearn.preprocessing import StandardScaler\n",
    "\n",
    "\n",
    "scaler = StandardScaler()\n",
    "x_train = scaler.fit_transform(X_train)\n",
    "x_test = scaler.transform(X_test)"
   ]
  },
  {
   "cell_type": "code",
   "execution_count": 3,
   "id": "36e15bd4-c8bf-4c90-8184-37b01f72bd30",
   "metadata": {},
   "outputs": [
    {
     "data": {
      "text/plain": [
       "'Ankle boot'"
      ]
     },
     "execution_count": 3,
     "metadata": {},
     "output_type": "execute_result"
    }
   ],
   "source": [
    "class_names = [\n",
    "    'T-shirt',\n",
    "    'Trouser',\n",
    "    'Pullover',\n",
    "    'Dress',\n",
    "    'Coat',\n",
    "    'Sandal',\n",
    "    'Shirt',\n",
    "    'Sneaker',\n",
    "    'Bag',\n",
    "    'Ankle boot'\n",
    "]\n",
    "\n",
    "class_names[int(y_train[0])]"
   ]
  },
  {
   "cell_type": "code",
   "execution_count": 4,
   "id": "1b0c7085-d8f6-4d5a-b9a1-aeadb701ff54",
   "metadata": {},
   "outputs": [],
   "source": [
    "from sklearn.cluster import KMeans\n",
    "\n",
    "\n",
    "preds = KMeans(n_clusters=10, random_state=0).fit(x_train).predict(x_test)"
   ]
  },
  {
   "cell_type": "code",
   "execution_count": 5,
   "id": "3b0dff3f-4d78-45e0-ad5f-1872f1c975f1",
   "metadata": {},
   "outputs": [
    {
     "name": "stdout",
     "output_type": "stream",
     "text": [
      "Adjusted Rand Index (ARI): 0.35051049641645204\n",
      "Normalized Mutual Information (NMI): 0.5182052681852325\n"
     ]
    }
   ],
   "source": [
    "from sklearn.metrics import adjusted_rand_score, normalized_mutual_info_score\n",
    "\n",
    "\n",
    "ari = adjusted_rand_score(y_test, preds)          # Adjusted Rand Index\n",
    "nmi = normalized_mutual_info_score(y_test, preds) # Normalized Mutual Information\n",
    "\n",
    "print(f\"Adjusted Rand Index (ARI): {ari}\")\n",
    "print(f\"Normalized Mutual Information (NMI): {nmi}\")"
   ]
  },
  {
   "cell_type": "code",
   "execution_count": 6,
   "id": "ccb7ef55-a97d-44a6-9f50-1398f5ae5db0",
   "metadata": {},
   "outputs": [],
   "source": [
    "from sklearn.cluster import BisectingKMeans\n",
    "\n",
    "\n",
    "preds = BisectingKMeans(n_clusters=10, init='k-means++', random_state=0, \n",
    "                              bisecting_strategy='largest_cluster').fit(x_train).predict(x_test)"
   ]
  },
  {
   "cell_type": "code",
   "execution_count": 7,
   "id": "e3ba51f2-4601-4eea-a9b1-cff1262c85aa",
   "metadata": {},
   "outputs": [
    {
     "name": "stdout",
     "output_type": "stream",
     "text": [
      "Adjusted Rand Index (ARI): 0.2811938108603197\n",
      "Normalized Mutual Information (NMI): 0.4458634618973361\n"
     ]
    }
   ],
   "source": [
    "from sklearn.metrics import adjusted_rand_score, normalized_mutual_info_score\n",
    "\n",
    "\n",
    "ari = adjusted_rand_score(y_test, preds)          # Adjusted Rand Index\n",
    "nmi = normalized_mutual_info_score(y_test, preds) # Normalized Mutual Information\n",
    "\n",
    "print(f\"Adjusted Rand Index (ARI): {ari}\")\n",
    "print(f\"Normalized Mutual Information (NMI): {nmi}\")"
   ]
  },
  {
   "cell_type": "code",
   "execution_count": 8,
   "id": "996f0a03-2430-4ad3-b2e9-225641bdc8e1",
   "metadata": {},
   "outputs": [],
   "source": [
    "from sklearn.cluster import DBSCAN\n",
    "\n",
    "\n",
    "preds = DBSCAN(eps=5, min_samples=10, n_jobs=-1).fit_predict(x_train)"
   ]
  },
  {
   "cell_type": "code",
   "execution_count": 9,
   "id": "07f25163-617e-4e84-b1c0-81f1b53acae0",
   "metadata": {},
   "outputs": [
    {
     "name": "stdout",
     "output_type": "stream",
     "text": [
      "Adjusted Rand Index (ARI): 0.0\n",
      "Normalized Mutual Information (NMI): 0.0\n"
     ]
    }
   ],
   "source": [
    "from sklearn.metrics import adjusted_rand_score, normalized_mutual_info_score\n",
    "\n",
    "\n",
    "ari = adjusted_rand_score(y_train, preds)          # Adjusted Rand Index\n",
    "nmi = normalized_mutual_info_score(y_train, preds) # Normalized Mutual Information\n",
    "\n",
    "print(f\"Adjusted Rand Index (ARI): {ari}\")\n",
    "print(f\"Normalized Mutual Information (NMI): {nmi}\")"
   ]
  }
 ],
 "metadata": {
  "kernelspec": {
   "display_name": "Python 3 (ipykernel)",
   "language": "python",
   "name": "python3"
  },
  "language_info": {
   "codemirror_mode": {
    "name": "ipython",
    "version": 3
   },
   "file_extension": ".py",
   "mimetype": "text/x-python",
   "name": "python",
   "nbconvert_exporter": "python",
   "pygments_lexer": "ipython3",
   "version": "3.11.6"
  }
 },
 "nbformat": 4,
 "nbformat_minor": 5
}
