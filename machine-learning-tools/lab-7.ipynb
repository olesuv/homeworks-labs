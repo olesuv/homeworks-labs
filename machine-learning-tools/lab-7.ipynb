{
 "cells": [
  {
   "cell_type": "code",
   "execution_count": 1,
   "id": "dc6d3f78-6db1-4a76-a019-574393f8dec1",
   "metadata": {},
   "outputs": [
    {
     "data": {
      "text/plain": [
       "((56000, 784), dtype('float64'), (14000, 784), dtype('float64'), (70000, 784))"
      ]
     },
     "execution_count": 1,
     "metadata": {},
     "output_type": "execute_result"
    }
   ],
   "source": [
    "import numpy as np\n",
    "from sklearn.datasets import fetch_openml\n",
    "from sklearn.model_selection import train_test_split\n",
    "\n",
    "\n",
    "X, y = fetch_openml('Fashion-MNIST', version=1, return_X_y=True)\n",
    "X /= 255.0\n",
    "\n",
    "X_train, X_test, y_train, y_test = train_test_split(X, y, test_size=0.2, random_state=42)\n",
    "\n",
    "# Linearization\n",
    "x_train = np.array(X_train).reshape(X_train.shape[0], -1)\n",
    "x_test = np.array(X_test).reshape(X_test.shape[0], -1)\n",
    "\n",
    "x_train.shape, x_train.dtype, x_test.shape, x_test.dtype, X.shape"
   ]
  },
  {
   "cell_type": "code",
   "execution_count": 2,
   "id": "07582691-57ac-4938-89a4-73ab382f02de",
   "metadata": {},
   "outputs": [],
   "source": [
    "from sklearn.preprocessing import StandardScaler\n",
    "\n",
    "\n",
    "scaler = StandardScaler()\n",
    "x_train = scaler.fit_transform(X_train)\n",
    "x_test = scaler.transform(X_test)"
   ]
  },
  {
   "cell_type": "code",
   "execution_count": 3,
   "id": "36e15bd4-c8bf-4c90-8184-37b01f72bd30",
   "metadata": {},
   "outputs": [
    {
     "data": {
      "text/plain": [
       "'Ankle boot'"
      ]
     },
     "execution_count": 3,
     "metadata": {},
     "output_type": "execute_result"
    }
   ],
   "source": [
    "class_names = [\n",
    "    'T-shirt',\n",
    "    'Trouser',\n",
    "    'Pullover',\n",
    "    'Dress',\n",
    "    'Coat',\n",
    "    'Sandal',\n",
    "    'Shirt',\n",
    "    'Sneaker',\n",
    "    'Bag',\n",
    "    'Ankle boot'\n",
    "]\n",
    "\n",
    "class_names[int(y_train[0])]"
   ]
  },
  {
   "cell_type": "code",
   "execution_count": 4,
   "id": "1b0c7085-d8f6-4d5a-b9a1-aeadb701ff54",
   "metadata": {},
   "outputs": [
    {
     "data": {
      "text/plain": [
       "array([0, 2, 1, ..., 7, 3, 2], dtype=int32)"
      ]
     },
     "execution_count": 4,
     "metadata": {},
     "output_type": "execute_result"
    }
   ],
   "source": [
    "from sklearn.cluster import KMeans\n",
    "\n",
    "\n",
    "clusterizer = KMeans(n_clusters=10, random_state=0).fit(x_train)\n",
    "clusterizer.predict(x_test)"
   ]
  },
  {
   "cell_type": "code",
   "execution_count": 5,
   "id": "ccb7ef55-a97d-44a6-9f50-1398f5ae5db0",
   "metadata": {},
   "outputs": [
    {
     "data": {
      "text/plain": [
       "array([4, 9, 0, ..., 5, 1, 9], dtype=int32)"
      ]
     },
     "execution_count": 5,
     "metadata": {},
     "output_type": "execute_result"
    }
   ],
   "source": [
    "from sklearn.cluster import BisectingKMeans\n",
    "\n",
    "\n",
    "clusterizer = BisectingKMeans(n_clusters=10, init='k-means++', random_state=0, \n",
    "                              bisecting_strategy='largest_cluster').fit(x_train)\n",
    "clusterizer.predict(x_test)"
   ]
  },
  {
   "cell_type": "code",
   "execution_count": null,
   "id": "ab070521-61c2-477f-b1bb-e752f09466a7",
   "metadata": {},
   "outputs": [],
   "source": [
    "from sklearn.cluster import OPTICS\n",
    "\n",
    "\n",
    "clusterizer = OPTICS(min_samples=4600, n_jobs=-1).fit(x_train)\n",
    "clusterizer.labels_"
   ]
  }
 ],
 "metadata": {
  "kernelspec": {
   "display_name": "Python 3 (ipykernel)",
   "language": "python",
   "name": "python3"
  },
  "language_info": {
   "codemirror_mode": {
    "name": "ipython",
    "version": 3
   },
   "file_extension": ".py",
   "mimetype": "text/x-python",
   "name": "python",
   "nbconvert_exporter": "python",
   "pygments_lexer": "ipython3",
   "version": "3.11.6"
  }
 },
 "nbformat": 4,
 "nbformat_minor": 5
}
