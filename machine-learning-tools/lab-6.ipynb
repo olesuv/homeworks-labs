{
 "cells": [
  {
   "cell_type": "code",
   "execution_count": 21,
   "id": "9329f8d2-c5a9-4ab4-89d3-0af1bb278d10",
   "metadata": {},
   "outputs": [],
   "source": [
    "from sklearn.datasets import fetch_openml\n",
    "from sklearn.model_selection import train_test_split\n",
    "\n",
    "\n",
    "X, y = fetch_openml('Fashion-MNIST', version=1, return_X_y=True)\n",
    "# Розділення на навчальний та тестовий набори\n",
    "X_train, X_test, y_train, y_test = train_test_split(X, y, test_size=0.2, random_state=42)"
   ]
  },
  {
   "cell_type": "code",
   "execution_count": 22,
   "id": "856fda6c-4b9c-45bd-a9ea-5f8e8bceb53d",
   "metadata": {},
   "outputs": [
    {
     "data": {
      "text/plain": [
       "'Ankle boot'"
      ]
     },
     "execution_count": 22,
     "metadata": {},
     "output_type": "execute_result"
    }
   ],
   "source": [
    "class_names = [\n",
    "    'T-shirt',\n",
    "    'Trouser',\n",
    "    'Pullover',\n",
    "    'Dress',\n",
    "    'Coat',\n",
    "    'Sandal',\n",
    "    'Shirt',\n",
    "    'Sneaker',\n",
    "    'Bag',\n",
    "    'Ankle boot'\n",
    "]\n",
    "\n",
    "class_names[int(y_train[0])]"
   ]
  },
  {
   "cell_type": "code",
   "execution_count": 23,
   "id": "b046c747-dc65-4634-9961-3cac52e4d108",
   "metadata": {},
   "outputs": [],
   "source": [
    "from sklearn.preprocessing import StandardScaler\n",
    "\n",
    "scaler = StandardScaler()\n",
    "x_train = scaler.fit_transform(X_train)\n",
    "x_test = scaler.transform(X_test)"
   ]
  },
  {
   "cell_type": "code",
   "execution_count": 24,
   "id": "ca80d30f-bacd-4eda-b6ae-87fe695e7cf2",
   "metadata": {},
   "outputs": [
    {
     "data": {
      "text/plain": [
       "(array([[-0.00796844, -0.02016575, -0.02805079, ..., -0.15864275,\n",
       "         -0.09123214, -0.03342068],\n",
       "        [-0.00796844, -0.02016575, -0.02805079, ..., -0.15864275,\n",
       "         -0.09123214, -0.03342068],\n",
       "        [-0.00796844, -0.02016575, -0.02805079, ..., -0.15864275,\n",
       "         -0.09123214, -0.03342068],\n",
       "        ...,\n",
       "        [-0.00796844, -0.02016575, -0.02805079, ..., -0.15864275,\n",
       "         -0.09123214, -0.03342068],\n",
       "        [-0.00796844, -0.02016575, -0.02805079, ..., -0.15864275,\n",
       "         -0.09123214, -0.03342068],\n",
       "        [-0.00796844, -0.02016575, -0.02805079, ..., -0.15864275,\n",
       "         -0.09123214, -0.03342068]]),\n",
       " array([[-0.00796844, -0.02016575, -0.02805079, ..., -0.15864275,\n",
       "         -0.09123214, -0.03342068],\n",
       "        [-0.00796844, -0.02016575, -0.02805079, ..., -0.15864275,\n",
       "         -0.09123214, -0.03342068],\n",
       "        [-0.00796844, -0.02016575, -0.02805079, ..., -0.15864275,\n",
       "         -0.09123214, -0.03342068],\n",
       "        ...,\n",
       "        [-0.00796844, -0.02016575, -0.02805079, ..., -0.15864275,\n",
       "         -0.09123214, -0.03342068],\n",
       "        [-0.00796844, -0.02016575, -0.02805079, ..., -0.15864275,\n",
       "         -0.09123214, -0.03342068],\n",
       "        [-0.00796844, -0.02016575, -0.02805079, ..., -0.15864275,\n",
       "         -0.09123214, -0.03342068]]),\n",
       " 60510    4\n",
       " 42045    7\n",
       " 51077    1\n",
       " 58144    0\n",
       " 22094    3\n",
       "         ..\n",
       " 46553    7\n",
       " 32117    5\n",
       " 26862    2\n",
       " 22146    9\n",
       " 31475    3\n",
       " Name: class, Length: 28000, dtype: category\n",
       " Categories (10, object): ['0', '1', '2', '3', ..., '6', '7', '8', '9'],\n",
       " 10234    5\n",
       " 22304    2\n",
       " 2945     4\n",
       " 45481    1\n",
       " 38536    6\n",
       "         ..\n",
       " 3019     3\n",
       " 45324    7\n",
       " 16512    9\n",
       " 30895    9\n",
       " 5980     6\n",
       " Name: class, Length: 28000, dtype: category\n",
       " Categories (10, object): ['0', '1', '2', '3', ..., '6', '7', '8', '9'])"
      ]
     },
     "execution_count": 24,
     "metadata": {},
     "output_type": "execute_result"
    }
   ],
   "source": [
    "import numpy as np\n",
    "\n",
    "\n",
    "# Розділення навчального набору на два: з мітками та без міток\n",
    "X_labeled, X_unlabeled, y_labeled, y_unlabeled = train_test_split(x_train, y_train, test_size=0.5, random_state=42)\n",
    "\n",
    "X_labeled, X_unlabeled, y_labeled, y_unlabeled"
   ]
  },
  {
   "cell_type": "code",
   "execution_count": 25,
   "id": "6cc01541-b7af-4a57-9172-67dae4b42eac",
   "metadata": {},
   "outputs": [],
   "source": [
    "from sklearn.svm import SVC\n",
    "from sklearn.metrics import accuracy_score, classification_report\n",
    "\n",
    "\n",
    "base_classifier = SVC(C=1.0, kernel='rbf', gamma='scale', probability=True)\n",
    "base_classifier.fit(X_labeled, y_labeled)\n",
    "\n",
    "# Оцінка точності класифікатора з мітками на тестовому наборі\n",
    "y_pred_labeled = base_classifier.predict(x_test)"
   ]
  },
  {
   "cell_type": "code",
   "execution_count": 26,
   "id": "ad9c9a95-bbd9-497c-be8c-f7090d203313",
   "metadata": {},
   "outputs": [
    {
     "name": "stdout",
     "output_type": "stream",
     "text": [
      "Accuracy0.8812857142857143\n",
      "Classification report:\n",
      "              precision    recall  f1-score   support\n",
      "\n",
      "     T-shirt       0.83      0.84      0.83      1394\n",
      "     Trouser       1.00      0.97      0.98      1402\n",
      "    Pullover       0.82      0.82      0.82      1407\n",
      "       Dress       0.87      0.90      0.89      1449\n",
      "        Coat       0.79      0.83      0.81      1357\n",
      "      Sandal       0.96      0.95      0.96      1449\n",
      "       Shirt       0.72      0.64      0.68      1407\n",
      "     Sneaker       0.92      0.95      0.94      1359\n",
      "         Bag       0.93      0.98      0.96      1342\n",
      "  Ankle boot       0.96      0.94      0.95      1434\n",
      "\n",
      "    accuracy                           0.88     14000\n",
      "   macro avg       0.88      0.88      0.88     14000\n",
      "weighted avg       0.88      0.88      0.88     14000\n",
      "\n"
     ]
    }
   ],
   "source": [
    "accu = accuracy_score(y_test, y_pred_labeled)\n",
    "crep = classification_report(y_test, y_pred_labeled, target_names=class_names)\n",
    "\n",
    "print(f\"Accuracy{accu}\\nClassification report:\\n{crep}\")"
   ]
  },
  {
   "cell_type": "code",
   "execution_count": 35,
   "id": "a3ad69a2-ff93-459a-b159-4e90755d3c3a",
   "metadata": {},
   "outputs": [
    {
     "ename": "KeyError",
     "evalue": "'[48706 50221 61054 ...  9925   898 67987] not in index'",
     "output_type": "error",
     "traceback": [
      "\u001b[0;31m---------------------------------------------------------------------------\u001b[0m",
      "\u001b[0;31mTypeError\u001b[0m                                 Traceback (most recent call last)",
      "File \u001b[0;32m~/uni/homeworks-labs/machine-learning-tools/venv/lib/python3.11/site-packages/pandas/core/indexes/base.py:3805\u001b[0m, in \u001b[0;36mIndex.get_loc\u001b[0;34m(self, key)\u001b[0m\n\u001b[1;32m   3804\u001b[0m \u001b[38;5;28;01mtry\u001b[39;00m:\n\u001b[0;32m-> 3805\u001b[0m     \u001b[38;5;28;01mreturn\u001b[39;00m \u001b[38;5;28;43mself\u001b[39;49m\u001b[38;5;241;43m.\u001b[39;49m\u001b[43m_engine\u001b[49m\u001b[38;5;241;43m.\u001b[39;49m\u001b[43mget_loc\u001b[49m\u001b[43m(\u001b[49m\u001b[43mcasted_key\u001b[49m\u001b[43m)\u001b[49m\n\u001b[1;32m   3806\u001b[0m \u001b[38;5;28;01mexcept\u001b[39;00m \u001b[38;5;167;01mKeyError\u001b[39;00m \u001b[38;5;28;01mas\u001b[39;00m err:\n",
      "File \u001b[0;32mindex.pyx:167\u001b[0m, in \u001b[0;36mpandas._libs.index.IndexEngine.get_loc\u001b[0;34m()\u001b[0m\n",
      "File \u001b[0;32mindex.pyx:173\u001b[0m, in \u001b[0;36mpandas._libs.index.IndexEngine.get_loc\u001b[0;34m()\u001b[0m\n",
      "\u001b[0;31mTypeError\u001b[0m: '[48706 14525 34054 ...  9925   898 67987]' is an invalid key",
      "\nDuring handling of the above exception, another exception occurred:\n",
      "\u001b[0;31mInvalidIndexError\u001b[0m                         Traceback (most recent call last)",
      "File \u001b[0;32m~/uni/homeworks-labs/machine-learning-tools/venv/lib/python3.11/site-packages/pandas/core/series.py:1289\u001b[0m, in \u001b[0;36mSeries.__setitem__\u001b[0;34m(self, key, value)\u001b[0m\n\u001b[1;32m   1288\u001b[0m \u001b[38;5;28;01mtry\u001b[39;00m:\n\u001b[0;32m-> 1289\u001b[0m     \u001b[38;5;28;43mself\u001b[39;49m\u001b[38;5;241;43m.\u001b[39;49m\u001b[43m_set_with_engine\u001b[49m\u001b[43m(\u001b[49m\u001b[43mkey\u001b[49m\u001b[43m,\u001b[49m\u001b[43m \u001b[49m\u001b[43mvalue\u001b[49m\u001b[43m,\u001b[49m\u001b[43m \u001b[49m\u001b[43mwarn\u001b[49m\u001b[38;5;241;43m=\u001b[39;49m\u001b[43mwarn\u001b[49m\u001b[43m)\u001b[49m\n\u001b[1;32m   1290\u001b[0m \u001b[38;5;28;01mexcept\u001b[39;00m \u001b[38;5;167;01mKeyError\u001b[39;00m:\n\u001b[1;32m   1291\u001b[0m     \u001b[38;5;66;03m# We have a scalar (or for MultiIndex or object-dtype, scalar-like)\u001b[39;00m\n\u001b[1;32m   1292\u001b[0m     \u001b[38;5;66;03m#  key that is not present in self.index.\u001b[39;00m\n",
      "File \u001b[0;32m~/uni/homeworks-labs/machine-learning-tools/venv/lib/python3.11/site-packages/pandas/core/series.py:1361\u001b[0m, in \u001b[0;36mSeries._set_with_engine\u001b[0;34m(self, key, value, warn)\u001b[0m\n\u001b[1;32m   1360\u001b[0m \u001b[38;5;28;01mdef\u001b[39;00m \u001b[38;5;21m_set_with_engine\u001b[39m(\u001b[38;5;28mself\u001b[39m, key, value, warn: \u001b[38;5;28mbool\u001b[39m \u001b[38;5;241m=\u001b[39m \u001b[38;5;28;01mTrue\u001b[39;00m) \u001b[38;5;241m-\u001b[39m\u001b[38;5;241m>\u001b[39m \u001b[38;5;28;01mNone\u001b[39;00m:\n\u001b[0;32m-> 1361\u001b[0m     loc \u001b[38;5;241m=\u001b[39m \u001b[38;5;28;43mself\u001b[39;49m\u001b[38;5;241;43m.\u001b[39;49m\u001b[43mindex\u001b[49m\u001b[38;5;241;43m.\u001b[39;49m\u001b[43mget_loc\u001b[49m\u001b[43m(\u001b[49m\u001b[43mkey\u001b[49m\u001b[43m)\u001b[49m\n\u001b[1;32m   1363\u001b[0m     \u001b[38;5;66;03m# this is equivalent to self._values[key] = value\u001b[39;00m\n",
      "File \u001b[0;32m~/uni/homeworks-labs/machine-learning-tools/venv/lib/python3.11/site-packages/pandas/core/indexes/base.py:3817\u001b[0m, in \u001b[0;36mIndex.get_loc\u001b[0;34m(self, key)\u001b[0m\n\u001b[1;32m   3813\u001b[0m \u001b[38;5;28;01mexcept\u001b[39;00m \u001b[38;5;167;01mTypeError\u001b[39;00m:\n\u001b[1;32m   3814\u001b[0m     \u001b[38;5;66;03m# If we have a listlike key, _check_indexing_error will raise\u001b[39;00m\n\u001b[1;32m   3815\u001b[0m     \u001b[38;5;66;03m#  InvalidIndexError. Otherwise we fall through and re-raise\u001b[39;00m\n\u001b[1;32m   3816\u001b[0m     \u001b[38;5;66;03m#  the TypeError.\u001b[39;00m\n\u001b[0;32m-> 3817\u001b[0m     \u001b[38;5;28;43mself\u001b[39;49m\u001b[38;5;241;43m.\u001b[39;49m\u001b[43m_check_indexing_error\u001b[49m\u001b[43m(\u001b[49m\u001b[43mkey\u001b[49m\u001b[43m)\u001b[49m\n\u001b[1;32m   3818\u001b[0m     \u001b[38;5;28;01mraise\u001b[39;00m\n",
      "File \u001b[0;32m~/uni/homeworks-labs/machine-learning-tools/venv/lib/python3.11/site-packages/pandas/core/indexes/base.py:6059\u001b[0m, in \u001b[0;36mIndex._check_indexing_error\u001b[0;34m(self, key)\u001b[0m\n\u001b[1;32m   6056\u001b[0m \u001b[38;5;28;01mif\u001b[39;00m \u001b[38;5;129;01mnot\u001b[39;00m is_scalar(key):\n\u001b[1;32m   6057\u001b[0m     \u001b[38;5;66;03m# if key is not a scalar, directly raise an error (the code below\u001b[39;00m\n\u001b[1;32m   6058\u001b[0m     \u001b[38;5;66;03m# would convert to numpy arrays and raise later any way) - GH29926\u001b[39;00m\n\u001b[0;32m-> 6059\u001b[0m     \u001b[38;5;28;01mraise\u001b[39;00m InvalidIndexError(key)\n",
      "\u001b[0;31mInvalidIndexError\u001b[0m: [48706 14525 34054 ...  9925   898 67987]",
      "\nDuring handling of the above exception, another exception occurred:\n",
      "\u001b[0;31mKeyError\u001b[0m                                  Traceback (most recent call last)",
      "Cell \u001b[0;32mIn[35], line 15\u001b[0m\n\u001b[1;32m     12\u001b[0m \u001b[38;5;28;01mfor\u001b[39;00m perc \u001b[38;5;129;01min\u001b[39;00m percentages:\n\u001b[1;32m     13\u001b[0m     \u001b[38;5;66;03m# make unlabeled_indices with random percentage of data.\u001b[39;00m\n\u001b[1;32m     14\u001b[0m     rui \u001b[38;5;241m=\u001b[39m np\u001b[38;5;241m.\u001b[39mrandom\u001b[38;5;241m.\u001b[39mchoice(unlabeled_indices, size\u001b[38;5;241m=\u001b[39mnum_unlabeled, replace\u001b[38;5;241m=\u001b[39m\u001b[38;5;28;01mFalse\u001b[39;00m)\n\u001b[0;32m---> 15\u001b[0m     \u001b[43my_unlabeled\u001b[49m\u001b[43m[\u001b[49m\u001b[43mrui\u001b[49m\u001b[43m]\u001b[49m \u001b[38;5;241m=\u001b[39m \u001b[38;5;241m-\u001b[39m\u001b[38;5;241m1\u001b[39m\n\u001b[1;32m     17\u001b[0m     model\u001b[38;5;241m.\u001b[39mfit(X_unlabeled, y_unlabeled)\n\u001b[1;32m     19\u001b[0m     pred \u001b[38;5;241m=\u001b[39m model\u001b[38;5;241m.\u001b[39mpredict(x_test)\n",
      "File \u001b[0;32m~/uni/homeworks-labs/machine-learning-tools/venv/lib/python3.11/site-packages/pandas/core/series.py:1355\u001b[0m, in \u001b[0;36mSeries.__setitem__\u001b[0;34m(self, key, value)\u001b[0m\n\u001b[1;32m   1352\u001b[0m         \u001b[38;5;28;01mreturn\u001b[39;00m\n\u001b[1;32m   1354\u001b[0m     \u001b[38;5;28;01melse\u001b[39;00m:\n\u001b[0;32m-> 1355\u001b[0m         \u001b[38;5;28;43mself\u001b[39;49m\u001b[38;5;241;43m.\u001b[39;49m\u001b[43m_set_with\u001b[49m\u001b[43m(\u001b[49m\u001b[43mkey\u001b[49m\u001b[43m,\u001b[49m\u001b[43m \u001b[49m\u001b[43mvalue\u001b[49m\u001b[43m,\u001b[49m\u001b[43m \u001b[49m\u001b[43mwarn\u001b[49m\u001b[38;5;241;43m=\u001b[39;49m\u001b[43mwarn\u001b[49m\u001b[43m)\u001b[49m\n\u001b[1;32m   1357\u001b[0m \u001b[38;5;28;01mif\u001b[39;00m cacher_needs_updating:\n\u001b[1;32m   1358\u001b[0m     \u001b[38;5;28mself\u001b[39m\u001b[38;5;241m.\u001b[39m_maybe_update_cacher(inplace\u001b[38;5;241m=\u001b[39m\u001b[38;5;28;01mTrue\u001b[39;00m)\n",
      "File \u001b[0;32m~/uni/homeworks-labs/machine-learning-tools/venv/lib/python3.11/site-packages/pandas/core/series.py:1377\u001b[0m, in \u001b[0;36mSeries._set_with\u001b[0;34m(self, key, value, warn)\u001b[0m\n\u001b[1;32m   1373\u001b[0m     key \u001b[38;5;241m=\u001b[39m \u001b[38;5;28mlist\u001b[39m(key)\n\u001b[1;32m   1375\u001b[0m \u001b[38;5;28;01mif\u001b[39;00m \u001b[38;5;129;01mnot\u001b[39;00m \u001b[38;5;28mself\u001b[39m\u001b[38;5;241m.\u001b[39mindex\u001b[38;5;241m.\u001b[39m_should_fallback_to_positional:\n\u001b[1;32m   1376\u001b[0m     \u001b[38;5;66;03m# Regardless of the key type, we're treating it as labels\u001b[39;00m\n\u001b[0;32m-> 1377\u001b[0m     \u001b[38;5;28;43mself\u001b[39;49m\u001b[38;5;241;43m.\u001b[39;49m\u001b[43m_set_labels\u001b[49m\u001b[43m(\u001b[49m\u001b[43mkey\u001b[49m\u001b[43m,\u001b[49m\u001b[43m \u001b[49m\u001b[43mvalue\u001b[49m\u001b[43m,\u001b[49m\u001b[43m \u001b[49m\u001b[43mwarn\u001b[49m\u001b[38;5;241;43m=\u001b[39;49m\u001b[43mwarn\u001b[49m\u001b[43m)\u001b[49m\n\u001b[1;32m   1379\u001b[0m \u001b[38;5;28;01melse\u001b[39;00m:\n\u001b[1;32m   1380\u001b[0m     \u001b[38;5;66;03m# Note: key_type == \"boolean\" should not occur because that\u001b[39;00m\n\u001b[1;32m   1381\u001b[0m     \u001b[38;5;66;03m#  should be caught by the is_bool_indexer check in __setitem__\u001b[39;00m\n\u001b[1;32m   1382\u001b[0m     key_type \u001b[38;5;241m=\u001b[39m lib\u001b[38;5;241m.\u001b[39minfer_dtype(key, skipna\u001b[38;5;241m=\u001b[39m\u001b[38;5;28;01mFalse\u001b[39;00m)\n",
      "File \u001b[0;32m~/uni/homeworks-labs/machine-learning-tools/venv/lib/python3.11/site-packages/pandas/core/series.py:1403\u001b[0m, in \u001b[0;36mSeries._set_labels\u001b[0;34m(self, key, value, warn)\u001b[0m\n\u001b[1;32m   1401\u001b[0m mask \u001b[38;5;241m=\u001b[39m indexer \u001b[38;5;241m==\u001b[39m \u001b[38;5;241m-\u001b[39m\u001b[38;5;241m1\u001b[39m\n\u001b[1;32m   1402\u001b[0m \u001b[38;5;28;01mif\u001b[39;00m mask\u001b[38;5;241m.\u001b[39many():\n\u001b[0;32m-> 1403\u001b[0m     \u001b[38;5;28;01mraise\u001b[39;00m \u001b[38;5;167;01mKeyError\u001b[39;00m(\u001b[38;5;124mf\u001b[39m\u001b[38;5;124m\"\u001b[39m\u001b[38;5;132;01m{\u001b[39;00mkey[mask]\u001b[38;5;132;01m}\u001b[39;00m\u001b[38;5;124m not in index\u001b[39m\u001b[38;5;124m\"\u001b[39m)\n\u001b[1;32m   1404\u001b[0m \u001b[38;5;28mself\u001b[39m\u001b[38;5;241m.\u001b[39m_set_values(indexer, value, warn\u001b[38;5;241m=\u001b[39mwarn)\n",
      "\u001b[0;31mKeyError\u001b[0m: '[48706 50221 61054 ...  9925   898 67987] not in index'"
     ]
    }
   ],
   "source": [
    "from sklearn.semi_supervised import SelfTrainingClassifier, LabelPropagation, LabelSpreading\n",
    "\n",
    "\n",
    "self_training_classifier = SelfTrainingClassifier(base_classifier)\n",
    "label_propagation_classifier = LabelPropagation(kernel='rbf', n_jobs=-1)\n",
    "label_spreading_classifier = LabelSpreading(kernel='rbf', n_jobs=-1)\n",
    "\n",
    "models = [self_training_classifier, label_propagation_classifier, label_spreading_classifier]\n",
    "percentages = [70, 60, 50, 40, 30]\n",
    "\n",
    "for model in models:\n",
    "    for perc in percentages:\n",
    "        # make unlabeled_indices with random percentage of data.\n",
    "        rui = np.random.choice(unlabeled_indices, size=num_unlabeled, replace=False)\n",
    "        y_unlabeled[rui] = -1\n",
    "        \n",
    "        model.fit(X_unlabeled, y_unlabeled)\n",
    "\n",
    "        pred = model.predict(x_test)\n",
    "        accu = accuracy_score(y_test, pred)\n",
    "        crep = classification_report(y_test, pred, target_names=class_names)\n",
    "        \n",
    "        print(f\"Model: {model}, percentage of unlabeled data: {perc}, accuracy: {accu}\\n\"\n",
    "              f\"Prediction: {accu}\\nClassification report:\\n{crep}\")"
   ]
  },
  {
   "cell_type": "code",
   "execution_count": 33,
   "id": "4ed5b91f-badb-4c87-89a2-0a831d912dc6",
   "metadata": {},
   "outputs": [],
   "source": [
    "# y_unlabeled = y_unlabeled.replace(to_replace=y_unlabeled.values, value=-1)"
   ]
  }
 ],
 "metadata": {
  "kernelspec": {
   "display_name": "Python 3 (ipykernel)",
   "language": "python",
   "name": "python3"
  },
  "language_info": {
   "codemirror_mode": {
    "name": "ipython",
    "version": 3
   },
   "file_extension": ".py",
   "mimetype": "text/x-python",
   "name": "python",
   "nbconvert_exporter": "python",
   "pygments_lexer": "ipython3",
   "version": "3.11.6"
  }
 },
 "nbformat": 4,
 "nbformat_minor": 5
}
