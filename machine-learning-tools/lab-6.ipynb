{
 "cells": [
  {
   "cell_type": "code",
   "execution_count": 21,
   "id": "9329f8d2-c5a9-4ab4-89d3-0af1bb278d10",
   "metadata": {},
   "outputs": [],
   "source": [
    "from sklearn.datasets import fetch_openml\n",
    "from sklearn.model_selection import train_test_split\n",
    "\n",
    "\n",
    "X, y = fetch_openml('Fashion-MNIST', version=1, return_X_y=True)\n",
    "# Розділення на навчальний та тестовий набори\n",
    "X_train, X_test, y_train, y_test = train_test_split(X, y, test_size=0.2, random_state=42)"
   ]
  },
  {
   "cell_type": "code",
   "execution_count": 22,
   "id": "856fda6c-4b9c-45bd-a9ea-5f8e8bceb53d",
   "metadata": {},
   "outputs": [
    {
     "data": {
      "text/plain": [
       "'Ankle boot'"
      ]
     },
     "execution_count": 22,
     "metadata": {},
     "output_type": "execute_result"
    }
   ],
   "source": [
    "class_names = [\n",
    "    'T-shirt',\n",
    "    'Trouser',\n",
    "    'Pullover',\n",
    "    'Dress',\n",
    "    'Coat',\n",
    "    'Sandal',\n",
    "    'Shirt',\n",
    "    'Sneaker',\n",
    "    'Bag',\n",
    "    'Ankle boot'\n",
    "]\n",
    "\n",
    "class_names[int(y_train[0])]"
   ]
  },
  {
   "cell_type": "code",
   "execution_count": 23,
   "id": "b046c747-dc65-4634-9961-3cac52e4d108",
   "metadata": {},
   "outputs": [],
   "source": [
    "from sklearn.preprocessing import StandardScaler\n",
    "\n",
    "scaler = StandardScaler()\n",
    "x_train = scaler.fit_transform(X_train)\n",
    "x_test = scaler.transform(X_test)"
   ]
  },
  {
   "cell_type": "code",
   "execution_count": 24,
   "id": "ca80d30f-bacd-4eda-b6ae-87fe695e7cf2",
   "metadata": {},
   "outputs": [
    {
     "data": {
      "text/plain": [
       "(array([[-0.00796844, -0.02016575, -0.02805079, ..., -0.15864275,\n",
       "         -0.09123214, -0.03342068],\n",
       "        [-0.00796844, -0.02016575, -0.02805079, ..., -0.15864275,\n",
       "         -0.09123214, -0.03342068],\n",
       "        [-0.00796844, -0.02016575, -0.02805079, ..., -0.15864275,\n",
       "         -0.09123214, -0.03342068],\n",
       "        ...,\n",
       "        [-0.00796844, -0.02016575, -0.02805079, ..., -0.15864275,\n",
       "         -0.09123214, -0.03342068],\n",
       "        [-0.00796844, -0.02016575, -0.02805079, ..., -0.15864275,\n",
       "         -0.09123214, -0.03342068],\n",
       "        [-0.00796844, -0.02016575, -0.02805079, ..., -0.15864275,\n",
       "         -0.09123214, -0.03342068]]),\n",
       " array([[-0.00796844, -0.02016575, -0.02805079, ..., -0.15864275,\n",
       "         -0.09123214, -0.03342068],\n",
       "        [-0.00796844, -0.02016575, -0.02805079, ..., -0.15864275,\n",
       "         -0.09123214, -0.03342068],\n",
       "        [-0.00796844, -0.02016575, -0.02805079, ..., -0.15864275,\n",
       "         -0.09123214, -0.03342068],\n",
       "        ...,\n",
       "        [-0.00796844, -0.02016575, -0.02805079, ..., -0.15864275,\n",
       "         -0.09123214, -0.03342068],\n",
       "        [-0.00796844, -0.02016575, -0.02805079, ..., -0.15864275,\n",
       "         -0.09123214, -0.03342068],\n",
       "        [-0.00796844, -0.02016575, -0.02805079, ..., -0.15864275,\n",
       "         -0.09123214, -0.03342068]]),\n",
       " 60510    4\n",
       " 42045    7\n",
       " 51077    1\n",
       " 58144    0\n",
       " 22094    3\n",
       "         ..\n",
       " 46553    7\n",
       " 32117    5\n",
       " 26862    2\n",
       " 22146    9\n",
       " 31475    3\n",
       " Name: class, Length: 28000, dtype: category\n",
       " Categories (10, object): ['0', '1', '2', '3', ..., '6', '7', '8', '9'],\n",
       " 10234    5\n",
       " 22304    2\n",
       " 2945     4\n",
       " 45481    1\n",
       " 38536    6\n",
       "         ..\n",
       " 3019     3\n",
       " 45324    7\n",
       " 16512    9\n",
       " 30895    9\n",
       " 5980     6\n",
       " Name: class, Length: 28000, dtype: category\n",
       " Categories (10, object): ['0', '1', '2', '3', ..., '6', '7', '8', '9'])"
      ]
     },
     "execution_count": 24,
     "metadata": {},
     "output_type": "execute_result"
    }
   ],
   "source": [
    "import numpy as np\n",
    "\n",
    "\n",
    "# Розділення навчального набору на два: з мітками та без міток\n",
    "X_labeled, X_unlabeled, y_labeled, y_unlabeled = train_test_split(x_train, y_train, test_size=0.5, random_state=42)\n",
    "\n",
    "X_labeled, X_unlabeled, y_labeled, y_unlabeled"
   ]
  },
  {
   "cell_type": "code",
   "execution_count": null,
   "id": "6cc01541-b7af-4a57-9172-67dae4b42eac",
   "metadata": {},
   "outputs": [],
   "source": [
    "from sklearn.svm import SVC\n",
    "from sklearn.metrics import accuracy_score, classification_report\n",
    "\n",
    "\n",
    "base_classifier = SVC(C=1.0, kernel='rbf', gamma='scale', probability=True)\n",
    "base_classifier.fit(X_labeled, y_labeled)\n",
    "\n",
    "# Оцінка точності класифікатора з мітками на тестовому наборі\n",
    "y_pred_labeled = base_classifier.predict(x_test)"
   ]
  },
  {
   "cell_type": "code",
   "execution_count": null,
   "id": "ad9c9a95-bbd9-497c-be8c-f7090d203313",
   "metadata": {},
   "outputs": [],
   "source": [
    "accu = accuracy_score(y_test, y_pred_labeled)\n",
    "crep = classification_report(y_test, y_pred_labeled, target_names=class_names)\n",
    "\n",
    "print(f\"Accuracy{accu}\\nClassification report:\\n{crep}\")"
   ]
  },
  {
   "cell_type": "code",
   "execution_count": null,
   "id": "a3ad69a2-ff93-459a-b159-4e90755d3c3a",
   "metadata": {},
   "outputs": [],
   "source": [
    "from sklearn.semi_supervised import SelfTrainingClassifier, LabelPropagation, LabelSpreading\n",
    "\n",
    "\n",
    "self_training_classifier = SelfTrainingClassifier(base_classifier)\n",
    "label_propagation_classifier = LabelPropagation(kernel='rbf', n_jobs=-1)\n",
    "label_spreading_classifier = LabelSpreading(kernel='rbf', n_jobs=-1)\n",
    "\n",
    "models = [self_training_classifier, label_propagation_classifier, label_spreading_classifier]\n",
    "percentages = [70, 60, 50, 40, 30]\n",
    "\n",
    "for model in models:\n",
    "    for perc in percentages:\n",
    "        num_unlabeled = int(len(y) * perc)\n",
    "        unlabeled_indices = np.random.choice(len(y), num_unlabeled, replace=False)\n",
    "        y_unlabeled[unlabeled_indices] = -1\n",
    "        # y_unlabeled = y_unlabeled.replace(to_replace=y_unlabeled.values, value=-1)\n",
    "        \n",
    "        model.fit(X_unlabeled, y_unlabeled)\n",
    "\n",
    "        pred = model.predict(x_test)\n",
    "        accu = accuracy_score(y_test, pred)\n",
    "        crep = classification_report(y_test, pred, target_names=class_names)\n",
    "        \n",
    "        print(f\"Mode: {model}, percentage of unlabeled data: {perc}, accuracy: {accu}\\\n",
    "                \\nPrediction: {accu}\\nClassification report:\\n{crep})"
   ]
  }
 ],
 "metadata": {
  "kernelspec": {
   "display_name": "Python 3 (ipykernel)",
   "language": "python",
   "name": "python3"
  },
  "language_info": {
   "codemirror_mode": {
    "name": "ipython",
    "version": 3
   },
   "file_extension": ".py",
   "mimetype": "text/x-python",
   "name": "python",
   "nbconvert_exporter": "python",
   "pygments_lexer": "ipython3",
   "version": "3.11.6"
  }
 },
 "nbformat": 4,
 "nbformat_minor": 5
}
