{
 "cells": [
  {
   "cell_type": "code",
   "execution_count": 16,
   "id": "9329f8d2-c5a9-4ab4-89d3-0af1bb278d10",
   "metadata": {},
   "outputs": [],
   "source": [
    "from sklearn.datasets import fetch_openml\n",
    "from sklearn.model_selection import train_test_split\n",
    "\n",
    "\n",
    "X, y = fetch_openml('Fashion-MNIST', version=1, return_X_y=True)\n",
    "# Розділення на навчальний та тестовий набори\n",
    "X_train, X_test, y_train, y_test = train_test_split(X, y, test_size=0.2, random_state=42)"
   ]
  },
  {
   "cell_type": "code",
   "execution_count": 17,
   "id": "856fda6c-4b9c-45bd-a9ea-5f8e8bceb53d",
   "metadata": {},
   "outputs": [
    {
     "data": {
      "text/plain": [
       "'Ankle boot'"
      ]
     },
     "execution_count": 17,
     "metadata": {},
     "output_type": "execute_result"
    }
   ],
   "source": [
    "class_names = [\n",
    "    'T-shirt',\n",
    "    'Trouser',\n",
    "    'Pullover',\n",
    "    'Dress',\n",
    "    'Coat',\n",
    "    'Sandal',\n",
    "    'Shirt',\n",
    "    'Sneaker',\n",
    "    'Bag',\n",
    "    'Ankle boot'\n",
    "]\n",
    "\n",
    "class_names[int(y_train[0])]"
   ]
  },
  {
   "cell_type": "code",
   "execution_count": 18,
   "id": "b046c747-dc65-4634-9961-3cac52e4d108",
   "metadata": {},
   "outputs": [],
   "source": [
    "from sklearn.preprocessing import StandardScaler\n",
    "\n",
    "scaler = StandardScaler()\n",
    "x_train = scaler.fit_transform(X_train)\n",
    "x_test = scaler.transform(X_test)"
   ]
  },
  {
   "cell_type": "code",
   "execution_count": 19,
   "id": "ca80d30f-bacd-4eda-b6ae-87fe695e7cf2",
   "metadata": {},
   "outputs": [
    {
     "data": {
      "text/plain": [
       "(array([[-0.00796844, -0.02016575, -0.02805079, ..., -0.15864275,\n",
       "         -0.09123214, -0.03342068],\n",
       "        [-0.00796844, -0.02016575, -0.02805079, ..., -0.15864275,\n",
       "         -0.09123214, -0.03342068],\n",
       "        [-0.00796844, -0.02016575, -0.02805079, ..., -0.15864275,\n",
       "         -0.09123214, -0.03342068],\n",
       "        ...,\n",
       "        [-0.00796844, -0.02016575, -0.02805079, ..., -0.15864275,\n",
       "         -0.09123214, -0.03342068],\n",
       "        [-0.00796844, -0.02016575, -0.02805079, ..., -0.15864275,\n",
       "         -0.09123214, -0.03342068],\n",
       "        [-0.00796844, -0.02016575, -0.02805079, ..., -0.15864275,\n",
       "         -0.09123214, -0.03342068]]),\n",
       " array([[-0.00796844, -0.02016575, -0.02805079, ..., -0.15864275,\n",
       "         -0.09123214, -0.03342068],\n",
       "        [-0.00796844, -0.02016575, -0.02805079, ..., -0.15864275,\n",
       "         -0.09123214, -0.03342068],\n",
       "        [-0.00796844, -0.02016575, -0.02805079, ..., -0.15864275,\n",
       "         -0.09123214, -0.03342068],\n",
       "        ...,\n",
       "        [-0.00796844, -0.02016575, -0.02805079, ..., -0.15864275,\n",
       "         -0.09123214, -0.03342068],\n",
       "        [-0.00796844, -0.02016575, -0.02805079, ..., -0.15864275,\n",
       "         -0.09123214, -0.03342068],\n",
       "        [-0.00796844, -0.02016575, -0.02805079, ..., -0.15864275,\n",
       "         -0.09123214, -0.03342068]]),\n",
       " 60510    4\n",
       " 42045    7\n",
       " 51077    1\n",
       " 58144    0\n",
       " 22094    3\n",
       "         ..\n",
       " 46553    7\n",
       " 32117    5\n",
       " 26862    2\n",
       " 22146    9\n",
       " 31475    3\n",
       " Name: class, Length: 28000, dtype: category\n",
       " Categories (10, object): ['0', '1', '2', '3', ..., '6', '7', '8', '9'],\n",
       " 10234    5\n",
       " 22304    2\n",
       " 2945     4\n",
       " 45481    1\n",
       " 38536    6\n",
       "         ..\n",
       " 3019     3\n",
       " 45324    7\n",
       " 16512    9\n",
       " 30895    9\n",
       " 5980     6\n",
       " Name: class, Length: 28000, dtype: category\n",
       " Categories (10, object): ['0', '1', '2', '3', ..., '6', '7', '8', '9'])"
      ]
     },
     "execution_count": 19,
     "metadata": {},
     "output_type": "execute_result"
    }
   ],
   "source": [
    "import numpy as np\n",
    "\n",
    "\n",
    "# Розділення навчального набору на два: з мітками та без міток\n",
    "X_labeled, X_unlabeled, y_labeled, y_unlabeled = train_test_split(x_train, y_train, test_size=0.5, random_state=42)\n",
    "\n",
    "X_labeled, X_unlabeled, y_labeled, y_unlabeled"
   ]
  },
  {
   "cell_type": "code",
   "execution_count": 5,
   "id": "6cc01541-b7af-4a57-9172-67dae4b42eac",
   "metadata": {},
   "outputs": [],
   "source": [
    "from sklearn.svm import SVC\n",
    "from sklearn.metrics import accuracy_score, classification_report\n",
    "\n",
    "\n",
    "base_classifier = SVC(C=1.0, kernel='rbf', gamma='scale', probability=True)\n",
    "base_classifier.fit(X_labeled, y_labeled)\n",
    "\n",
    "# Оцінка точності базового класифікатора\n",
    "y_pred_labeled = base_classifier.predict(x_test)"
   ]
  },
  {
   "cell_type": "code",
   "execution_count": 6,
   "id": "ad9c9a95-bbd9-497c-be8c-f7090d203313",
   "metadata": {},
   "outputs": [
    {
     "name": "stdout",
     "output_type": "stream",
     "text": [
      "Accuracy: 0.8812857142857143\n",
      "Classification report:\n",
      "              precision    recall  f1-score   support\n",
      "\n",
      "     T-shirt       0.83      0.84      0.83      1394\n",
      "     Trouser       1.00      0.97      0.98      1402\n",
      "    Pullover       0.82      0.82      0.82      1407\n",
      "       Dress       0.87      0.90      0.89      1449\n",
      "        Coat       0.79      0.83      0.81      1357\n",
      "      Sandal       0.96      0.95      0.96      1449\n",
      "       Shirt       0.72      0.64      0.68      1407\n",
      "     Sneaker       0.92      0.95      0.94      1359\n",
      "         Bag       0.93      0.98      0.96      1342\n",
      "  Ankle boot       0.96      0.94      0.95      1434\n",
      "\n",
      "    accuracy                           0.88     14000\n",
      "   macro avg       0.88      0.88      0.88     14000\n",
      "weighted avg       0.88      0.88      0.88     14000\n",
      "\n"
     ]
    }
   ],
   "source": [
    "accu = accuracy_score(y_test, y_pred_labeled)\n",
    "crep = classification_report(y_test, y_pred_labeled, target_names=class_names)\n",
    "\n",
    "print(f\"Accuracy: {accu}\\nClassification report:\\n{crep}\")"
   ]
  },
  {
   "cell_type": "code",
   "execution_count": 7,
   "id": "cfbd041f-abe5-4bb9-9aca-aae532f0e902",
   "metadata": {},
   "outputs": [
    {
     "name": "stderr",
     "output_type": "stream",
     "text": [
      "/home/suphomie/uni/homeworks-labs/machine-learning-tools/venv/lib/python3.11/site-packages/sklearn/semi_supervised/_self_training.py:227: UserWarning: y contains no unlabeled samples\n",
      "  warnings.warn(\"y contains no unlabeled samples\", UserWarning)\n"
     ]
    }
   ],
   "source": [
    "from sklearn.semi_supervised import SelfTrainingClassifier\n",
    "\n",
    "\n",
    "base_classifier = SVC(C=1.0, kernel='rbf', gamma='scale', probability=True)\n",
    "# Класифікатор самонавчання\n",
    "self_training_classifier = SelfTrainingClassifier(base_classifier)\n",
    "self_training_classifier.fit(X_labeled, y_labeled)\n",
    "\n",
    "y_pred_self_training = self_training_classifier.predict(x_test)"
   ]
  },
  {
   "cell_type": "code",
   "execution_count": 8,
   "id": "1bf6cf8b-87e1-448b-a21e-9197944a4656",
   "metadata": {},
   "outputs": [
    {
     "name": "stdout",
     "output_type": "stream",
     "text": [
      "Accuracy: 0.8812857142857143\n",
      "Classification report:\n",
      "              precision    recall  f1-score   support\n",
      "\n",
      "     T-shirt       0.83      0.84      0.83      1394\n",
      "     Trouser       1.00      0.97      0.98      1402\n",
      "    Pullover       0.82      0.82      0.82      1407\n",
      "       Dress       0.87      0.90      0.89      1449\n",
      "        Coat       0.79      0.83      0.81      1357\n",
      "      Sandal       0.96      0.95      0.96      1449\n",
      "       Shirt       0.72      0.64      0.68      1407\n",
      "     Sneaker       0.92      0.95      0.94      1359\n",
      "         Bag       0.93      0.98      0.96      1342\n",
      "  Ankle boot       0.96      0.94      0.95      1434\n",
      "\n",
      "    accuracy                           0.88     14000\n",
      "   macro avg       0.88      0.88      0.88     14000\n",
      "weighted avg       0.88      0.88      0.88     14000\n",
      "\n"
     ]
    }
   ],
   "source": [
    "accu = accuracy_score(y_test, y_pred_self_training)\n",
    "crep = classification_report(y_test, y_pred_self_training, target_names=class_names)\n",
    "\n",
    "print(f\"Accuracy: {accu}\\nClassification report:\\n{crep}\")"
   ]
  },
  {
   "cell_type": "code",
   "execution_count": 9,
   "id": "bdf8cbc3-7cf9-497a-861d-987fc2c03fd0",
   "metadata": {},
   "outputs": [
    {
     "name": "stderr",
     "output_type": "stream",
     "text": [
      "/home/suphomie/uni/homeworks-labs/machine-learning-tools/venv/lib/python3.11/site-packages/sklearn/semi_supervised/_label_propagation.py:230: RuntimeWarning: invalid value encountered in divide\n",
      "  probabilities /= normalizer\n"
     ]
    }
   ],
   "source": [
    "from sklearn.semi_supervised import LabelPropagation\n",
    "\n",
    "\n",
    "# Класифікатор поширення міток\n",
    "label_propagation_classifier = LabelPropagation(kernel='rbf', gamma=0.1, n_jobs=-1)\n",
    "label_propagation_classifier.fit(X_labeled, y_labeled)\n",
    "\n",
    "y_pred_label_propagation = label_propagation_classifier.predict(x_test)"
   ]
  },
  {
   "cell_type": "code",
   "execution_count": 10,
   "id": "46cf1255-003e-4aaf-bde0-e6e237219702",
   "metadata": {},
   "outputs": [
    {
     "name": "stdout",
     "output_type": "stream",
     "text": [
      "Accuracy: 0.845\n",
      "Classification report:\n",
      "              precision    recall  f1-score   support\n",
      "\n",
      "     T-shirt       0.76      0.83      0.79      1394\n",
      "     Trouser       0.99      0.97      0.98      1402\n",
      "    Pullover       0.76      0.75      0.75      1407\n",
      "       Dress       0.90      0.85      0.87      1449\n",
      "        Coat       0.74      0.75      0.75      1357\n",
      "      Sandal       0.99      0.85      0.91      1449\n",
      "       Shirt       0.58      0.62      0.60      1407\n",
      "     Sneaker       0.87      0.96      0.91      1359\n",
      "         Bag       0.98      0.93      0.95      1342\n",
      "  Ankle boot       0.91      0.96      0.93      1434\n",
      "\n",
      "    accuracy                           0.84     14000\n",
      "   macro avg       0.85      0.85      0.85     14000\n",
      "weighted avg       0.85      0.84      0.85     14000\n",
      "\n"
     ]
    }
   ],
   "source": [
    "accu = accuracy_score(y_test, y_pred_label_propagation)\n",
    "crep = classification_report(y_test, y_pred_label_propagation, target_names=class_names)\n",
    "\n",
    "print(f\"Accuracy: {accu}\\nClassification report:\\n{crep}\")"
   ]
  },
  {
   "cell_type": "code",
   "execution_count": 11,
   "id": "f913d8c4-0722-4c9c-ac54-26aa74f68bff",
   "metadata": {},
   "outputs": [],
   "source": [
    "from sklearn.semi_supervised import LabelSpreading\n",
    "# ALWAYS ERROR BECAUSE OF MEMORY\n",
    "# Link: https://stackoverflow.com/questions/57507832/unable-to-allocate-array-with-shape-and-data-type\n",
    "\n",
    "# Класифікатор розповсюдження міток\n",
    "# label_spreading_classifier = LabelSpreading(kernel='rbf', gamma=0.1, n_jobs=-1)\n",
    "# label_spreading_classifier.fit(x_train, y_train)\n",
    "\n",
    "# y_pred_label_spreading = label_spreading_classifier.predict(x_test)"
   ]
  },
  {
   "cell_type": "code",
   "execution_count": 12,
   "id": "e390b0f7-adcb-4479-98a1-675205084791",
   "metadata": {},
   "outputs": [],
   "source": [
    "# accu = accuracy_score(y_test, y_pred_label_spreading)\n",
    "# crep = classification_report(y_test, y_pred_label_spreading, target_names=class_names)\n",
    "\n",
    "# print(f\"Accuracy: {accu}\\nClassification report:\\n{crep}\")"
   ]
  },
  {
   "cell_type": "code",
   "execution_count": null,
   "id": "a3ad69a2-ff93-459a-b159-4e90755d3c3a",
   "metadata": {},
   "outputs": [],
   "source": [
    "from sklearn.semi_supervised import SelfTrainingClassifier, LabelPropagation, LabelSpreading\n",
    "from sklearn.metrics import accuracy_score, classification_report\n",
    "from sklearn.preprocessing import LabelEncoder\n",
    "from sklearn.svm import SVC\n",
    "\n",
    "\n",
    "base_classifier = SVC(C=1.0, kernel='rbf', gamma='scale', probability=True)\n",
    "self_training_classifier = SelfTrainingClassifier(base_classifier)\n",
    "label_propagation_classifier = LabelPropagation(kernel='rbf', gamma=0.1, n_jobs=-1)\n",
    "label_spreading_classifier = LabelSpreading(kernel='rbf', gamma=0.1, n_jobs=-1)\n",
    "\n",
    "models = [self_training_classifier, label_propagation_classifier, label_spreading_classifier]\n",
    "percentages = [70, 60, 50, 40, 30]\n",
    "\n",
    "y_unlabeled = y_unlabeled.astype('category')  # Convert to categorical\n",
    "y_unlabeled = y_unlabeled.cat.add_categories([-1])  # Add -1 as a category\n",
    "\n",
    "for model in models:\n",
    "    for perc in percentages:\n",
    "        num_unlabeled = int(len(y_unlabeled) * perc / 100)\n",
    "        random_unlabeled_indices = np.random.choice(len(y_unlabeled), num_unlabeled, replace=False)\n",
    "        y_unlabeled.iloc[random_unlabeled_indices] = -1\n",
    "        \n",
    "        model.fit(X_unlabeled, y_unlabeled)\n",
    "\n",
    "        pred = model.predict(x_test)\n",
    "        accu = accuracy_score(y_test, pred)\n",
    "        crep = classification_report(y_test, pred, target_names=class_names)\n",
    "        \n",
    "        print(f\"Model: {model}, percentage of unlabeled data: {perc}, accuracy: {accu}\\n\"\n",
    "              f\"Classification report:\\n{crep}\")"
   ]
  },
  {
   "cell_type": "code",
   "execution_count": 21,
   "id": "72237519-9191-430f-aa2d-aa32b794e23e",
   "metadata": {},
   "outputs": [
    {
     "name": "stdout",
     "output_type": "stream",
     "text": [
      "10234    -1\n",
      "22304     2\n",
      "2945     -1\n",
      "45481    -1\n",
      "38536    -1\n",
      "         ..\n",
      "3019     -1\n",
      "45324     7\n",
      "16512     9\n",
      "30895    -1\n",
      "5980      6\n",
      "Name: class, Length: 28000, dtype: category\n",
      "Categories (11, object): ['0', '1', '2', '3', ..., '7', '8', '9', '-1']\n"
     ]
    },
    {
     "name": "stderr",
     "output_type": "stream",
     "text": [
      "/home/suphomie/uni/homeworks-labs/machine-learning-tools/venv/lib/python3.11/site-packages/sklearn/semi_supervised/_label_propagation.py:230: RuntimeWarning: invalid value encountered in divide\n",
      "  probabilities /= normalizer\n",
      "/home/suphomie/uni/homeworks-labs/machine-learning-tools/venv/lib/python3.11/site-packages/sklearn/metrics/_classification.py:1509: UndefinedMetricWarning: Recall is ill-defined and being set to 0.0 in labels with no true samples. Use `zero_division` parameter to control this behavior.\n",
      "  _warn_prf(average, modifier, f\"{metric.capitalize()} is\", len(result))\n",
      "/home/suphomie/uni/homeworks-labs/machine-learning-tools/venv/lib/python3.11/site-packages/sklearn/metrics/_classification.py:1509: UndefinedMetricWarning: Recall is ill-defined and being set to 0.0 in labels with no true samples. Use `zero_division` parameter to control this behavior.\n",
      "  _warn_prf(average, modifier, f\"{metric.capitalize()} is\", len(result))\n",
      "/home/suphomie/uni/homeworks-labs/machine-learning-tools/venv/lib/python3.11/site-packages/sklearn/metrics/_classification.py:1509: UndefinedMetricWarning: Recall is ill-defined and being set to 0.0 in labels with no true samples. Use `zero_division` parameter to control this behavior.\n",
      "  _warn_prf(average, modifier, f\"{metric.capitalize()} is\", len(result))\n"
     ]
    },
    {
     "name": "stdout",
     "output_type": "stream",
     "text": [
      "Model: LabelPropagation(gamma=1, n_jobs=-1), unlabeled data: 40%, accuracy: 0.4905\n",
      "Classification report:\n",
      "              precision    recall  f1-score   support\n",
      "\n",
      "          -1       0.00      0.00      0.00         0\n",
      "           0       0.79      0.50      0.61      1394\n",
      "           1       0.98      0.57      0.72      1402\n",
      "           2       0.73      0.44      0.55      1407\n",
      "           3       0.88      0.49      0.63      1449\n",
      "           4       0.72      0.44      0.54      1357\n",
      "           5       0.98      0.48      0.65      1449\n",
      "           6       0.61      0.35      0.45      1407\n",
      "           7       0.86      0.59      0.70      1359\n",
      "           8       0.98      0.51      0.67      1342\n",
      "           9       0.87      0.53      0.66      1434\n",
      "\n",
      "    accuracy                           0.49     14000\n",
      "   macro avg       0.76      0.45      0.56     14000\n",
      "weighted avg       0.84      0.49      0.62     14000\n",
      "\n",
      "\n",
      "10234     5\n",
      "22304     2\n",
      "2945     -1\n",
      "45481     1\n",
      "38536     6\n",
      "         ..\n",
      "3019      3\n",
      "45324     7\n",
      "16512    -1\n",
      "30895     9\n",
      "5980      6\n",
      "Name: class, Length: 28000, dtype: category\n",
      "Categories (11, object): ['0', '1', '2', '3', ..., '7', '8', '9', '-1']\n"
     ]
    },
    {
     "name": "stderr",
     "output_type": "stream",
     "text": [
      "/home/suphomie/uni/homeworks-labs/machine-learning-tools/venv/lib/python3.11/site-packages/sklearn/semi_supervised/_label_propagation.py:230: RuntimeWarning: invalid value encountered in divide\n",
      "  probabilities /= normalizer\n",
      "/home/suphomie/uni/homeworks-labs/machine-learning-tools/venv/lib/python3.11/site-packages/sklearn/metrics/_classification.py:1509: UndefinedMetricWarning: Recall is ill-defined and being set to 0.0 in labels with no true samples. Use `zero_division` parameter to control this behavior.\n",
      "  _warn_prf(average, modifier, f\"{metric.capitalize()} is\", len(result))\n"
     ]
    },
    {
     "name": "stdout",
     "output_type": "stream",
     "text": [
      "Model: LabelPropagation(gamma=1, n_jobs=-1), unlabeled data: 30%, accuracy: 0.5775714285714286\n",
      "Classification report:\n",
      "              precision    recall  f1-score   support\n",
      "\n",
      "          -1       0.00      0.00      0.00         0\n",
      "           0       0.76      0.58      0.66      1394\n",
      "           1       0.98      0.68      0.80      1402\n",
      "           2       0.76      0.53      0.63      1407\n",
      "           3       0.89      0.57      0.69      1449\n",
      "           4       0.71      0.49      0.58      1357\n",
      "           5       0.99      0.57      0.72      1449\n",
      "           6       0.62      0.45      0.52      1407\n",
      "           7       0.86      0.67      0.75      1359\n",
      "           8       0.98      0.59      0.73      1342\n",
      "           9       0.90      0.65      0.76      1434\n",
      "\n",
      "    accuracy                           0.58     14000\n",
      "   macro avg       0.77      0.53      0.62     14000\n",
      "weighted avg       0.85      0.58      0.69     14000\n",
      "\n",
      "\n"
     ]
    },
    {
     "name": "stderr",
     "output_type": "stream",
     "text": [
      "/home/suphomie/uni/homeworks-labs/machine-learning-tools/venv/lib/python3.11/site-packages/sklearn/metrics/_classification.py:1509: UndefinedMetricWarning: Recall is ill-defined and being set to 0.0 in labels with no true samples. Use `zero_division` parameter to control this behavior.\n",
      "  _warn_prf(average, modifier, f\"{metric.capitalize()} is\", len(result))\n",
      "/home/suphomie/uni/homeworks-labs/machine-learning-tools/venv/lib/python3.11/site-packages/sklearn/metrics/_classification.py:1509: UndefinedMetricWarning: Recall is ill-defined and being set to 0.0 in labels with no true samples. Use `zero_division` parameter to control this behavior.\n",
      "  _warn_prf(average, modifier, f\"{metric.capitalize()} is\", len(result))\n"
     ]
    }
   ],
   "source": [
    "from sklearn.semi_supervised import LabelPropagation\n",
    "from sklearn.metrics import accuracy_score, classification_report\n",
    "\n",
    "\n",
    "label_propagation_classifier = LabelPropagation(kernel='rbf', gamma=0.1, n_jobs=-1)\n",
    "percentages = [40, 30] # 70, 60, 50, \n",
    "models = [label_propagation_classifier]\n",
    "\n",
    "if '-1' not in y_unlabeled.cat.categories:\n",
    "    y_unlabeled = y_unlabeled.astype('category').cat.add_categories(['-1'])\n",
    "\n",
    "\n",
    "for model in models:\n",
    "    for perc in percentages:\n",
    "        num_unlabeled = int(len(y_unlabeled) * perc / 100)\n",
    "        random_unlabeled_indices = np.random.choice(len(y_unlabeled), num_unlabeled, replace=False)\n",
    "        y_unlabeled_temp = y_unlabeled.copy()\n",
    "        y_unlabeled_temp.iloc[random_unlabeled_indices] = '-1'\n",
    "        print(y_unlabeled_temp)\n",
    "                \n",
    "        model.fit(X_unlabeled, y_unlabeled_temp)\n",
    "        \n",
    "        pred = model.predict(x_test)\n",
    "        accu = accuracy_score(y_test, pred)\n",
    "        crep = classification_report(y_test, pred)\n",
    "                \n",
    "        print(f\"Model: {model}, unlabeled data: {perc}%, accuracy: {accu}\\n\"\n",
    "              f\"Classification report:\\n{crep}\\n\")"
   ]
  }
 ],
 "metadata": {
  "kernelspec": {
   "display_name": "Python 3 (ipykernel)",
   "language": "python",
   "name": "python3"
  },
  "language_info": {
   "codemirror_mode": {
    "name": "ipython",
    "version": 3
   },
   "file_extension": ".py",
   "mimetype": "text/x-python",
   "name": "python",
   "nbconvert_exporter": "python",
   "pygments_lexer": "ipython3",
   "version": "3.11.6"
  }
 },
 "nbformat": 4,
 "nbformat_minor": 5
}
