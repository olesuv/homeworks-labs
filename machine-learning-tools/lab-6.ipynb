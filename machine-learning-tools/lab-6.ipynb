{
 "cells": [
  {
   "cell_type": "code",
   "execution_count": 1,
   "id": "9329f8d2-c5a9-4ab4-89d3-0af1bb278d10",
   "metadata": {},
   "outputs": [],
   "source": [
    "from sklearn.datasets import fetch_openml\n",
    "from sklearn.model_selection import train_test_split\n",
    "\n",
    "\n",
    "X, y = fetch_openml('Fashion-MNIST', version=1, return_X_y=True)\n",
    "# Розділення на навчальний та тестовий набори\n",
    "X_train, X_test, y_train, y_test = train_test_split(X, y, test_size=0.2, random_state=42)"
   ]
  },
  {
   "cell_type": "code",
   "execution_count": 2,
   "id": "856fda6c-4b9c-45bd-a9ea-5f8e8bceb53d",
   "metadata": {},
   "outputs": [
    {
     "data": {
      "text/plain": [
       "'Ankle boot'"
      ]
     },
     "execution_count": 2,
     "metadata": {},
     "output_type": "execute_result"
    }
   ],
   "source": [
    "class_names = [\n",
    "    'T-shirt',\n",
    "    'Trouser',\n",
    "    'Pullover',\n",
    "    'Dress',\n",
    "    'Coat',\n",
    "    'Sandal',\n",
    "    'Shirt',\n",
    "    'Sneaker',\n",
    "    'Bag',\n",
    "    'Ankle boot'\n",
    "]\n",
    "\n",
    "class_names[int(y_train[0])]"
   ]
  },
  {
   "cell_type": "code",
   "execution_count": 3,
   "id": "b046c747-dc65-4634-9961-3cac52e4d108",
   "metadata": {},
   "outputs": [],
   "source": [
    "from sklearn.preprocessing import StandardScaler\n",
    "\n",
    "scaler = StandardScaler()\n",
    "x_train = scaler.fit_transform(X_train)\n",
    "x_test = scaler.transform(X_test)"
   ]
  },
  {
   "cell_type": "code",
   "execution_count": 4,
   "id": "ca80d30f-bacd-4eda-b6ae-87fe695e7cf2",
   "metadata": {},
   "outputs": [
    {
     "data": {
      "text/plain": [
       "(array([[-0.00796844, -0.02016575, -0.02805079, ..., -0.15864275,\n",
       "         -0.09123214, -0.03342068],\n",
       "        [-0.00796844, -0.02016575, -0.02805079, ..., -0.15864275,\n",
       "         -0.09123214, -0.03342068],\n",
       "        [-0.00796844, -0.02016575, -0.02805079, ..., -0.15864275,\n",
       "         -0.09123214, -0.03342068],\n",
       "        ...,\n",
       "        [-0.00796844, -0.02016575, -0.02805079, ..., -0.15864275,\n",
       "         -0.09123214, -0.03342068],\n",
       "        [-0.00796844, -0.02016575, -0.02805079, ..., -0.15864275,\n",
       "         -0.09123214, -0.03342068],\n",
       "        [-0.00796844, -0.02016575, -0.02805079, ..., -0.15864275,\n",
       "         -0.09123214, -0.03342068]]),\n",
       " array([[-0.00796844, -0.02016575, -0.02805079, ..., -0.15864275,\n",
       "         -0.09123214, -0.03342068],\n",
       "        [-0.00796844, -0.02016575, -0.02805079, ..., -0.15864275,\n",
       "         -0.09123214, -0.03342068],\n",
       "        [-0.00796844, -0.02016575, -0.02805079, ..., -0.15864275,\n",
       "         -0.09123214, -0.03342068],\n",
       "        ...,\n",
       "        [-0.00796844, -0.02016575, -0.02805079, ..., -0.15864275,\n",
       "         -0.09123214, -0.03342068],\n",
       "        [-0.00796844, -0.02016575, -0.02805079, ..., -0.15864275,\n",
       "         -0.09123214, -0.03342068],\n",
       "        [-0.00796844, -0.02016575, -0.02805079, ..., -0.15864275,\n",
       "         -0.09123214, -0.03342068]]),\n",
       " 60510    4\n",
       " 42045    7\n",
       " 51077    1\n",
       " 58144    0\n",
       " 22094    3\n",
       "         ..\n",
       " 46553    7\n",
       " 32117    5\n",
       " 26862    2\n",
       " 22146    9\n",
       " 31475    3\n",
       " Name: class, Length: 28000, dtype: category\n",
       " Categories (10, object): ['0', '1', '2', '3', ..., '6', '7', '8', '9'],\n",
       " 10234    5\n",
       " 22304    2\n",
       " 2945     4\n",
       " 45481    1\n",
       " 38536    6\n",
       "         ..\n",
       " 3019     3\n",
       " 45324    7\n",
       " 16512    9\n",
       " 30895    9\n",
       " 5980     6\n",
       " Name: class, Length: 28000, dtype: category\n",
       " Categories (10, object): ['0', '1', '2', '3', ..., '6', '7', '8', '9'])"
      ]
     },
     "execution_count": 4,
     "metadata": {},
     "output_type": "execute_result"
    }
   ],
   "source": [
    "import numpy as np\n",
    "\n",
    "\n",
    "# Розділення навчального набору на два: з мітками та без міток\n",
    "X_labeled, X_unlabeled, y_labeled, y_unlabeled = train_test_split(x_train, y_train, test_size=0.5, random_state=42)\n",
    "\n",
    "X_labeled, X_unlabeled, y_labeled, y_unlabeled"
   ]
  },
  {
   "cell_type": "code",
   "execution_count": 5,
   "id": "6cc01541-b7af-4a57-9172-67dae4b42eac",
   "metadata": {},
   "outputs": [],
   "source": [
    "from sklearn.svm import SVC\n",
    "from sklearn.metrics import accuracy_score, classification_report\n",
    "\n",
    "\n",
    "base_classifier = SVC(C=1.0, kernel='rbf', gamma='scale', probability=True)\n",
    "base_classifier.fit(X_labeled, y_labeled)\n",
    "\n",
    "# Оцінка точності базового класифікатора\n",
    "y_pred_labeled = base_classifier.predict(x_test)"
   ]
  },
  {
   "cell_type": "code",
   "execution_count": 6,
   "id": "ad9c9a95-bbd9-497c-be8c-f7090d203313",
   "metadata": {},
   "outputs": [
    {
     "name": "stdout",
     "output_type": "stream",
     "text": [
      "Accuracy: 0.8812857142857143\n",
      "Classification report:\n",
      "              precision    recall  f1-score   support\n",
      "\n",
      "     T-shirt       0.83      0.84      0.83      1394\n",
      "     Trouser       1.00      0.97      0.98      1402\n",
      "    Pullover       0.82      0.82      0.82      1407\n",
      "       Dress       0.87      0.90      0.89      1449\n",
      "        Coat       0.79      0.83      0.81      1357\n",
      "      Sandal       0.96      0.95      0.96      1449\n",
      "       Shirt       0.72      0.64      0.68      1407\n",
      "     Sneaker       0.92      0.95      0.94      1359\n",
      "         Bag       0.93      0.98      0.96      1342\n",
      "  Ankle boot       0.96      0.94      0.95      1434\n",
      "\n",
      "    accuracy                           0.88     14000\n",
      "   macro avg       0.88      0.88      0.88     14000\n",
      "weighted avg       0.88      0.88      0.88     14000\n",
      "\n"
     ]
    }
   ],
   "source": [
    "accu = accuracy_score(y_test, y_pred_labeled)\n",
    "crep = classification_report(y_test, y_pred_labeled, target_names=class_names)\n",
    "\n",
    "print(f\"Accuracy: {accu}\\nClassification report:\\n{crep}\")"
   ]
  },
  {
   "cell_type": "code",
   "execution_count": 7,
   "id": "cfbd041f-abe5-4bb9-9aca-aae532f0e902",
   "metadata": {},
   "outputs": [
    {
     "name": "stderr",
     "output_type": "stream",
     "text": [
      "/home/suphomie/uni/homeworks-labs/machine-learning-tools/venv/lib/python3.11/site-packages/sklearn/semi_supervised/_self_training.py:227: UserWarning: y contains no unlabeled samples\n",
      "  warnings.warn(\"y contains no unlabeled samples\", UserWarning)\n"
     ]
    }
   ],
   "source": [
    "from sklearn.semi_supervised import SelfTrainingClassifier\n",
    "\n",
    "\n",
    "base_classifier = SVC(C=1.0, kernel='rbf', gamma='scale', probability=True)\n",
    "# Класифікатор самонавчання\n",
    "self_training_classifier = SelfTrainingClassifier(base_classifier)\n",
    "self_training_classifier.fit(X_labeled, y_labeled)\n",
    "\n",
    "y_pred_self_training = self_training_classifier.predict(x_test)"
   ]
  },
  {
   "cell_type": "code",
   "execution_count": 8,
   "id": "1bf6cf8b-87e1-448b-a21e-9197944a4656",
   "metadata": {},
   "outputs": [
    {
     "name": "stdout",
     "output_type": "stream",
     "text": [
      "Accuracy: 0.8812857142857143\n",
      "Classification report:\n",
      "              precision    recall  f1-score   support\n",
      "\n",
      "     T-shirt       0.83      0.84      0.83      1394\n",
      "     Trouser       1.00      0.97      0.98      1402\n",
      "    Pullover       0.82      0.82      0.82      1407\n",
      "       Dress       0.87      0.90      0.89      1449\n",
      "        Coat       0.79      0.83      0.81      1357\n",
      "      Sandal       0.96      0.95      0.96      1449\n",
      "       Shirt       0.72      0.64      0.68      1407\n",
      "     Sneaker       0.92      0.95      0.94      1359\n",
      "         Bag       0.93      0.98      0.96      1342\n",
      "  Ankle boot       0.96      0.94      0.95      1434\n",
      "\n",
      "    accuracy                           0.88     14000\n",
      "   macro avg       0.88      0.88      0.88     14000\n",
      "weighted avg       0.88      0.88      0.88     14000\n",
      "\n"
     ]
    }
   ],
   "source": [
    "accu = accuracy_score(y_test, y_pred_self_training)\n",
    "crep = classification_report(y_test, y_pred_self_training, target_names=class_names)\n",
    "\n",
    "print(f\"Accuracy: {accu}\\nClassification report:\\n{crep}\")"
   ]
  },
  {
   "cell_type": "code",
   "execution_count": 9,
   "id": "bdf8cbc3-7cf9-497a-861d-987fc2c03fd0",
   "metadata": {},
   "outputs": [
    {
     "name": "stderr",
     "output_type": "stream",
     "text": [
      "/home/suphomie/uni/homeworks-labs/machine-learning-tools/venv/lib/python3.11/site-packages/sklearn/semi_supervised/_label_propagation.py:230: RuntimeWarning: invalid value encountered in divide\n",
      "  probabilities /= normalizer\n"
     ]
    }
   ],
   "source": [
    "from sklearn.semi_supervised import LabelPropagation\n",
    "\n",
    "\n",
    "# Класифікатор поширення міток\n",
    "label_propagation_classifier = LabelPropagation(kernel='rbf', gamma=0.1, n_jobs=-1)\n",
    "label_propagation_classifier.fit(X_labeled, y_labeled)\n",
    "\n",
    "y_pred_label_propagation = label_propagation_classifier.predict(x_test)"
   ]
  },
  {
   "cell_type": "code",
   "execution_count": 10,
   "id": "46cf1255-003e-4aaf-bde0-e6e237219702",
   "metadata": {},
   "outputs": [
    {
     "name": "stdout",
     "output_type": "stream",
     "text": [
      "Accuracy: 0.845\n",
      "Classification report:\n",
      "              precision    recall  f1-score   support\n",
      "\n",
      "     T-shirt       0.76      0.83      0.79      1394\n",
      "     Trouser       0.99      0.97      0.98      1402\n",
      "    Pullover       0.76      0.75      0.75      1407\n",
      "       Dress       0.90      0.85      0.87      1449\n",
      "        Coat       0.74      0.75      0.75      1357\n",
      "      Sandal       0.99      0.85      0.91      1449\n",
      "       Shirt       0.58      0.62      0.60      1407\n",
      "     Sneaker       0.87      0.96      0.91      1359\n",
      "         Bag       0.98      0.93      0.95      1342\n",
      "  Ankle boot       0.91      0.96      0.93      1434\n",
      "\n",
      "    accuracy                           0.84     14000\n",
      "   macro avg       0.85      0.85      0.85     14000\n",
      "weighted avg       0.85      0.84      0.85     14000\n",
      "\n"
     ]
    }
   ],
   "source": [
    "accu = accuracy_score(y_test, y_pred_label_propagation)\n",
    "crep = classification_report(y_test, y_pred_label_propagation, target_names=class_names)\n",
    "\n",
    "print(f\"Accuracy: {accu}\\nClassification report:\\n{crep}\")"
   ]
  },
  {
   "cell_type": "code",
   "execution_count": 5,
   "id": "f913d8c4-0722-4c9c-ac54-26aa74f68bff",
   "metadata": {},
   "outputs": [
    {
     "ename": "MemoryError",
     "evalue": "Unable to allocate 23.4 GiB for an array with shape (56000, 56000) and data type float64",
     "output_type": "error",
     "traceback": [
      "\u001b[0;31m---------------------------------------------------------------------------\u001b[0m",
      "\u001b[0;31mMemoryError\u001b[0m                               Traceback (most recent call last)",
      "Cell \u001b[0;32mIn[5], line 6\u001b[0m\n\u001b[1;32m      4\u001b[0m \u001b[38;5;66;03m# Класифікатор розповсюдження міток\u001b[39;00m\n\u001b[1;32m      5\u001b[0m label_spreading_classifier \u001b[38;5;241m=\u001b[39m LabelSpreading(kernel\u001b[38;5;241m=\u001b[39m\u001b[38;5;124m'\u001b[39m\u001b[38;5;124mrbf\u001b[39m\u001b[38;5;124m'\u001b[39m, gamma\u001b[38;5;241m=\u001b[39m\u001b[38;5;241m0.1\u001b[39m, n_jobs\u001b[38;5;241m=\u001b[39m\u001b[38;5;241m-\u001b[39m\u001b[38;5;241m1\u001b[39m)\n\u001b[0;32m----> 6\u001b[0m \u001b[43mlabel_spreading_classifier\u001b[49m\u001b[38;5;241;43m.\u001b[39;49m\u001b[43mfit\u001b[49m\u001b[43m(\u001b[49m\u001b[43mx_train\u001b[49m\u001b[43m,\u001b[49m\u001b[43m \u001b[49m\u001b[43my_train\u001b[49m\u001b[43m)\u001b[49m\n\u001b[1;32m      8\u001b[0m y_pred_label_spreading \u001b[38;5;241m=\u001b[39m label_spreading_classifier\u001b[38;5;241m.\u001b[39mpredict(x_test)\n",
      "File \u001b[0;32m~/uni/homeworks-labs/machine-learning-tools/venv/lib/python3.11/site-packages/sklearn/base.py:1474\u001b[0m, in \u001b[0;36m_fit_context.<locals>.decorator.<locals>.wrapper\u001b[0;34m(estimator, *args, **kwargs)\u001b[0m\n\u001b[1;32m   1467\u001b[0m     estimator\u001b[38;5;241m.\u001b[39m_validate_params()\n\u001b[1;32m   1469\u001b[0m \u001b[38;5;28;01mwith\u001b[39;00m config_context(\n\u001b[1;32m   1470\u001b[0m     skip_parameter_validation\u001b[38;5;241m=\u001b[39m(\n\u001b[1;32m   1471\u001b[0m         prefer_skip_nested_validation \u001b[38;5;129;01mor\u001b[39;00m global_skip_validation\n\u001b[1;32m   1472\u001b[0m     )\n\u001b[1;32m   1473\u001b[0m ):\n\u001b[0;32m-> 1474\u001b[0m     \u001b[38;5;28;01mreturn\u001b[39;00m \u001b[43mfit_method\u001b[49m\u001b[43m(\u001b[49m\u001b[43mestimator\u001b[49m\u001b[43m,\u001b[49m\u001b[43m \u001b[49m\u001b[38;5;241;43m*\u001b[39;49m\u001b[43margs\u001b[49m\u001b[43m,\u001b[49m\u001b[43m \u001b[49m\u001b[38;5;241;43m*\u001b[39;49m\u001b[38;5;241;43m*\u001b[39;49m\u001b[43mkwargs\u001b[49m\u001b[43m)\u001b[49m\n",
      "File \u001b[0;32m~/uni/homeworks-labs/machine-learning-tools/venv/lib/python3.11/site-packages/sklearn/semi_supervised/_label_propagation.py:268\u001b[0m, in \u001b[0;36mBaseLabelPropagation.fit\u001b[0;34m(self, X, y)\u001b[0m\n\u001b[1;32m    265\u001b[0m check_classification_targets(y)\n\u001b[1;32m    267\u001b[0m \u001b[38;5;66;03m# actual graph construction (implementations should override this)\u001b[39;00m\n\u001b[0;32m--> 268\u001b[0m graph_matrix \u001b[38;5;241m=\u001b[39m \u001b[38;5;28;43mself\u001b[39;49m\u001b[38;5;241;43m.\u001b[39;49m\u001b[43m_build_graph\u001b[49m\u001b[43m(\u001b[49m\u001b[43m)\u001b[49m\n\u001b[1;32m    270\u001b[0m \u001b[38;5;66;03m# label construction\u001b[39;00m\n\u001b[1;32m    271\u001b[0m \u001b[38;5;66;03m# construct a categorical distribution for classification only\u001b[39;00m\n\u001b[1;32m    272\u001b[0m classes \u001b[38;5;241m=\u001b[39m np\u001b[38;5;241m.\u001b[39munique(y)\n",
      "File \u001b[0;32m~/uni/homeworks-labs/machine-learning-tools/venv/lib/python3.11/site-packages/sklearn/semi_supervised/_label_propagation.py:615\u001b[0m, in \u001b[0;36mLabelSpreading._build_graph\u001b[0;34m(self)\u001b[0m\n\u001b[1;32m    613\u001b[0m     \u001b[38;5;28mself\u001b[39m\u001b[38;5;241m.\u001b[39mnn_fit \u001b[38;5;241m=\u001b[39m \u001b[38;5;28;01mNone\u001b[39;00m\n\u001b[1;32m    614\u001b[0m n_samples \u001b[38;5;241m=\u001b[39m \u001b[38;5;28mself\u001b[39m\u001b[38;5;241m.\u001b[39mX_\u001b[38;5;241m.\u001b[39mshape[\u001b[38;5;241m0\u001b[39m]\n\u001b[0;32m--> 615\u001b[0m affinity_matrix \u001b[38;5;241m=\u001b[39m \u001b[38;5;28;43mself\u001b[39;49m\u001b[38;5;241;43m.\u001b[39;49m\u001b[43m_get_kernel\u001b[49m\u001b[43m(\u001b[49m\u001b[38;5;28;43mself\u001b[39;49m\u001b[38;5;241;43m.\u001b[39;49m\u001b[43mX_\u001b[49m\u001b[43m)\u001b[49m\n\u001b[1;32m    616\u001b[0m laplacian \u001b[38;5;241m=\u001b[39m csgraph_laplacian(affinity_matrix, normed\u001b[38;5;241m=\u001b[39m\u001b[38;5;28;01mTrue\u001b[39;00m)\n\u001b[1;32m    617\u001b[0m laplacian \u001b[38;5;241m=\u001b[39m \u001b[38;5;241m-\u001b[39mlaplacian\n",
      "File \u001b[0;32m~/uni/homeworks-labs/machine-learning-tools/venv/lib/python3.11/site-packages/sklearn/semi_supervised/_label_propagation.py:147\u001b[0m, in \u001b[0;36mBaseLabelPropagation._get_kernel\u001b[0;34m(self, X, y)\u001b[0m\n\u001b[1;32m    145\u001b[0m \u001b[38;5;28;01mif\u001b[39;00m \u001b[38;5;28mself\u001b[39m\u001b[38;5;241m.\u001b[39mkernel \u001b[38;5;241m==\u001b[39m \u001b[38;5;124m\"\u001b[39m\u001b[38;5;124mrbf\u001b[39m\u001b[38;5;124m\"\u001b[39m:\n\u001b[1;32m    146\u001b[0m     \u001b[38;5;28;01mif\u001b[39;00m y \u001b[38;5;129;01mis\u001b[39;00m \u001b[38;5;28;01mNone\u001b[39;00m:\n\u001b[0;32m--> 147\u001b[0m         \u001b[38;5;28;01mreturn\u001b[39;00m \u001b[43mrbf_kernel\u001b[49m\u001b[43m(\u001b[49m\u001b[43mX\u001b[49m\u001b[43m,\u001b[49m\u001b[43m \u001b[49m\u001b[43mX\u001b[49m\u001b[43m,\u001b[49m\u001b[43m \u001b[49m\u001b[43mgamma\u001b[49m\u001b[38;5;241;43m=\u001b[39;49m\u001b[38;5;28;43mself\u001b[39;49m\u001b[38;5;241;43m.\u001b[39;49m\u001b[43mgamma\u001b[49m\u001b[43m)\u001b[49m\n\u001b[1;32m    148\u001b[0m     \u001b[38;5;28;01melse\u001b[39;00m:\n\u001b[1;32m    149\u001b[0m         \u001b[38;5;28;01mreturn\u001b[39;00m rbf_kernel(X, y, gamma\u001b[38;5;241m=\u001b[39m\u001b[38;5;28mself\u001b[39m\u001b[38;5;241m.\u001b[39mgamma)\n",
      "File \u001b[0;32m~/uni/homeworks-labs/machine-learning-tools/venv/lib/python3.11/site-packages/sklearn/utils/_param_validation.py:186\u001b[0m, in \u001b[0;36mvalidate_params.<locals>.decorator.<locals>.wrapper\u001b[0;34m(*args, **kwargs)\u001b[0m\n\u001b[1;32m    184\u001b[0m global_skip_validation \u001b[38;5;241m=\u001b[39m get_config()[\u001b[38;5;124m\"\u001b[39m\u001b[38;5;124mskip_parameter_validation\u001b[39m\u001b[38;5;124m\"\u001b[39m]\n\u001b[1;32m    185\u001b[0m \u001b[38;5;28;01mif\u001b[39;00m global_skip_validation:\n\u001b[0;32m--> 186\u001b[0m     \u001b[38;5;28;01mreturn\u001b[39;00m \u001b[43mfunc\u001b[49m\u001b[43m(\u001b[49m\u001b[38;5;241;43m*\u001b[39;49m\u001b[43margs\u001b[49m\u001b[43m,\u001b[49m\u001b[43m \u001b[49m\u001b[38;5;241;43m*\u001b[39;49m\u001b[38;5;241;43m*\u001b[39;49m\u001b[43mkwargs\u001b[49m\u001b[43m)\u001b[49m\n\u001b[1;32m    188\u001b[0m func_sig \u001b[38;5;241m=\u001b[39m signature(func)\n\u001b[1;32m    190\u001b[0m \u001b[38;5;66;03m# Map *args/**kwargs to the function signature\u001b[39;00m\n",
      "File \u001b[0;32m~/uni/homeworks-labs/machine-learning-tools/venv/lib/python3.11/site-packages/sklearn/metrics/pairwise.py:1540\u001b[0m, in \u001b[0;36mrbf_kernel\u001b[0;34m(X, Y, gamma)\u001b[0m\n\u001b[1;32m   1537\u001b[0m \u001b[38;5;28;01mif\u001b[39;00m gamma \u001b[38;5;129;01mis\u001b[39;00m \u001b[38;5;28;01mNone\u001b[39;00m:\n\u001b[1;32m   1538\u001b[0m     gamma \u001b[38;5;241m=\u001b[39m \u001b[38;5;241m1.0\u001b[39m \u001b[38;5;241m/\u001b[39m X\u001b[38;5;241m.\u001b[39mshape[\u001b[38;5;241m1\u001b[39m]\n\u001b[0;32m-> 1540\u001b[0m K \u001b[38;5;241m=\u001b[39m \u001b[43meuclidean_distances\u001b[49m\u001b[43m(\u001b[49m\u001b[43mX\u001b[49m\u001b[43m,\u001b[49m\u001b[43m \u001b[49m\u001b[43mY\u001b[49m\u001b[43m,\u001b[49m\u001b[43m \u001b[49m\u001b[43msquared\u001b[49m\u001b[38;5;241;43m=\u001b[39;49m\u001b[38;5;28;43;01mTrue\u001b[39;49;00m\u001b[43m)\u001b[49m\n\u001b[1;32m   1541\u001b[0m K \u001b[38;5;241m*\u001b[39m\u001b[38;5;241m=\u001b[39m \u001b[38;5;241m-\u001b[39mgamma\n\u001b[1;32m   1542\u001b[0m np\u001b[38;5;241m.\u001b[39mexp(K, K)  \u001b[38;5;66;03m# exponentiate K in-place\u001b[39;00m\n",
      "File \u001b[0;32m~/uni/homeworks-labs/machine-learning-tools/venv/lib/python3.11/site-packages/sklearn/utils/_param_validation.py:186\u001b[0m, in \u001b[0;36mvalidate_params.<locals>.decorator.<locals>.wrapper\u001b[0;34m(*args, **kwargs)\u001b[0m\n\u001b[1;32m    184\u001b[0m global_skip_validation \u001b[38;5;241m=\u001b[39m get_config()[\u001b[38;5;124m\"\u001b[39m\u001b[38;5;124mskip_parameter_validation\u001b[39m\u001b[38;5;124m\"\u001b[39m]\n\u001b[1;32m    185\u001b[0m \u001b[38;5;28;01mif\u001b[39;00m global_skip_validation:\n\u001b[0;32m--> 186\u001b[0m     \u001b[38;5;28;01mreturn\u001b[39;00m \u001b[43mfunc\u001b[49m\u001b[43m(\u001b[49m\u001b[38;5;241;43m*\u001b[39;49m\u001b[43margs\u001b[49m\u001b[43m,\u001b[49m\u001b[43m \u001b[49m\u001b[38;5;241;43m*\u001b[39;49m\u001b[38;5;241;43m*\u001b[39;49m\u001b[43mkwargs\u001b[49m\u001b[43m)\u001b[49m\n\u001b[1;32m    188\u001b[0m func_sig \u001b[38;5;241m=\u001b[39m signature(func)\n\u001b[1;32m    190\u001b[0m \u001b[38;5;66;03m# Map *args/**kwargs to the function signature\u001b[39;00m\n",
      "File \u001b[0;32m~/uni/homeworks-labs/machine-learning-tools/venv/lib/python3.11/site-packages/sklearn/metrics/pairwise.py:347\u001b[0m, in \u001b[0;36meuclidean_distances\u001b[0;34m(X, Y, Y_norm_squared, squared, X_norm_squared)\u001b[0m\n\u001b[1;32m    341\u001b[0m     \u001b[38;5;28;01mif\u001b[39;00m Y_norm_squared\u001b[38;5;241m.\u001b[39mshape \u001b[38;5;241m!=\u001b[39m (\u001b[38;5;241m1\u001b[39m, Y\u001b[38;5;241m.\u001b[39mshape[\u001b[38;5;241m0\u001b[39m]):\n\u001b[1;32m    342\u001b[0m         \u001b[38;5;28;01mraise\u001b[39;00m \u001b[38;5;167;01mValueError\u001b[39;00m(\n\u001b[1;32m    343\u001b[0m             \u001b[38;5;124mf\u001b[39m\u001b[38;5;124m\"\u001b[39m\u001b[38;5;124mIncompatible dimensions for Y of shape \u001b[39m\u001b[38;5;132;01m{\u001b[39;00mY\u001b[38;5;241m.\u001b[39mshape\u001b[38;5;132;01m}\u001b[39;00m\u001b[38;5;124m and \u001b[39m\u001b[38;5;124m\"\u001b[39m\n\u001b[1;32m    344\u001b[0m             \u001b[38;5;124mf\u001b[39m\u001b[38;5;124m\"\u001b[39m\u001b[38;5;124mY_norm_squared of shape \u001b[39m\u001b[38;5;132;01m{\u001b[39;00moriginal_shape\u001b[38;5;132;01m}\u001b[39;00m\u001b[38;5;124m.\u001b[39m\u001b[38;5;124m\"\u001b[39m\n\u001b[1;32m    345\u001b[0m         )\n\u001b[0;32m--> 347\u001b[0m \u001b[38;5;28;01mreturn\u001b[39;00m \u001b[43m_euclidean_distances\u001b[49m\u001b[43m(\u001b[49m\u001b[43mX\u001b[49m\u001b[43m,\u001b[49m\u001b[43m \u001b[49m\u001b[43mY\u001b[49m\u001b[43m,\u001b[49m\u001b[43m \u001b[49m\u001b[43mX_norm_squared\u001b[49m\u001b[43m,\u001b[49m\u001b[43m \u001b[49m\u001b[43mY_norm_squared\u001b[49m\u001b[43m,\u001b[49m\u001b[43m \u001b[49m\u001b[43msquared\u001b[49m\u001b[43m)\u001b[49m\n",
      "File \u001b[0;32m~/uni/homeworks-labs/machine-learning-tools/venv/lib/python3.11/site-packages/sklearn/metrics/pairwise.py:382\u001b[0m, in \u001b[0;36m_euclidean_distances\u001b[0;34m(X, Y, X_norm_squared, Y_norm_squared, squared)\u001b[0m\n\u001b[1;32m    379\u001b[0m     distances \u001b[38;5;241m=\u001b[39m _euclidean_distances_upcast(X, XX, Y, YY)\n\u001b[1;32m    380\u001b[0m \u001b[38;5;28;01melse\u001b[39;00m:\n\u001b[1;32m    381\u001b[0m     \u001b[38;5;66;03m# if dtype is already float64, no need to chunk and upcast\u001b[39;00m\n\u001b[0;32m--> 382\u001b[0m     distances \u001b[38;5;241m=\u001b[39m \u001b[38;5;241m-\u001b[39m\u001b[38;5;241m2\u001b[39m \u001b[38;5;241m*\u001b[39m \u001b[43msafe_sparse_dot\u001b[49m\u001b[43m(\u001b[49m\u001b[43mX\u001b[49m\u001b[43m,\u001b[49m\u001b[43m \u001b[49m\u001b[43mY\u001b[49m\u001b[38;5;241;43m.\u001b[39;49m\u001b[43mT\u001b[49m\u001b[43m,\u001b[49m\u001b[43m \u001b[49m\u001b[43mdense_output\u001b[49m\u001b[38;5;241;43m=\u001b[39;49m\u001b[38;5;28;43;01mTrue\u001b[39;49;00m\u001b[43m)\u001b[49m\n\u001b[1;32m    383\u001b[0m     distances \u001b[38;5;241m+\u001b[39m\u001b[38;5;241m=\u001b[39m XX\n\u001b[1;32m    384\u001b[0m     distances \u001b[38;5;241m+\u001b[39m\u001b[38;5;241m=\u001b[39m YY\n",
      "File \u001b[0;32m~/uni/homeworks-labs/machine-learning-tools/venv/lib/python3.11/site-packages/sklearn/utils/extmath.py:208\u001b[0m, in \u001b[0;36msafe_sparse_dot\u001b[0;34m(a, b, dense_output)\u001b[0m\n\u001b[1;32m    206\u001b[0m         ret \u001b[38;5;241m=\u001b[39m np\u001b[38;5;241m.\u001b[39mdot(a, b)\n\u001b[1;32m    207\u001b[0m \u001b[38;5;28;01melse\u001b[39;00m:\n\u001b[0;32m--> 208\u001b[0m     ret \u001b[38;5;241m=\u001b[39m \u001b[43ma\u001b[49m\u001b[43m \u001b[49m\u001b[38;5;241;43m@\u001b[39;49m\u001b[43m \u001b[49m\u001b[43mb\u001b[49m\n\u001b[1;32m    210\u001b[0m \u001b[38;5;28;01mif\u001b[39;00m (\n\u001b[1;32m    211\u001b[0m     sparse\u001b[38;5;241m.\u001b[39missparse(a)\n\u001b[1;32m    212\u001b[0m     \u001b[38;5;129;01mand\u001b[39;00m sparse\u001b[38;5;241m.\u001b[39missparse(b)\n\u001b[1;32m    213\u001b[0m     \u001b[38;5;129;01mand\u001b[39;00m dense_output\n\u001b[1;32m    214\u001b[0m     \u001b[38;5;129;01mand\u001b[39;00m \u001b[38;5;28mhasattr\u001b[39m(ret, \u001b[38;5;124m\"\u001b[39m\u001b[38;5;124mtoarray\u001b[39m\u001b[38;5;124m\"\u001b[39m)\n\u001b[1;32m    215\u001b[0m ):\n\u001b[1;32m    216\u001b[0m     \u001b[38;5;28;01mreturn\u001b[39;00m ret\u001b[38;5;241m.\u001b[39mtoarray()\n",
      "\u001b[0;31mMemoryError\u001b[0m: Unable to allocate 23.4 GiB for an array with shape (56000, 56000) and data type float64"
     ]
    }
   ],
   "source": [
    "from sklearn.semi_supervised import LabelSpreading\n",
    "\n",
    "\n",
    "# Класифікатор розповсюдження міток\n",
    "label_spreading_classifier = LabelSpreading(kernel='rbf', gamma=0.1, n_jobs=-1)\n",
    "label_spreading_classifier.fit(x_train, y_train)\n",
    "\n",
    "y_pred_label_spreading = label_spreading_classifier.predict(x_test)"
   ]
  },
  {
   "cell_type": "code",
   "execution_count": null,
   "id": "e390b0f7-adcb-4479-98a1-675205084791",
   "metadata": {},
   "outputs": [],
   "source": [
    "accu = accuracy_score(y_test, y_pred_label_spreading)\n",
    "crep = classification_report(y_test, y_pred_label_spreading, target_names=class_names)\n",
    "\n",
    "print(f\"Accuracy: {accu}\\nClassification report:\\n{crep}\")"
   ]
  },
  {
   "cell_type": "code",
   "execution_count": null,
   "id": "a3ad69a2-ff93-459a-b159-4e90755d3c3a",
   "metadata": {},
   "outputs": [],
   "source": [
    "base_classifier = SVC(C=1.0, kernel='rbf', gamma='scale', probability=True)\n",
    "self_training_classifier = SelfTrainingClassifier(base_classifier)\n",
    "label_propagation_classifier = LabelPropagation(kernel='rbf', gamma=0.1, n_jobs=-1)\n",
    "label_spreading_classifier = LabelSpreading(kernel='rbf', gamma=0.1, n_jobs=-1)\n",
    "\n",
    "models = [self_training_classifier, label_propagation_classifier, label_spreading_classifier]\n",
    "percentages = [70, 60, 50, 40, 30]\n",
    "\n",
    "for model in models:\n",
    "    for perc in percentages:\n",
    "        # make unlabeled_indices with random percentage of data.\n",
    "        rui = np.random.choice(unlabeled_indices, size=num_unlabeled, replace=False)\n",
    "        y_unlabeled[rui] = -1\n",
    "        \n",
    "        model.fit(X_unlabeled, y_unlabeled)\n",
    "\n",
    "        pred = model.predict(x_test)\n",
    "        accu = accuracy_score(y_test, pred)\n",
    "        crep = classification_report(y_test, pred, target_names=class_names)\n",
    "        \n",
    "        print(f\"Model: {model}, percentage of unlabeled data: {perc}, accuracy: {accu}\\n\"\n",
    "              f\"Classification report:\\n{crep}\")"
   ]
  },
  {
   "cell_type": "code",
   "execution_count": null,
   "id": "4ed5b91f-badb-4c87-89a2-0a831d912dc6",
   "metadata": {},
   "outputs": [],
   "source": [
    "# y_unlabeled = y_unlabeled.replace(to_replace=y_unlabeled.values, value=-1)"
   ]
  }
 ],
 "metadata": {
  "kernelspec": {
   "display_name": "Python 3 (ipykernel)",
   "language": "python",
   "name": "python3"
  },
  "language_info": {
   "codemirror_mode": {
    "name": "ipython",
    "version": 3
   },
   "file_extension": ".py",
   "mimetype": "text/x-python",
   "name": "python",
   "nbconvert_exporter": "python",
   "pygments_lexer": "ipython3",
   "version": "3.11.6"
  }
 },
 "nbformat": 4,
 "nbformat_minor": 5
}
