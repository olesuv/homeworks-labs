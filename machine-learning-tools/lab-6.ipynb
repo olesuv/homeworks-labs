{
 "cells": [
  {
   "cell_type": "code",
   "execution_count": 28,
   "id": "9329f8d2-c5a9-4ab4-89d3-0af1bb278d10",
   "metadata": {},
   "outputs": [],
   "source": [
    "from sklearn.datasets import fetch_openml\n",
    "from sklearn.model_selection import train_test_split\n",
    "\n",
    "\n",
    "X, y = fetch_openml('Fashion-MNIST', version=1, return_X_y=True)\n",
    "# Розділення на навчальний та тестовий набори\n",
    "X_train, X_test, y_train, y_test = train_test_split(X, y, test_size=0.2, random_state=42)"
   ]
  },
  {
   "cell_type": "code",
   "execution_count": 29,
   "id": "b046c747-dc65-4634-9961-3cac52e4d108",
   "metadata": {},
   "outputs": [],
   "source": [
    "from sklearn.preprocessing import StandardScaler\n",
    "\n",
    "scaler = StandardScaler()\n",
    "x_train = scaler.fit_transform(X_train)\n",
    "x_test = scaler.transform(X_test)"
   ]
  },
  {
   "cell_type": "code",
   "execution_count": 34,
   "id": "ca80d30f-bacd-4eda-b6ae-87fe695e7cf2",
   "metadata": {},
   "outputs": [
    {
     "name": "stderr",
     "output_type": "stream",
     "text": [
      "/tmp/ipykernel_135228/3967215044.py:6: FutureWarning: Downcasting behavior in `replace` is deprecated and will be removed in a future version. To retain the old behavior, explicitly call `result.infer_objects(copy=False)`. To opt-in to the future behavior, set `pd.set_option('future.no_silent_downcasting', True)`\n",
      "  y_unlabeled = y_unlabeled.replace(to_replace=y_unlabeled.values, value=-1)\n",
      "/tmp/ipykernel_135228/3967215044.py:6: FutureWarning: The behavior of Series.replace (and DataFrame.replace) with CategoricalDtype is deprecated. In a future version, replace will only be used for cases that preserve the categories. To change the categories, use ser.cat.rename_categories instead.\n",
      "  y_unlabeled = y_unlabeled.replace(to_replace=y_unlabeled.values, value=-1)\n"
     ]
    },
    {
     "data": {
      "text/plain": [
       "(array([[-0.00796844, -0.02016575, -0.02805079, ..., -0.15864275,\n",
       "         -0.09123214, -0.03342068],\n",
       "        [-0.00796844, -0.02016575, -0.02805079, ..., -0.15864275,\n",
       "         -0.09123214, -0.03342068],\n",
       "        [-0.00796844, -0.02016575, -0.02805079, ..., -0.15864275,\n",
       "         -0.09123214, -0.03342068],\n",
       "        ...,\n",
       "        [-0.00796844, -0.02016575, -0.02805079, ..., -0.15864275,\n",
       "         -0.09123214, -0.03342068],\n",
       "        [-0.00796844, -0.02016575, -0.02805079, ..., -0.15864275,\n",
       "         -0.09123214, -0.03342068],\n",
       "        [-0.00796844, -0.02016575, -0.02805079, ..., -0.15864275,\n",
       "         -0.09123214, -0.03342068]]),\n",
       " array([[-0.00796844, -0.02016575, -0.02805079, ..., -0.15864275,\n",
       "         -0.09123214, -0.03342068],\n",
       "        [-0.00796844, -0.02016575, -0.02805079, ..., -0.15864275,\n",
       "         -0.09123214, -0.03342068],\n",
       "        [-0.00796844, -0.02016575, -0.02805079, ..., -0.15864275,\n",
       "         -0.09123214, -0.03342068],\n",
       "        ...,\n",
       "        [-0.00796844, -0.02016575, -0.02805079, ..., -0.15864275,\n",
       "         -0.09123214, -0.03342068],\n",
       "        [-0.00796844, -0.02016575, -0.02805079, ..., -0.15864275,\n",
       "         -0.09123214, -0.03342068],\n",
       "        [-0.00796844, -0.02016575, -0.02805079, ..., -0.15864275,\n",
       "         -0.09123214, -0.03342068]]),\n",
       " 60510    4\n",
       " 42045    7\n",
       " 51077    1\n",
       " 58144    0\n",
       " 22094    3\n",
       "         ..\n",
       " 46553    7\n",
       " 32117    5\n",
       " 26862    2\n",
       " 22146    9\n",
       " 31475    3\n",
       " Name: class, Length: 28000, dtype: category\n",
       " Categories (10, object): ['0', '1', '2', '3', ..., '6', '7', '8', '9'],\n",
       " 10234   -1\n",
       " 22304   -1\n",
       " 2945    -1\n",
       " 45481   -1\n",
       " 38536   -1\n",
       "         ..\n",
       " 3019    -1\n",
       " 45324   -1\n",
       " 16512   -1\n",
       " 30895   -1\n",
       " 5980    -1\n",
       " Name: class, Length: 28000, dtype: category\n",
       " Categories (1, int64): [-1])"
      ]
     },
     "execution_count": 34,
     "metadata": {},
     "output_type": "execute_result"
    }
   ],
   "source": [
    "import numpy as np\n",
    "\n",
    "\n",
    "# Розділення навчального набору на два: з мітками та без міток\n",
    "X_labeled, X_unlabeled, y_labeled, y_unlabeled = train_test_split(x_train, y_train, test_size=0.5, random_state=42)\n",
    "y_unlabeled = y_unlabeled.replace(to_replace=y_unlabeled.values, value=-1)\n",
    "\n",
    "X_labeled, X_unlabeled, y_labeled, y_unlabeled"
   ]
  },
  {
   "cell_type": "code",
   "execution_count": null,
   "id": "6cc01541-b7af-4a57-9172-67dae4b42eac",
   "metadata": {},
   "outputs": [],
   "source": [
    "from sklearn.svm import SVC\n",
    "from sklearn.metrics import accuracy_score\n",
    "\n",
    "\n",
    "base_classifier = SVC(C=1.0, kernel='rbf', gamma='scale', probability=True)\n",
    "base_classifier.fit(X_labeled, y_labeled)\n",
    "\n",
    "# Оцінка точності класифікатора з мітками на тестовому наборі\n",
    "y_pred_labeled = base_classifier.predict(x_test)\n",
    "accuracy_score(y_test, y_pred_labeled)"
   ]
  },
  {
   "cell_type": "code",
   "execution_count": null,
   "id": "96febfa6-6a3d-460f-a6fc-7cffd78fe20b",
   "metadata": {},
   "outputs": [],
   "source": [
    "from sklearn.semi_supervised import SelfTrainingClassifier, LabelPropagation, LabelSpreading\n",
    "\n",
    "\n",
    "# Класифікатор самонавчання\n",
    "self_training_classifier = SelfTrainingClassifier(base_classifier)\n",
    "X_labeled.shape, y_labeled.shape, X_unlabeled.shape, y_unlabeled.shape\n",
    "self_training_classifier.fit(X_unlabeled, y_unlabeled)\n",
    "\n",
    "y_pred_self_training = self_training_classifier.predict(x_test)\n",
    "accuracy_score(y_test, y_pred_self_training)\n",
    "\n",
    "X_unlabeled, y_unlabeled"
   ]
  },
  {
   "cell_type": "code",
   "execution_count": null,
   "id": "89804d94-abd0-480a-b559-a8c383f0d03c",
   "metadata": {},
   "outputs": [],
   "source": [
    "# x_train_int = X_unlabeled.astype(int)\n",
    "# y_train_int = y_train.astype(int)\n",
    "\n",
    "# Класифікатор поширення міток\n",
    "label_propagation_classifier = LabelPropagation()\n",
    "label_propagation_classifier.fit(x_train, y_train)\n",
    "\n",
    "y_pred_label_propagation = label_propagation_classifier.predict(x_test)\n",
    "accuracy_score(y_test, y_pred_label_propagation)"
   ]
  },
  {
   "cell_type": "code",
   "execution_count": null,
   "id": "6cc3c047-37d0-4260-bd91-9361010017e1",
   "metadata": {},
   "outputs": [],
   "source": [
    "# Класифікатор розповсюдження міток\n",
    "label_spreading_classifier = LabelSpreading()\n",
    "label_spreading_classifier.fit(x_train, y_train)\n",
    "\n",
    "y_pred_label_spreading = label_spreading_classifier.predict(x_test)\n",
    "accuracy_label_spreading = accuracy_score(y_test, y_pred_label_spreading)"
   ]
  }
 ],
 "metadata": {
  "kernelspec": {
   "display_name": "Python 3 (ipykernel)",
   "language": "python",
   "name": "python3"
  },
  "language_info": {
   "codemirror_mode": {
    "name": "ipython",
    "version": 3
   },
   "file_extension": ".py",
   "mimetype": "text/x-python",
   "name": "python",
   "nbconvert_exporter": "python",
   "pygments_lexer": "ipython3",
   "version": "3.11.6"
  }
 },
 "nbformat": 4,
 "nbformat_minor": 5
}
