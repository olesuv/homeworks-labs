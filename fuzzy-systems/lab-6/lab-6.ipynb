{
 "cells": [
  {
   "cell_type": "code",
   "execution_count": 2,
   "id": "e76793ad-637e-4ef8-a35d-acc70b6f46ee",
   "metadata": {},
   "outputs": [],
   "source": [
    "import numpy as np\n",
    "import pandas as pd"
   ]
  },
  {
   "cell_type": "code",
   "execution_count": 3,
   "id": "501c9b8a-3197-4811-b7ac-aa4860086bec",
   "metadata": {},
   "outputs": [],
   "source": [
    "def NOT(a):\n",
    "    return 1 - a\n",
    "\n",
    "def AND(a, b):\n",
    "    return np.minimum(a, b)\n",
    "\n",
    "def OR(a, b):\n",
    "    return np.maximum(a, b)\n",
    "\n",
    "def IMP(a, b):\n",
    "    return OR(AND(a, b), NOT(a))\n",
    "\n",
    "def EQU(a, b):\n",
    "    return AND(OR(NOT(a), b), OR(a, NOT(b)))"
   ]
  },
  {
   "cell_type": "code",
   "execution_count": 4,
   "id": "8392ed0c-27a2-4ad7-95cc-5ff2f4a22e6c",
   "metadata": {},
   "outputs": [],
   "source": [
    "n = 10"
   ]
  },
  {
   "cell_type": "code",
   "execution_count": 5,
   "id": "94dd49ba-88b5-45a2-ad27-42d5c1f71b00",
   "metadata": {},
   "outputs": [
    {
     "data": {
      "text/plain": [
       "array([0.3, 0.5, 0.9, 0.7, 0.5, 0.3, 0.1, 0.7, 0.5, 0.1])"
      ]
     },
     "execution_count": 5,
     "metadata": {},
     "output_type": "execute_result"
    }
   ],
   "source": [
    "A = np.random.rand(n).round(1)\n",
    "A"
   ]
  },
  {
   "cell_type": "code",
   "execution_count": 6,
   "id": "d082b920-2243-4f4b-bd97-6b4b16560c6c",
   "metadata": {},
   "outputs": [
    {
     "data": {
      "text/plain": [
       "array([0.3, 0.4, 0.8, 0.9, 0.4, 0.3, 0.7, 0.2, 0.9, 0.9])"
      ]
     },
     "execution_count": 6,
     "metadata": {},
     "output_type": "execute_result"
    }
   ],
   "source": [
    "B = np.random.rand(n).round(1)\n",
    "B"
   ]
  },
  {
   "cell_type": "code",
   "execution_count": 7,
   "id": "0a69b591-ecdf-446f-9207-a1292ae3110b",
   "metadata": {},
   "outputs": [
    {
     "data": {
      "text/plain": [
       "array([0.2, 0.6, 0.3, 0.5, 0.8, 0.3, 0.1, 1. , 0.5, 0.3])"
      ]
     },
     "execution_count": 7,
     "metadata": {},
     "output_type": "execute_result"
    }
   ],
   "source": [
    "C = np.random.rand(n).round(1)\n",
    "C"
   ]
  },
  {
   "cell_type": "code",
   "execution_count": 8,
   "id": "58b03732-4b8d-41a6-8898-857b9c1475d6",
   "metadata": {},
   "outputs": [
    {
     "name": "stdout",
     "output_type": "stream",
     "text": [
      "Left part of equation: [0.3 0.4 0.8 0.7 0.4 0.3 0.1 0.2 0.5 0.1]\n",
      "Right part of equation: [0.7 0.5 0.3 0.5 0.5 0.7 0.9 0.3 0.5 0.9]\n"
     ]
    }
   ],
   "source": [
    "l_part = AND(A, (OR(B, NOT(C))))\n",
    "r_part = (OR(NOT(A), AND(B, C)))\n",
    "\n",
    "print(f\"Left part of equation: {l_part}\")\n",
    "print(f\"Right part of equation: {r_part}\")"
   ]
  },
  {
   "cell_type": "code",
   "execution_count": 9,
   "id": "95cd7df5-156b-4aed-b172-a796fa13cd87",
   "metadata": {},
   "outputs": [
    {
     "data": {
      "text/plain": [
       "array([0.7, 0.6, 0.3, 0.5, 0.6, 0.7, 0.9, 0.8, 0.5, 0.9])"
      ]
     },
     "execution_count": 9,
     "metadata": {},
     "output_type": "execute_result"
    }
   ],
   "source": [
    "# f_5\n",
    "IMP(l_part, r_part)"
   ]
  },
  {
   "cell_type": "code",
   "execution_count": 10,
   "id": "01fc0334-2a90-43af-a6c5-d12f17cf7591",
   "metadata": {},
   "outputs": [
    {
     "data": {
      "text/html": [
       "<div>\n",
       "<style scoped>\n",
       "    .dataframe tbody tr th:only-of-type {\n",
       "        vertical-align: middle;\n",
       "    }\n",
       "\n",
       "    .dataframe tbody tr th {\n",
       "        vertical-align: top;\n",
       "    }\n",
       "\n",
       "    .dataframe thead th {\n",
       "        text-align: right;\n",
       "    }\n",
       "</style>\n",
       "<table border=\"1\" class=\"dataframe\">\n",
       "  <thead>\n",
       "    <tr style=\"text-align: right;\">\n",
       "      <th></th>\n",
       "      <th>A</th>\n",
       "      <th>B</th>\n",
       "      <th>C</th>\n",
       "      <th>NOT(A)</th>\n",
       "      <th>AND(A, B)</th>\n",
       "      <th>OR(A, B)</th>\n",
       "      <th>IMP(A, B)</th>\n",
       "      <th>EQU(A, B)</th>\n",
       "      <th>AND(A, (OR(B, NOT(C)))) == (OR(NOT(A), AND(B, C)))</th>\n",
       "    </tr>\n",
       "  </thead>\n",
       "  <tbody>\n",
       "    <tr>\n",
       "      <th>0</th>\n",
       "      <td>0.3</td>\n",
       "      <td>0.3</td>\n",
       "      <td>0.2</td>\n",
       "      <td>0.7</td>\n",
       "      <td>0.3</td>\n",
       "      <td>0.3</td>\n",
       "      <td>0.7</td>\n",
       "      <td>0.7</td>\n",
       "      <td>0.7</td>\n",
       "    </tr>\n",
       "    <tr>\n",
       "      <th>1</th>\n",
       "      <td>0.5</td>\n",
       "      <td>0.4</td>\n",
       "      <td>0.6</td>\n",
       "      <td>0.5</td>\n",
       "      <td>0.4</td>\n",
       "      <td>0.5</td>\n",
       "      <td>0.5</td>\n",
       "      <td>0.5</td>\n",
       "      <td>0.6</td>\n",
       "    </tr>\n",
       "    <tr>\n",
       "      <th>2</th>\n",
       "      <td>0.9</td>\n",
       "      <td>0.8</td>\n",
       "      <td>0.3</td>\n",
       "      <td>0.1</td>\n",
       "      <td>0.8</td>\n",
       "      <td>0.9</td>\n",
       "      <td>0.8</td>\n",
       "      <td>0.8</td>\n",
       "      <td>0.3</td>\n",
       "    </tr>\n",
       "    <tr>\n",
       "      <th>3</th>\n",
       "      <td>0.7</td>\n",
       "      <td>0.9</td>\n",
       "      <td>0.5</td>\n",
       "      <td>0.3</td>\n",
       "      <td>0.7</td>\n",
       "      <td>0.9</td>\n",
       "      <td>0.7</td>\n",
       "      <td>0.7</td>\n",
       "      <td>0.5</td>\n",
       "    </tr>\n",
       "    <tr>\n",
       "      <th>4</th>\n",
       "      <td>0.5</td>\n",
       "      <td>0.4</td>\n",
       "      <td>0.8</td>\n",
       "      <td>0.5</td>\n",
       "      <td>0.4</td>\n",
       "      <td>0.5</td>\n",
       "      <td>0.5</td>\n",
       "      <td>0.5</td>\n",
       "      <td>0.6</td>\n",
       "    </tr>\n",
       "    <tr>\n",
       "      <th>5</th>\n",
       "      <td>0.3</td>\n",
       "      <td>0.3</td>\n",
       "      <td>0.3</td>\n",
       "      <td>0.7</td>\n",
       "      <td>0.3</td>\n",
       "      <td>0.3</td>\n",
       "      <td>0.7</td>\n",
       "      <td>0.7</td>\n",
       "      <td>0.7</td>\n",
       "    </tr>\n",
       "    <tr>\n",
       "      <th>6</th>\n",
       "      <td>0.1</td>\n",
       "      <td>0.7</td>\n",
       "      <td>0.1</td>\n",
       "      <td>0.9</td>\n",
       "      <td>0.1</td>\n",
       "      <td>0.7</td>\n",
       "      <td>0.9</td>\n",
       "      <td>0.3</td>\n",
       "      <td>0.9</td>\n",
       "    </tr>\n",
       "    <tr>\n",
       "      <th>7</th>\n",
       "      <td>0.7</td>\n",
       "      <td>0.2</td>\n",
       "      <td>1.0</td>\n",
       "      <td>0.3</td>\n",
       "      <td>0.2</td>\n",
       "      <td>0.7</td>\n",
       "      <td>0.3</td>\n",
       "      <td>0.3</td>\n",
       "      <td>0.8</td>\n",
       "    </tr>\n",
       "    <tr>\n",
       "      <th>8</th>\n",
       "      <td>0.5</td>\n",
       "      <td>0.9</td>\n",
       "      <td>0.5</td>\n",
       "      <td>0.5</td>\n",
       "      <td>0.5</td>\n",
       "      <td>0.9</td>\n",
       "      <td>0.5</td>\n",
       "      <td>0.5</td>\n",
       "      <td>0.5</td>\n",
       "    </tr>\n",
       "    <tr>\n",
       "      <th>9</th>\n",
       "      <td>0.1</td>\n",
       "      <td>0.9</td>\n",
       "      <td>0.3</td>\n",
       "      <td>0.9</td>\n",
       "      <td>0.1</td>\n",
       "      <td>0.9</td>\n",
       "      <td>0.9</td>\n",
       "      <td>0.1</td>\n",
       "      <td>0.9</td>\n",
       "    </tr>\n",
       "  </tbody>\n",
       "</table>\n",
       "</div>"
      ],
      "text/plain": [
       "     A    B    C  NOT(A)  AND(A, B)  OR(A, B)  IMP(A, B)  EQU(A, B)  \\\n",
       "0  0.3  0.3  0.2     0.7        0.3       0.3        0.7        0.7   \n",
       "1  0.5  0.4  0.6     0.5        0.4       0.5        0.5        0.5   \n",
       "2  0.9  0.8  0.3     0.1        0.8       0.9        0.8        0.8   \n",
       "3  0.7  0.9  0.5     0.3        0.7       0.9        0.7        0.7   \n",
       "4  0.5  0.4  0.8     0.5        0.4       0.5        0.5        0.5   \n",
       "5  0.3  0.3  0.3     0.7        0.3       0.3        0.7        0.7   \n",
       "6  0.1  0.7  0.1     0.9        0.1       0.7        0.9        0.3   \n",
       "7  0.7  0.2  1.0     0.3        0.2       0.7        0.3        0.3   \n",
       "8  0.5  0.9  0.5     0.5        0.5       0.9        0.5        0.5   \n",
       "9  0.1  0.9  0.3     0.9        0.1       0.9        0.9        0.1   \n",
       "\n",
       "   AND(A, (OR(B, NOT(C)))) == (OR(NOT(A), AND(B, C)))  \n",
       "0                                                0.7   \n",
       "1                                                0.6   \n",
       "2                                                0.3   \n",
       "3                                                0.5   \n",
       "4                                                0.6   \n",
       "5                                                0.7   \n",
       "6                                                0.9   \n",
       "7                                                0.8   \n",
       "8                                                0.5   \n",
       "9                                                0.9   "
      ]
     },
     "execution_count": 10,
     "metadata": {},
     "output_type": "execute_result"
    }
   ],
   "source": [
    "df = pd.DataFrame({\"A\": A, \"B\": B, \"C\": C, \"NOT(A)\": NOT(A), \"AND(A, B)\": AND(A, B), \"OR(A, B)\": OR(A, B), \"IMP(A, B)\": IMP(A, B), \"EQU(A, B)\": EQU(A, B), \"AND(A, (OR(B, NOT(C)))) == (OR(NOT(A), AND(B, C)))\": IMP(l_part, r_part)})\n",
    "df"
   ]
  }
 ],
 "metadata": {
  "kernelspec": {
   "display_name": "Python 3 (ipykernel)",
   "language": "python",
   "name": "python3"
  },
  "language_info": {
   "codemirror_mode": {
    "name": "ipython",
    "version": 3
   },
   "file_extension": ".py",
   "mimetype": "text/x-python",
   "name": "python",
   "nbconvert_exporter": "python",
   "pygments_lexer": "ipython3",
   "version": "3.11.6"
  }
 },
 "nbformat": 4,
 "nbformat_minor": 5
}
