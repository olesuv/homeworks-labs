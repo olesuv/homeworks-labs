{
 "cells": [
  {
   "cell_type": "code",
   "execution_count": 1,
   "id": "19d6c47e-0e3b-4888-b64d-7f177f1d3274",
   "metadata": {},
   "outputs": [
    {
     "name": "stderr",
     "output_type": "stream",
     "text": [
      "2024-10-02 11:24:50.693635: I tensorflow/core/util/port.cc:153] oneDNN custom operations are on. You may see slightly different numerical results due to floating-point round-off errors from different computation orders. To turn them off, set the environment variable `TF_ENABLE_ONEDNN_OPTS=0`.\n",
      "2024-10-02 11:24:50.694413: I external/local_xla/xla/tsl/cuda/cudart_stub.cc:32] Could not find cuda drivers on your machine, GPU will not be used.\n",
      "2024-10-02 11:24:50.699600: I external/local_xla/xla/tsl/cuda/cudart_stub.cc:32] Could not find cuda drivers on your machine, GPU will not be used.\n",
      "2024-10-02 11:24:50.717429: E external/local_xla/xla/stream_executor/cuda/cuda_fft.cc:485] Unable to register cuFFT factory: Attempting to register factory for plugin cuFFT when one has already been registered\n",
      "2024-10-02 11:24:50.745751: E external/local_xla/xla/stream_executor/cuda/cuda_dnn.cc:8454] Unable to register cuDNN factory: Attempting to register factory for plugin cuDNN when one has already been registered\n",
      "2024-10-02 11:24:50.753993: E external/local_xla/xla/stream_executor/cuda/cuda_blas.cc:1452] Unable to register cuBLAS factory: Attempting to register factory for plugin cuBLAS when one has already been registered\n",
      "2024-10-02 11:24:50.775272: I tensorflow/core/platform/cpu_feature_guard.cc:210] This TensorFlow binary is optimized to use available CPU instructions in performance-critical operations.\n",
      "To enable the following instructions: AVX2 AVX512F AVX512_VNNI FMA, in other operations, rebuild TensorFlow with the appropriate compiler flags.\n",
      "2024-10-02 11:24:52.287862: W tensorflow/compiler/tf2tensorrt/utils/py_utils.cc:38] TF-TRT Warning: Could not find TensorRT\n"
     ]
    }
   ],
   "source": [
    "import numpy as np\n",
    "import tensorflow as tf\n",
    "from tensorflow import keras\n",
    "from tensorflow.keras import layers\n",
    "import matplotlib.pyplot as plt\n",
    "import pandas as pd\n",
    "from sklearn.metrics import classification_report\n",
    "import visualkeras"
   ]
  },
  {
   "cell_type": "code",
   "execution_count": 4,
   "id": "950854f4-089d-4e11-9867-b8a09ae1b300",
   "metadata": {},
   "outputs": [],
   "source": [
    "(x_train, y_train), (x_test, y_test) = keras.datasets.fashion_mnist.load_data()\n",
    "\n",
    "M_x_train = x_train.astype(\"float32\") / 255.0\n",
    "M_x_test = x_test.astype(\"float32\") / 255.0\n",
    "\n",
    "# Розширення розмірності для згорткових шарів\n",
    "M_x_train = np.expand_dims(x_train, -1)\n",
    "M_x_test = np.expand_dims(x_test, -1)\n",
    "\n",
    "# Розділення на тренувальний та валідаційний набори\n",
    "val_size = 10000\n",
    "M_x_val = x_train[-val_size:]\n",
    "M_y_val = y_train[-val_size:]\n",
    "M_x_train = x_train[:-val_size]\n",
    "M_y_train = y_train[:-val_size]"
   ]
  },
  {
   "cell_type": "code",
   "execution_count": 5,
   "id": "8e8894fe-af9b-4a4f-8523-35f78fa831b0",
   "metadata": {},
   "outputs": [],
   "source": [
    "(x_train, y_train), (x_test, y_test) = keras.datasets.cifar10.load_data()\n",
    "\n",
    "C_x_train = x_train.astype(\"float32\") / 255.0\n",
    "C_x_test = x_test.astype(\"float32\") / 255.0\n",
    "\n",
    "# Розширення розмірності для згорткових шарів\n",
    "C_x_train = np.expand_dims(x_train, -1)\n",
    "C_x_test = np.expand_dims(x_test, -1)\n",
    "\n",
    "# Розділення на тренувальний та валідаційний набори\n",
    "val_size = 10000\n",
    "C_x_val = x_train[-val_size:]\n",
    "C_y_val = y_train[-val_size:]\n",
    "C_x_train = x_train[:-val_size]\n",
    "C_y_train = y_train[:-val_size]"
   ]
  },
  {
   "cell_type": "code",
   "execution_count": 6,
   "id": "98a8fa29-7b47-4b31-880e-552ee4d9a080",
   "metadata": {},
   "outputs": [
    {
     "data": {
      "text/plain": [
       "((50000, 28, 28), (40000, 32, 32, 3))"
      ]
     },
     "execution_count": 6,
     "metadata": {},
     "output_type": "execute_result"
    }
   ],
   "source": [
    "M_x_train.shape, C_x_train.shape"
   ]
  },
  {
   "cell_type": "code",
   "execution_count": 7,
   "id": "f3514c7a-ddea-49c5-b3e7-733658b34737",
   "metadata": {},
   "outputs": [],
   "source": [
    "def train_model(model, epochs=10, batch_size=32):\n",
    "    model.compile(optimizer='adam', loss='sparse_categorical_crossentropy', metrics=['accuracy'])\n",
    "    \n",
    "    history = model.fit(x_train, y_train, \n",
    "                        validation_data=(x_val, y_val),\n",
    "                        epochs=epochs, \n",
    "                        batch_size=batch_size)\n",
    "    return history\n",
    "\n",
    "def plot_learning_curve(history, title):\n",
    "    plt.figure(figsize=(12, 4))\n",
    "    plt.subplot(1, 2, 1)\n",
    "    plt.plot(history.history['accuracy'], label='Train')\n",
    "    plt.plot(history.history['val_accuracy'], label='Validation')\n",
    "    plt.title(f'{title} - Accuracy')\n",
    "    plt.xlabel('Epoch')\n",
    "    plt.ylabel('Accuracy')\n",
    "    plt.legend()\n",
    "\n",
    "    plt.subplot(1, 2, 2)\n",
    "    plt.plot(history.history['loss'], label='Train')\n",
    "    plt.plot(history.history['val_loss'], label='Validation')\n",
    "    plt.title(f'{title} - Loss')\n",
    "    plt.xlabel('Epoch')\n",
    "    plt.ylabel('Loss')\n",
    "    plt.legend()\n",
    "    plt.tight_layout()\n",
    "    plt.show()\n",
    "\n",
    "def print_classification_report(model, x, y):\n",
    "    y_pred = model.predict(x)\n",
    "    y_pred_classes = np.argmax(y_pred, axis=1)\n",
    "    print(classification_report(y, y_pred_classes, target_names=class_names))\n",
    "\n",
    "def classify_random_samples(model, x, y, num_samples=20):\n",
    "    indices = np.random.choice(len(x), num_samples, replace=False)\n",
    "    x_samples = x[indices]\n",
    "    y_samples = y[indices]\n",
    "    \n",
    "    y_pred = model.predict(x_samples)\n",
    "    y_pred_classes = np.argmax(y_pred, axis=1)\n",
    "    \n",
    "    fig, axes = plt.subplots(4, 5, figsize=(15, 12))\n",
    "    for i, ax in enumerate(axes.flat):\n",
    "        if i < num_samples:\n",
    "            ax.imshow(x_samples[i].reshape(28, 28), cmap='gray')\n",
    "            true_label = class_names[y_samples[i]]\n",
    "            pred_label = class_names[y_pred_classes[i]]\n",
    "            color = 'green' if true_label == pred_label else 'red'\n",
    "            ax.set_title(f\"True: {true_label}\\nPred: {pred_label}\", color=color)\n",
    "        ax.axis('off')\n",
    "    plt.tight_layout()\n",
    "    plt.show()"
   ]
  },
  {
   "cell_type": "code",
   "execution_count": null,
   "id": "64f38c26-760d-4fb7-b02c-4581fe6eed33",
   "metadata": {},
   "outputs": [],
   "source": []
  }
 ],
 "metadata": {
  "kernelspec": {
   "display_name": "Python 3 (ipykernel)",
   "language": "python",
   "name": "python3"
  },
  "language_info": {
   "codemirror_mode": {
    "name": "ipython",
    "version": 3
   },
   "file_extension": ".py",
   "mimetype": "text/x-python",
   "name": "python",
   "nbconvert_exporter": "python",
   "pygments_lexer": "ipython3",
   "version": "3.12.3"
  }
 },
 "nbformat": 4,
 "nbformat_minor": 5
}
